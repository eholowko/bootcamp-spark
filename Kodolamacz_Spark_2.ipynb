{
 "cells": [
  {
   "cell_type": "markdown",
   "metadata": {},
   "source": [
    "# APACHE SPARK\n",
    "\n",
    "### Dzień 2\n",
    "\n",
    "#### Spark SQL + Spark ML"
   ]
  },
  {
   "cell_type": "code",
   "execution_count": 1,
   "metadata": {},
   "outputs": [],
   "source": [
    "from pyspark.sql import SparkSession\n",
    "from pyspark.sql import functions as f"
   ]
  },
  {
   "cell_type": "code",
   "execution_count": 2,
   "metadata": {},
   "outputs": [],
   "source": [
    "spark = SparkSession.builder.appName('my_app').master(\"local[*]\").getOrCreate()"
   ]
  },
  {
   "cell_type": "markdown",
   "metadata": {},
   "source": [
    "### Wektory"
   ]
  },
  {
   "cell_type": "code",
   "execution_count": 3,
   "metadata": {},
   "outputs": [],
   "source": [
    "from pyspark.ml.linalg import Vectors\n",
    "from pyspark.ml.stat import Correlation\n",
    "from pyspark.ml import feature"
   ]
  },
  {
   "cell_type": "markdown",
   "metadata": {},
   "source": [
    "**Dwa typy wektorów:**\n",
    "- sparse - większość wartości to zera więc w celu optymalizacji zajmowanej pamięci podawane są tylko indeksy (wraz z wartościami) gdzie wartość != 0\n",
    "- dense - podane są wszystkie wartości"
   ]
  },
  {
   "cell_type": "code",
   "execution_count": 4,
   "metadata": {},
   "outputs": [
    {
     "name": "stdout",
     "output_type": "stream",
     "text": [
      "+--------------------+-----+---+\n",
      "|            features|categ|num|\n",
      "+--------------------+-----+---+\n",
      "|(4,[0,3],[1.0,-2.0])|    A|  1|\n",
      "|   [4.0,5.0,0.0,3.0]|    B|  6|\n",
      "|   [6.0,7.0,0.0,8.0]|    A|  3|\n",
      "| (4,[0,3],[9.0,1.0])|    B|  2|\n",
      "+--------------------+-----+---+\n",
      "\n"
     ]
    }
   ],
   "source": [
    "data = [(Vectors.sparse(4, [(0, 1.0), (3, -2.0)]),\"A\",1),\n",
    "        (Vectors.dense([4.0, 5.0, 0.0, 3.0]),\"B\",6),\n",
    "        (Vectors.dense([6.0, 7.0, 0.0, 8.0]),\"A\",3),\n",
    "        (Vectors.sparse(4, [(0, 9.0), (3, 1.0)]),\"B\",2)]\n",
    "dummy_df = spark.createDataFrame(data, [\"features\", \"categ\", \"num\"])\n",
    "dummy_df.show()"
   ]
  },
  {
   "cell_type": "code",
   "execution_count": 5,
   "metadata": {},
   "outputs": [
    {
     "name": "stdout",
     "output_type": "stream",
     "text": [
      "root\n",
      " |-- features: vector (nullable = true)\n",
      " |-- categ: string (nullable = true)\n",
      " |-- num: long (nullable = true)\n",
      "\n"
     ]
    }
   ],
   "source": [
    "dummy_df.printSchema()"
   ]
  },
  {
   "cell_type": "code",
   "execution_count": 6,
   "metadata": {},
   "outputs": [
    {
     "name": "stdout",
     "output_type": "stream",
     "text": [
      "DenseMatrix([[1.        , 0.05564149,        nan, 0.40047142],\n",
      "             [0.05564149, 1.        ,        nan, 0.91359586],\n",
      "             [       nan,        nan, 1.        ,        nan],\n",
      "             [0.40047142, 0.91359586,        nan, 1.        ]])\n"
     ]
    }
   ],
   "source": [
    "# macierz korelacji\n",
    "print(Correlation.corr(dummy_df, \"features\").head()[0])"
   ]
  },
  {
   "cell_type": "code",
   "execution_count": 7,
   "metadata": {},
   "outputs": [
    {
     "data": {
      "text/plain": [
       "0.055641488407465814"
      ]
     },
     "execution_count": 7,
     "metadata": {},
     "output_type": "execute_result"
    }
   ],
   "source": [
    "Correlation.corr(dummy_df, \"features\").head()[0][0,1]"
   ]
  },
  {
   "cell_type": "markdown",
   "metadata": {},
   "source": [
    "**Przechodzenie od kolumny kategorycznej do wektora**"
   ]
  },
  {
   "cell_type": "code",
   "execution_count": 8,
   "metadata": {},
   "outputs": [],
   "source": [
    "indexer = feature.StringIndexer(inputCol=\"categ\", outputCol=\"categIndex\")"
   ]
  },
  {
   "cell_type": "code",
   "execution_count": 9,
   "metadata": {},
   "outputs": [],
   "source": [
    "IDXmodel = indexer.fit(dummy_df)"
   ]
  },
  {
   "cell_type": "code",
   "execution_count": 10,
   "metadata": {},
   "outputs": [
    {
     "name": "stdout",
     "output_type": "stream",
     "text": [
      "+--------------------+-----+---+----------+\n",
      "|            features|categ|num|categIndex|\n",
      "+--------------------+-----+---+----------+\n",
      "|(4,[0,3],[1.0,-2.0])|    A|  1|       1.0|\n",
      "|   [4.0,5.0,0.0,3.0]|    B|  6|       0.0|\n",
      "|   [6.0,7.0,0.0,8.0]|    A|  3|       1.0|\n",
      "| (4,[0,3],[9.0,1.0])|    B|  2|       0.0|\n",
      "+--------------------+-----+---+----------+\n",
      "\n"
     ]
    }
   ],
   "source": [
    "dummy_df1 = IDXmodel.transform(dummy_df)\n",
    "dummy_df1.show()"
   ]
  },
  {
   "cell_type": "code",
   "execution_count": 11,
   "metadata": {},
   "outputs": [],
   "source": [
    "OHencoder = feature.OneHotEncoderEstimator(inputCols=[\"categIndex\"], outputCols=[\"categVect\"])"
   ]
  },
  {
   "cell_type": "code",
   "execution_count": 12,
   "metadata": {},
   "outputs": [],
   "source": [
    "OHmodel = OHencoder.fit(dummy_df1)"
   ]
  },
  {
   "cell_type": "code",
   "execution_count": 13,
   "metadata": {},
   "outputs": [
    {
     "name": "stdout",
     "output_type": "stream",
     "text": [
      "+--------------------+-----+---+----------+-------------+\n",
      "|            features|categ|num|categIndex|    categVect|\n",
      "+--------------------+-----+---+----------+-------------+\n",
      "|(4,[0,3],[1.0,-2.0])|    A|  1|       1.0|    (1,[],[])|\n",
      "|   [4.0,5.0,0.0,3.0]|    B|  6|       0.0|(1,[0],[1.0])|\n",
      "|   [6.0,7.0,0.0,8.0]|    A|  3|       1.0|    (1,[],[])|\n",
      "| (4,[0,3],[9.0,1.0])|    B|  2|       0.0|(1,[0],[1.0])|\n",
      "+--------------------+-----+---+----------+-------------+\n",
      "\n"
     ]
    }
   ],
   "source": [
    "dummy_df2 = OHmodel.transform(dummy_df1)\n",
    "dummy_df2.show()"
   ]
  },
  {
   "cell_type": "markdown",
   "metadata": {},
   "source": [
    "**Łączenie zmiennych w wektory**"
   ]
  },
  {
   "cell_type": "code",
   "execution_count": 14,
   "metadata": {},
   "outputs": [
    {
     "name": "stdout",
     "output_type": "stream",
     "text": [
      "+--------------------+-----+---+----------+-------------+--------------------------+\n",
      "|features            |categ|num|categIndex|categVect    |featuresFull              |\n",
      "+--------------------+-----+---+----------+-------------+--------------------------+\n",
      "|(4,[0,3],[1.0,-2.0])|A    |1  |1.0       |(1,[],[])    |[1.0,0.0,0.0,-2.0,1.0,0.0]|\n",
      "|[4.0,5.0,0.0,3.0]   |B    |6  |0.0       |(1,[0],[1.0])|[4.0,5.0,0.0,3.0,6.0,1.0] |\n",
      "|[6.0,7.0,0.0,8.0]   |A    |3  |1.0       |(1,[],[])    |[6.0,7.0,0.0,8.0,3.0,0.0] |\n",
      "|(4,[0,3],[9.0,1.0]) |B    |2  |0.0       |(1,[0],[1.0])|[9.0,0.0,0.0,1.0,2.0,1.0] |\n",
      "+--------------------+-----+---+----------+-------------+--------------------------+\n",
      "\n"
     ]
    }
   ],
   "source": [
    "vectAssembler = feature.VectorAssembler(inputCols = [\"features\", \"num\", \"categVect\"], outputCol = \"featuresFull\")\n",
    "dummy_df3 = vectAssembler.transform(dummy_df2)\n",
    "dummy_df3.show(truncate=False)"
   ]
  },
  {
   "cell_type": "markdown",
   "metadata": {},
   "source": [
    "**Normalizacja / skalowanie zmiennych**"
   ]
  },
  {
   "cell_type": "markdown",
   "metadata": {},
   "source": [
    "L2"
   ]
  },
  {
   "cell_type": "code",
   "execution_count": 16,
   "metadata": {},
   "outputs": [],
   "source": [
    "normalizerL2 = feature.Normalizer(inputCol=\"featuresFull\", outputCol=\"featuresNorm\")"
   ]
  },
  {
   "cell_type": "code",
   "execution_count": 17,
   "metadata": {},
   "outputs": [
    {
     "name": "stdout",
     "output_type": "stream",
     "text": [
      "+--------------------------+\n",
      "|featuresFull              |\n",
      "+--------------------------+\n",
      "|[1.0,0.0,0.0,-2.0,1.0,0.0]|\n",
      "|[4.0,5.0,0.0,3.0,6.0,1.0] |\n",
      "|[6.0,7.0,0.0,8.0,3.0,0.0] |\n",
      "|[9.0,0.0,0.0,1.0,2.0,1.0] |\n",
      "+--------------------------+\n",
      "\n",
      "+-----------------------------------------------------------------------------------------------------+\n",
      "|featuresNorm                                                                                         |\n",
      "+-----------------------------------------------------------------------------------------------------+\n",
      "|[0.4082482904638631,0.0,0.0,-0.8164965809277261,0.4082482904638631,0.0]                              |\n",
      "|[0.4288450139351179,0.5360562674188973,0.0,0.3216337604513384,0.6432675209026768,0.10721125348377948]|\n",
      "|[0.47733437050543803,0.556890098923011,0.0,0.636445827340584,0.23866718525271902,0.0]                |\n",
      "|[0.9649012813540153,0.0,0.0,0.10721125348377948,0.21442250696755896,0.10721125348377948]             |\n",
      "+-----------------------------------------------------------------------------------------------------+\n",
      "\n"
     ]
    }
   ],
   "source": [
    "dummy_df3.select(\"featuresFull\").show(truncate=False)\n",
    "normalizerL2.transform(dummy_df3).select(\"featuresNorm\").show(truncate=False)"
   ]
  },
  {
   "cell_type": "markdown",
   "metadata": {},
   "source": [
    "L1"
   ]
  },
  {
   "cell_type": "code",
   "execution_count": 18,
   "metadata": {},
   "outputs": [
    {
     "name": "stdout",
     "output_type": "stream",
     "text": [
      "+--------------------------+\n",
      "|featuresFull              |\n",
      "+--------------------------+\n",
      "|[1.0,0.0,0.0,-2.0,1.0,0.0]|\n",
      "|[4.0,5.0,0.0,3.0,6.0,1.0] |\n",
      "|[6.0,7.0,0.0,8.0,3.0,0.0] |\n",
      "|[9.0,0.0,0.0,1.0,2.0,1.0] |\n",
      "+--------------------------+\n",
      "\n",
      "+-------------------------------------------------------------------------------------------------------+\n",
      "|featuresNorm                                                                                           |\n",
      "+-------------------------------------------------------------------------------------------------------+\n",
      "|[0.25,0.0,0.0,-0.5,0.25,0.0]                                                                           |\n",
      "|[0.21052631578947367,0.2631578947368421,0.0,0.15789473684210525,0.3157894736842105,0.05263157894736842]|\n",
      "|[0.25,0.2916666666666667,0.0,0.3333333333333333,0.125,0.0]                                             |\n",
      "|[0.6923076923076923,0.0,0.0,0.07692307692307693,0.15384615384615385,0.07692307692307693]               |\n",
      "+-------------------------------------------------------------------------------------------------------+\n",
      "\n"
     ]
    }
   ],
   "source": [
    "normalizerL1 = feature.Normalizer(inputCol=\"featuresFull\", outputCol=\"featuresNorm\", p=1.0)\n",
    "dummy_df3.select(\"featuresFull\").show(truncate=False)\n",
    "normalizerL1.transform(dummy_df3).select(\"featuresNorm\").show(truncate=False)"
   ]
  },
  {
   "cell_type": "markdown",
   "metadata": {},
   "source": [
    "Skalowanie"
   ]
  },
  {
   "cell_type": "code",
   "execution_count": 19,
   "metadata": {},
   "outputs": [],
   "source": [
    "scaler = feature.StandardScaler(inputCol=\"featuresFull\", outputCol=\"featuresScal\")"
   ]
  },
  {
   "cell_type": "code",
   "execution_count": 20,
   "metadata": {},
   "outputs": [],
   "source": [
    "scalerModel = scaler.fit(dummy_df3)"
   ]
  },
  {
   "cell_type": "code",
   "execution_count": 21,
   "metadata": {},
   "outputs": [
    {
     "name": "stdout",
     "output_type": "stream",
     "text": [
      "+--------------------------+\n",
      "|featuresFull              |\n",
      "+--------------------------+\n",
      "|[1.0,0.0,0.0,-2.0,1.0,0.0]|\n",
      "|[4.0,5.0,0.0,3.0,6.0,1.0] |\n",
      "|[6.0,7.0,0.0,8.0,3.0,0.0] |\n",
      "|[9.0,0.0,0.0,1.0,2.0,1.0] |\n",
      "+--------------------------+\n",
      "\n",
      "+---------------------------------------------------------------------------------------------------+\n",
      "|featuresScal                                                                                       |\n",
      "+---------------------------------------------------------------------------------------------------+\n",
      "|[0.2970442628930023,0.0,0.0,-0.47583095143088644,0.4629100498862757,0.0]                           |\n",
      "|[1.1881770515720091,1.404878717372541,0.0,0.7137464271463296,2.7774602993176543,1.7320508075688774]|\n",
      "|[1.7822655773580136,1.9668302043215575,0.0,1.9033238057235458,1.3887301496588271,0.0]              |\n",
      "|[2.6733983660370204,0.0,0.0,0.23791547571544322,0.9258200997725514,1.7320508075688774]             |\n",
      "+---------------------------------------------------------------------------------------------------+\n",
      "\n"
     ]
    }
   ],
   "source": [
    "dummy_df3.select(\"featuresFull\").show(truncate=False)\n",
    "scalerModel.transform(dummy_df3).select(\"featuresScal\").show(truncate=False)"
   ]
  },
  {
   "cell_type": "markdown",
   "metadata": {},
   "source": [
    "Skalowanie min-max *(w wyniku transformacji powstaje DenseVector)*"
   ]
  },
  {
   "cell_type": "code",
   "execution_count": 22,
   "metadata": {},
   "outputs": [],
   "source": [
    "MMscaler = feature.MinMaxScaler(inputCol=\"featuresFull\", outputCol=\"featuresScal\")"
   ]
  },
  {
   "cell_type": "code",
   "execution_count": 23,
   "metadata": {},
   "outputs": [],
   "source": [
    "MMscalerModel = MMscaler.fit(dummy_df3)"
   ]
  },
  {
   "cell_type": "code",
   "execution_count": 24,
   "metadata": {},
   "outputs": [
    {
     "name": "stdout",
     "output_type": "stream",
     "text": [
      "+--------------------------+\n",
      "|featuresFull              |\n",
      "+--------------------------+\n",
      "|[1.0,0.0,0.0,-2.0,1.0,0.0]|\n",
      "|[4.0,5.0,0.0,3.0,6.0,1.0] |\n",
      "|[6.0,7.0,0.0,8.0,3.0,0.0] |\n",
      "|[9.0,0.0,0.0,1.0,2.0,1.0] |\n",
      "+--------------------------+\n",
      "\n",
      "+------------------------------------------+\n",
      "|featuresScal                              |\n",
      "+------------------------------------------+\n",
      "|[0.0,0.0,0.5,0.0,0.0,0.0]                 |\n",
      "|[0.375,0.7142857142857143,0.5,0.5,1.0,1.0]|\n",
      "|[0.625,1.0,0.5,1.0,0.4,0.0]               |\n",
      "|[1.0,0.0,0.5,0.3,0.2,1.0]                 |\n",
      "+------------------------------------------+\n",
      "\n"
     ]
    }
   ],
   "source": [
    "dummy_df3.select(\"featuresFull\").show(truncate=False)\n",
    "MMscalerModel.transform(dummy_df3).select(\"featuresScal\").show(truncate=False)"
   ]
  },
  {
   "cell_type": "markdown",
   "metadata": {},
   "source": [
    "**PCA**"
   ]
  },
  {
   "cell_type": "code",
   "execution_count": 25,
   "metadata": {},
   "outputs": [],
   "source": [
    "pca = feature.PCA(k=3, inputCol=\"featuresFull\", outputCol=\"featuresPCA\")"
   ]
  },
  {
   "cell_type": "code",
   "execution_count": 26,
   "metadata": {},
   "outputs": [],
   "source": [
    "PCAmodel = pca.fit(dummy_df3)"
   ]
  },
  {
   "cell_type": "code",
   "execution_count": 27,
   "metadata": {},
   "outputs": [
    {
     "name": "stdout",
     "output_type": "stream",
     "text": [
      "+--------------------------+----------------------------------------------------------+\n",
      "|featuresFull              |featuresPCA                                               |\n",
      "+--------------------------+----------------------------------------------------------+\n",
      "|[1.0,0.0,0.0,-2.0,1.0,0.0]|[1.023488773489829,0.63446709320338,-1.7496631681306285]  |\n",
      "|[4.0,5.0,0.0,3.0,6.0,1.0] |[-7.435741063599587,1.099445815146323,-5.386313460836334] |\n",
      "|[6.0,7.0,0.0,8.0,3.0,0.0] |[-12.10504284268931,2.936501175508072,-1.1646019004907298]|\n",
      "|[9.0,0.0,0.0,1.0,2.0,1.0] |[-3.233791315365656,8.019877441717323,-3.2765162157739773]|\n",
      "+--------------------------+----------------------------------------------------------+\n",
      "\n"
     ]
    }
   ],
   "source": [
    "PCAmodel.transform(dummy_df3).select(\"featuresFull\", \"featuresPCA\").show(truncate=False)"
   ]
  },
  {
   "cell_type": "markdown",
   "metadata": {},
   "source": [
    "> **ZADANIE:**\n",
    "- przygotuj poniższe dane\n",
    "- usuń wiersze zawierające braki danych\n",
    "- stwórz kolumnę zawierającą miesiąc wyciągnięty z kolumny `start_time`\n",
    "- stwórz kolumnę zawierającą informację o godzinie o której wystąpiło wyporzyczenie\n",
    "- stwórz kolumnę zawierającą informacje o przedziale wiekowym wyporzyczającego (przedziały: <20, 20-40, 40-60, 60<)\n",
    "- zaokrąglij do jednego miejsca po przecinku wartości w kolumnach `start_station_longitude` oraz `start_station_latitude`\n",
    "- usuń kolumny: `start_time`, `end_time`, `start_station_name`, `start_station_id`, `end_station_id`, `end_station_name`, `end_station_latitude`, `end_station_longitude`, `member_birth_year`, `bike_id`\n",
    "- zmień nazwę kolumny `duration_sec` na `label`\n",
    "- z pozostałych zmiennych stwórz kolumnę `features` zawierającą wektory\n",
    "- wynikowemu DataFrameowi nadaj nazwę `goBike_processed`"
   ]
  },
  {
   "cell_type": "code",
   "execution_count": 46,
   "metadata": {},
   "outputs": [],
   "source": [
    "goBike = spark.read.csv(\"./2017-fordgobike-tripdata.csv\", header=True, inferSchema=True)"
   ]
  },
  {
   "cell_type": "code",
   "execution_count": 29,
   "metadata": {},
   "outputs": [
    {
     "name": "stdout",
     "output_type": "stream",
     "text": [
      "root\n",
      " |-- duration_sec: integer (nullable = true)\n",
      " |-- start_time: timestamp (nullable = true)\n",
      " |-- end_time: timestamp (nullable = true)\n",
      " |-- start_station_id: integer (nullable = true)\n",
      " |-- start_station_name: string (nullable = true)\n",
      " |-- start_station_latitude: double (nullable = true)\n",
      " |-- start_station_longitude: double (nullable = true)\n",
      " |-- end_station_id: integer (nullable = true)\n",
      " |-- end_station_name: string (nullable = true)\n",
      " |-- end_station_latitude: double (nullable = true)\n",
      " |-- end_station_longitude: double (nullable = true)\n",
      " |-- bike_id: integer (nullable = true)\n",
      " |-- user_type: string (nullable = true)\n",
      " |-- member_birth_year: integer (nullable = true)\n",
      " |-- member_gender: string (nullable = true)\n",
      "\n"
     ]
    }
   ],
   "source": [
    "goBike.printSchema()"
   ]
  },
  {
   "cell_type": "code",
   "execution_count": 79,
   "metadata": {},
   "outputs": [],
   "source": [
    "goBike_proc = goBike.dropna()"
   ]
  },
  {
   "cell_type": "code",
   "execution_count": 80,
   "metadata": {},
   "outputs": [],
   "source": [
    "goBike_proc = goBike_proc.withColumn('month',f.month('start_time'))"
   ]
  },
  {
   "cell_type": "code",
   "execution_count": 81,
   "metadata": {},
   "outputs": [
    {
     "data": {
      "text/plain": [
       "['duration_sec',\n",
       " 'start_time',\n",
       " 'end_time',\n",
       " 'start_station_id',\n",
       " 'start_station_name',\n",
       " 'start_station_latitude',\n",
       " 'start_station_longitude',\n",
       " 'end_station_id',\n",
       " 'end_station_name',\n",
       " 'end_station_latitude',\n",
       " 'end_station_longitude',\n",
       " 'bike_id',\n",
       " 'user_type',\n",
       " 'member_birth_year',\n",
       " 'member_gender',\n",
       " 'month']"
      ]
     },
     "execution_count": 81,
     "metadata": {},
     "output_type": "execute_result"
    }
   ],
   "source": [
    "goBike_proc.columns"
   ]
  },
  {
   "cell_type": "code",
   "execution_count": 82,
   "metadata": {},
   "outputs": [],
   "source": [
    "goBike_proc = goBike_proc.withColumn('hour',f.hour('start_time'))"
   ]
  },
  {
   "cell_type": "code",
   "execution_count": 83,
   "metadata": {},
   "outputs": [],
   "source": [
    "goBike_proc = goBike_proc.withColumn('age',2018-goBike['member_birth_year'])"
   ]
  },
  {
   "cell_type": "code",
   "execution_count": 84,
   "metadata": {},
   "outputs": [],
   "source": [
    "goBike_proc = goBike_proc.withColumn('age_range',f.when(goBike_proc['age']<20,'<20')\\\n",
    "                       .when((goBike_proc['age']>=20) & (goBike_proc['age']<40),'20-40')\\\n",
    "                       .when((goBike_proc['age']>=40) & (goBike_proc['age']<60),'40-60')\\\n",
    "                       .otherwise('60<'))"
   ]
  },
  {
   "cell_type": "code",
   "execution_count": 85,
   "metadata": {},
   "outputs": [
    {
     "data": {
      "text/plain": [
       "['duration_sec',\n",
       " 'start_time',\n",
       " 'end_time',\n",
       " 'start_station_id',\n",
       " 'start_station_name',\n",
       " 'start_station_latitude',\n",
       " 'start_station_longitude',\n",
       " 'end_station_id',\n",
       " 'end_station_name',\n",
       " 'end_station_latitude',\n",
       " 'end_station_longitude',\n",
       " 'bike_id',\n",
       " 'user_type',\n",
       " 'member_birth_year',\n",
       " 'member_gender',\n",
       " 'month',\n",
       " 'hour',\n",
       " 'age',\n",
       " 'age_range']"
      ]
     },
     "execution_count": 85,
     "metadata": {},
     "output_type": "execute_result"
    }
   ],
   "source": [
    "goBike_proc.columns"
   ]
  },
  {
   "cell_type": "code",
   "execution_count": 86,
   "metadata": {},
   "outputs": [],
   "source": [
    "goBike_proc = goBike_proc.withColumn('start_station_latitude',f.round('start_station_latitude',1))"
   ]
  },
  {
   "cell_type": "code",
   "execution_count": 87,
   "metadata": {},
   "outputs": [],
   "source": [
    "goBike_proc = goBike_proc.withColumn('start_station_longitude',f.round('start_station_longitude',1))"
   ]
  },
  {
   "cell_type": "code",
   "execution_count": 88,
   "metadata": {},
   "outputs": [],
   "source": [
    "goBike_proc = goBike_proc.drop('start_time', 'end_time', 'start_station_name', 'start_station_id',\n",
    "                  'end_station_id', 'end_station_name', 'end_station_latitude',\n",
    "                  'end_station_longitude', 'member_birth_year', 'bike_id')"
   ]
  },
  {
   "cell_type": "code",
   "execution_count": 89,
   "metadata": {},
   "outputs": [],
   "source": [
    "goBike_proc = goBike_proc.drop('age')"
   ]
  },
  {
   "cell_type": "code",
   "execution_count": 90,
   "metadata": {},
   "outputs": [
    {
     "data": {
      "text/plain": [
       "['duration_sec',\n",
       " 'start_station_latitude',\n",
       " 'start_station_longitude',\n",
       " 'user_type',\n",
       " 'member_gender',\n",
       " 'month',\n",
       " 'hour',\n",
       " 'age_range']"
      ]
     },
     "execution_count": 90,
     "metadata": {},
     "output_type": "execute_result"
    }
   ],
   "source": [
    "goBike_proc.columns"
   ]
  },
  {
   "cell_type": "code",
   "execution_count": 91,
   "metadata": {},
   "outputs": [],
   "source": [
    "goBike_proc = goBike_proc.withColumnRenamed('duration_sec','label')"
   ]
  },
  {
   "cell_type": "code",
   "execution_count": 92,
   "metadata": {},
   "outputs": [
    {
     "data": {
      "text/plain": [
       "['label',\n",
       " 'start_station_latitude',\n",
       " 'start_station_longitude',\n",
       " 'user_type',\n",
       " 'member_gender',\n",
       " 'month',\n",
       " 'hour',\n",
       " 'age_range']"
      ]
     },
     "execution_count": 92,
     "metadata": {},
     "output_type": "execute_result"
    }
   ],
   "source": [
    "goBike_proc.columns"
   ]
  },
  {
   "cell_type": "code",
   "execution_count": 93,
   "metadata": {},
   "outputs": [
    {
     "name": "stdout",
     "output_type": "stream",
     "text": [
      "+-----+----------------------+-----------------------+----------+-------------+-----+----+---------+\n",
      "|label|start_station_latitude|start_station_longitude| user_type|member_gender|month|hour|age_range|\n",
      "+-----+----------------------+-----------------------+----------+-------------+-----+----+---------+\n",
      "|80110|                  37.8|                 -122.4|  Customer|         Male|   12|  16|    20-40|\n",
      "|78800|                  37.8|                 -122.4|  Customer|       Female|   12|  15|    40-60|\n",
      "|43603|                  37.9|                 -122.3|Subscriber|       Female|   12|  14|    20-40|\n",
      "| 4507|                  37.9|                 -122.3|  Customer|       Female|   12|  23|    20-40|\n",
      "| 2183|                  37.8|                 -122.4|Subscriber|         Male|   12|  23|    20-40|\n",
      "| 2170|                  37.8|                 -122.4|Subscriber|         Male|   12|  23|    20-40|\n",
      "| 1544|                  37.8|                 -122.4|Subscriber|       Female|   12|  23|    20-40|\n",
      "| 1474|                  37.8|                 -122.4|Subscriber|         Male|   12|  23|    20-40|\n",
      "| 1532|                  37.8|                 -122.4|Subscriber|        Other|   12|  23|    20-40|\n",
      "| 1216|                  37.8|                 -122.4|Subscriber|         Male|   12|  23|    40-60|\n",
      "|  386|                  37.3|                 -121.9|Subscriber|         Male|   12|  23|    20-40|\n",
      "|  422|                  37.8|                 -122.4|Subscriber|         Male|   12|  23|    20-40|\n",
      "|  871|                  37.8|                 -122.4|Subscriber|         Male|   12|  23|    20-40|\n",
      "|  733|                  37.8|                 -122.4|Subscriber|       Female|   12|  23|    20-40|\n",
      "|  781|                  37.9|                 -122.3|  Customer|       Female|   12|  23|    20-40|\n",
      "|  475|                  37.8|                 -122.3|Subscriber|         Male|   12|  23|    40-60|\n",
      "|  152|                  37.8|                 -122.4|Subscriber|         Male|   12|  23|    20-40|\n",
      "|  249|                  37.3|                 -121.9|Subscriber|         Male|   12|  23|    20-40|\n",
      "|  243|                  37.8|                 -122.3|Subscriber|         Male|   12|  23|    40-60|\n",
      "|  833|                  37.8|                 -122.4|Subscriber|         Male|   12|  23|    20-40|\n",
      "+-----+----------------------+-----------------------+----------+-------------+-----+----+---------+\n",
      "only showing top 20 rows\n",
      "\n"
     ]
    }
   ],
   "source": [
    "goBike_proc.show()"
   ]
  },
  {
   "cell_type": "code",
   "execution_count": 94,
   "metadata": {},
   "outputs": [],
   "source": [
    "goBike_columns = goBike_proc.columns[1:]\n",
    "for inputColName in goBike_columns:\n",
    "    \n",
    "    outputColName = inputColName+ '_index'\n",
    "\n",
    "    indexer = feature.StringIndexer(inputCol=inputColName, outputCol=outputColName)\n",
    "    idx_model = indexer.fit(goBike_proc)\n",
    "    goBike_proc = idx_model.transform(goBike_proc)"
   ]
  },
  {
   "cell_type": "code",
   "execution_count": 95,
   "metadata": {},
   "outputs": [
    {
     "data": {
      "text/plain": [
       "['start_station_latitude',\n",
       " 'start_station_longitude',\n",
       " 'user_type',\n",
       " 'member_gender',\n",
       " 'month',\n",
       " 'hour',\n",
       " 'age_range']"
      ]
     },
     "execution_count": 95,
     "metadata": {},
     "output_type": "execute_result"
    }
   ],
   "source": [
    "goBike_columns"
   ]
  },
  {
   "cell_type": "code",
   "execution_count": 96,
   "metadata": {},
   "outputs": [
    {
     "data": {
      "text/plain": [
       "['label',\n",
       " 'start_station_latitude',\n",
       " 'start_station_longitude',\n",
       " 'user_type',\n",
       " 'member_gender',\n",
       " 'month',\n",
       " 'hour',\n",
       " 'age_range',\n",
       " 'start_station_latitude_index',\n",
       " 'start_station_longitude_index',\n",
       " 'user_type_index',\n",
       " 'member_gender_index',\n",
       " 'month_index',\n",
       " 'hour_index',\n",
       " 'age_range_index']"
      ]
     },
     "execution_count": 96,
     "metadata": {},
     "output_type": "execute_result"
    }
   ],
   "source": [
    "goBike_proc.columns"
   ]
  },
  {
   "cell_type": "code",
   "execution_count": 103,
   "metadata": {},
   "outputs": [],
   "source": [
    "inputCols = goBike_proc.columns[8:]"
   ]
  },
  {
   "cell_type": "code",
   "execution_count": 104,
   "metadata": {},
   "outputs": [
    {
     "data": {
      "text/plain": [
       "['start_station_latitude_index',\n",
       " 'start_station_longitude_index',\n",
       " 'user_type_index',\n",
       " 'member_gender_index',\n",
       " 'month_index',\n",
       " 'hour_index',\n",
       " 'age_range_index']"
      ]
     },
     "execution_count": 104,
     "metadata": {},
     "output_type": "execute_result"
    }
   ],
   "source": [
    "inputCols"
   ]
  },
  {
   "cell_type": "code",
   "execution_count": 107,
   "metadata": {},
   "outputs": [],
   "source": [
    "outputCols = [colname+'_vector'for colname in goBike_columns]"
   ]
  },
  {
   "cell_type": "code",
   "execution_count": 108,
   "metadata": {},
   "outputs": [
    {
     "data": {
      "text/plain": [
       "['start_station_latitude_vector',\n",
       " 'start_station_longitude_vector',\n",
       " 'user_type_vector',\n",
       " 'member_gender_vector',\n",
       " 'month_vector',\n",
       " 'hour_vector',\n",
       " 'age_range_vector']"
      ]
     },
     "execution_count": 108,
     "metadata": {},
     "output_type": "execute_result"
    }
   ],
   "source": [
    "outputCols"
   ]
  },
  {
   "cell_type": "code",
   "execution_count": 109,
   "metadata": {},
   "outputs": [],
   "source": [
    "OHencoder = feature.OneHotEncoderEstimator(inputCols=inputCols\n",
    "                                           , outputCols=outputCols)"
   ]
  },
  {
   "cell_type": "code",
   "execution_count": 110,
   "metadata": {},
   "outputs": [],
   "source": [
    "goBike_proc = OHencoder.fit(goBike_proc).transform(goBike_proc)"
   ]
  },
  {
   "cell_type": "code",
   "execution_count": 111,
   "metadata": {},
   "outputs": [
    {
     "name": "stdout",
     "output_type": "stream",
     "text": [
      "root\n",
      " |-- label: integer (nullable = true)\n",
      " |-- start_station_latitude: double (nullable = true)\n",
      " |-- start_station_longitude: double (nullable = true)\n",
      " |-- user_type: string (nullable = true)\n",
      " |-- member_gender: string (nullable = true)\n",
      " |-- month: integer (nullable = true)\n",
      " |-- hour: integer (nullable = true)\n",
      " |-- age_range: string (nullable = false)\n",
      " |-- start_station_latitude_index: double (nullable = false)\n",
      " |-- start_station_longitude_index: double (nullable = false)\n",
      " |-- user_type_index: double (nullable = false)\n",
      " |-- member_gender_index: double (nullable = false)\n",
      " |-- month_index: double (nullable = false)\n",
      " |-- hour_index: double (nullable = false)\n",
      " |-- age_range_index: double (nullable = false)\n",
      " |-- member_gender_vector: vector (nullable = true)\n",
      " |-- start_station_longitude_vector: vector (nullable = true)\n",
      " |-- start_station_latitude_vector: vector (nullable = true)\n",
      " |-- hour_vector: vector (nullable = true)\n",
      " |-- user_type_vector: vector (nullable = true)\n",
      " |-- month_vector: vector (nullable = true)\n",
      " |-- age_range_vector: vector (nullable = true)\n",
      "\n"
     ]
    }
   ],
   "source": [
    "goBike_proc.printSchema()"
   ]
  },
  {
   "cell_type": "code",
   "execution_count": 113,
   "metadata": {},
   "outputs": [
    {
     "name": "stdout",
     "output_type": "stream",
     "text": [
      "root\n",
      " |-- label: integer (nullable = true)\n",
      " |-- start_station_latitude: double (nullable = true)\n",
      " |-- start_station_longitude: double (nullable = true)\n",
      " |-- user_type: string (nullable = true)\n",
      " |-- member_gender: string (nullable = true)\n",
      " |-- month: integer (nullable = true)\n",
      " |-- hour: integer (nullable = true)\n",
      " |-- age_range: string (nullable = false)\n",
      " |-- start_station_latitude_index: double (nullable = false)\n",
      " |-- start_station_longitude_index: double (nullable = false)\n",
      " |-- user_type_index: double (nullable = false)\n",
      " |-- member_gender_index: double (nullable = false)\n",
      " |-- month_index: double (nullable = false)\n",
      " |-- hour_index: double (nullable = false)\n",
      " |-- age_range_index: double (nullable = false)\n",
      " |-- member_gender_vector: vector (nullable = true)\n",
      " |-- start_station_longitude_vector: vector (nullable = true)\n",
      " |-- start_station_latitude_vector: vector (nullable = true)\n",
      " |-- hour_vector: vector (nullable = true)\n",
      " |-- user_type_vector: vector (nullable = true)\n",
      " |-- month_vector: vector (nullable = true)\n",
      " |-- age_range_vector: vector (nullable = true)\n",
      " |-- features: vector (nullable = true)\n",
      "\n"
     ]
    }
   ],
   "source": [
    "vectAssembler = feature.VectorAssembler(inputCols=outputCols, outputCol = \"features\")\n",
    "goBike_proc = vectAssembler.transform(goBike_proc)\n",
    "goBike_proc.printSchema()"
   ]
  },
  {
   "cell_type": "code",
   "execution_count": 114,
   "metadata": {},
   "outputs": [
    {
     "name": "stdout",
     "output_type": "stream",
     "text": [
      "+-----+-----------------------------------------------------+\n",
      "|label|features                                             |\n",
      "+-----+-----------------------------------------------------+\n",
      "|80110|(42,[0,4,8,13,20,39],[1.0,1.0,1.0,1.0,1.0,1.0])      |\n",
      "|78800|(42,[0,4,9,13,23,40],[1.0,1.0,1.0,1.0,1.0,1.0])      |\n",
      "|43603|(42,[2,5,7,9,13,28,39],[1.0,1.0,1.0,1.0,1.0,1.0,1.0])|\n",
      "|4507 |(42,[2,5,9,13,33,39],[1.0,1.0,1.0,1.0,1.0,1.0])      |\n",
      "|2183 |(42,[0,4,7,8,13,33,39],[1.0,1.0,1.0,1.0,1.0,1.0,1.0])|\n",
      "|2170 |(42,[0,4,7,8,13,33,39],[1.0,1.0,1.0,1.0,1.0,1.0,1.0])|\n",
      "|1544 |(42,[0,4,7,9,13,33,39],[1.0,1.0,1.0,1.0,1.0,1.0,1.0])|\n",
      "|1474 |(42,[0,4,7,8,13,33,39],[1.0,1.0,1.0,1.0,1.0,1.0,1.0])|\n",
      "|1532 |(42,[0,4,7,13,33,39],[1.0,1.0,1.0,1.0,1.0,1.0])      |\n",
      "|1216 |(42,[0,4,7,8,13,33,40],[1.0,1.0,1.0,1.0,1.0,1.0,1.0])|\n",
      "|386  |(42,[1,6,7,8,13,33,39],[1.0,1.0,1.0,1.0,1.0,1.0,1.0])|\n",
      "|422  |(42,[0,4,7,8,13,33,39],[1.0,1.0,1.0,1.0,1.0,1.0,1.0])|\n",
      "|871  |(42,[0,4,7,8,13,33,39],[1.0,1.0,1.0,1.0,1.0,1.0,1.0])|\n",
      "|733  |(42,[0,4,7,9,13,33,39],[1.0,1.0,1.0,1.0,1.0,1.0,1.0])|\n",
      "|781  |(42,[2,5,9,13,33,39],[1.0,1.0,1.0,1.0,1.0,1.0])      |\n",
      "|475  |(42,[0,5,7,8,13,33,40],[1.0,1.0,1.0,1.0,1.0,1.0,1.0])|\n",
      "|152  |(42,[0,4,7,8,13,33,39],[1.0,1.0,1.0,1.0,1.0,1.0,1.0])|\n",
      "|249  |(42,[1,6,7,8,13,33,39],[1.0,1.0,1.0,1.0,1.0,1.0,1.0])|\n",
      "|243  |(42,[0,5,7,8,13,33,40],[1.0,1.0,1.0,1.0,1.0,1.0,1.0])|\n",
      "|833  |(42,[0,4,7,8,13,33,39],[1.0,1.0,1.0,1.0,1.0,1.0,1.0])|\n",
      "+-----+-----------------------------------------------------+\n",
      "only showing top 20 rows\n",
      "\n"
     ]
    }
   ],
   "source": [
    "goBike_proc = goBike_proc.select(\"label\", \"features\")\n",
    "goBike_proc.show(truncate=False)"
   ]
  },
  {
   "cell_type": "code",
   "execution_count": null,
   "metadata": {},
   "outputs": [],
   "source": []
  },
  {
   "cell_type": "code",
   "execution_count": null,
   "metadata": {},
   "outputs": [],
   "source": []
  },
  {
   "cell_type": "code",
   "execution_count": null,
   "metadata": {},
   "outputs": [],
   "source": []
  },
  {
   "cell_type": "markdown",
   "metadata": {},
   "source": [
    " "
   ]
  },
  {
   "cell_type": "markdown",
   "metadata": {},
   "source": [
    " "
   ]
  },
  {
   "cell_type": "markdown",
   "metadata": {},
   "source": [
    "### Klasyfikacja"
   ]
  },
  {
   "cell_type": "code",
   "execution_count": 115,
   "metadata": {},
   "outputs": [],
   "source": [
    "from pyspark.ml import classification"
   ]
  },
  {
   "cell_type": "markdown",
   "metadata": {},
   "source": [
    "#### Dane"
   ]
  },
  {
   "cell_type": "markdown",
   "metadata": {},
   "source": [
    "https://archive.ics.uci.edu/ml/datasets/adult"
   ]
  },
  {
   "cell_type": "code",
   "execution_count": 116,
   "metadata": {},
   "outputs": [],
   "source": [
    "col_names = [\"age\", \"workclass\", \"fnlwgt\", \"education\", \"education-num\",\"marital-status\", \"occupation\", \n",
    "             \"relationship\", \"race\", \"sex\", \"capital-gain\", \"capital-loss\", \"hours-per-week\", \n",
    "             \"native-country\", \"earnings\"]"
   ]
  },
  {
   "cell_type": "code",
   "execution_count": 117,
   "metadata": {},
   "outputs": [],
   "source": [
    "df = spark.read.csv(\"./adult.data\", header=False, inferSchema=True)"
   ]
  },
  {
   "cell_type": "code",
   "execution_count": 118,
   "metadata": {},
   "outputs": [],
   "source": [
    "df = df.select(*[f.col(old).alias(new) for old, new in zip(df.columns, col_names)]).drop(\"fnlwgt\").dropna(\"any\")"
   ]
  },
  {
   "cell_type": "code",
   "execution_count": 120,
   "metadata": {},
   "outputs": [
    {
     "name": "stdout",
     "output_type": "stream",
     "text": [
      "root\n",
      " |-- age: integer (nullable = true)\n",
      " |-- workclass: string (nullable = true)\n",
      " |-- education: string (nullable = true)\n",
      " |-- education-num: double (nullable = true)\n",
      " |-- marital-status: string (nullable = true)\n",
      " |-- occupation: string (nullable = true)\n",
      " |-- relationship: string (nullable = true)\n",
      " |-- race: string (nullable = true)\n",
      " |-- sex: string (nullable = true)\n",
      " |-- capital-gain: double (nullable = true)\n",
      " |-- capital-loss: double (nullable = true)\n",
      " |-- hours-per-week: double (nullable = true)\n",
      " |-- native-country: string (nullable = true)\n",
      " |-- earnings: string (nullable = true)\n",
      "\n"
     ]
    }
   ],
   "source": [
    "df.printSchema()"
   ]
  },
  {
   "cell_type": "markdown",
   "metadata": {},
   "source": [
    "> **ZADANIE:**\n",
    "- przygotuj dane\n",
    "- na podstawie kolumny `earnings` stwórz zmienną celu `label` z wartościami zakodowanymi jako 0 i 1\n",
    "- stwórz (znormalizowaną -> L2) kolumnę `features` zawierającą wektory powstałe na podstawie pozostałych kolumn\n",
    "- wynikowy DataFrame nazwij `df_processed`"
   ]
  },
  {
   "cell_type": "code",
   "execution_count": 121,
   "metadata": {},
   "outputs": [
    {
     "name": "stdout",
     "output_type": "stream",
     "text": [
      "+--------+-----+\n",
      "|earnings|label|\n",
      "+--------+-----+\n",
      "|   <=50K|  0.0|\n",
      "|   <=50K|  0.0|\n",
      "|   <=50K|  0.0|\n",
      "|   <=50K|  0.0|\n",
      "|   <=50K|  0.0|\n",
      "|   <=50K|  0.0|\n",
      "|   <=50K|  0.0|\n",
      "|    >50K|  1.0|\n",
      "|    >50K|  1.0|\n",
      "|    >50K|  1.0|\n",
      "|    >50K|  1.0|\n",
      "|    >50K|  1.0|\n",
      "|   <=50K|  0.0|\n",
      "|   <=50K|  0.0|\n",
      "|    >50K|  1.0|\n",
      "|   <=50K|  0.0|\n",
      "|   <=50K|  0.0|\n",
      "|   <=50K|  0.0|\n",
      "|   <=50K|  0.0|\n",
      "|    >50K|  1.0|\n",
      "+--------+-----+\n",
      "only showing top 20 rows\n",
      "\n"
     ]
    }
   ],
   "source": [
    "indexer = feature.StringIndexer(inputCol='earnings',outputCol='label')\n",
    "idx_model = indexer.fit(df)\n",
    "df_processed = idx_model.transform(df)\n",
    "df_processed.select('earnings','label').show()"
   ]
  },
  {
   "cell_type": "code",
   "execution_count": 123,
   "metadata": {},
   "outputs": [],
   "source": [
    "num_cols = [c for c,t in df.dtypes if t!='string']"
   ]
  },
  {
   "cell_type": "code",
   "execution_count": 124,
   "metadata": {},
   "outputs": [
    {
     "data": {
      "text/plain": [
       "['age', 'education-num', 'capital-gain', 'capital-loss', 'hours-per-week']"
      ]
     },
     "execution_count": 124,
     "metadata": {},
     "output_type": "execute_result"
    }
   ],
   "source": [
    "num_cols"
   ]
  },
  {
   "cell_type": "code",
   "execution_count": 125,
   "metadata": {},
   "outputs": [],
   "source": [
    "categ_cols = [c for c,t in df.dtypes if t=='string' and c!= 'earnings']"
   ]
  },
  {
   "cell_type": "code",
   "execution_count": 126,
   "metadata": {},
   "outputs": [
    {
     "data": {
      "text/plain": [
       "['workclass',\n",
       " 'education',\n",
       " 'marital-status',\n",
       " 'occupation',\n",
       " 'relationship',\n",
       " 'race',\n",
       " 'sex',\n",
       " 'native-country']"
      ]
     },
     "execution_count": 126,
     "metadata": {},
     "output_type": "execute_result"
    }
   ],
   "source": [
    "categ_cols"
   ]
  },
  {
   "cell_type": "code",
   "execution_count": 127,
   "metadata": {},
   "outputs": [],
   "source": [
    "categ_cols_out = [c + 'Idx' for c in categ_cols]"
   ]
  },
  {
   "cell_type": "code",
   "execution_count": 128,
   "metadata": {
    "scrolled": true
   },
   "outputs": [
    {
     "data": {
      "text/plain": [
       "['workclassIdx',\n",
       " 'educationIdx',\n",
       " 'marital-statusIdx',\n",
       " 'occupationIdx',\n",
       " 'relationshipIdx',\n",
       " 'raceIdx',\n",
       " 'sexIdx',\n",
       " 'native-countryIdx']"
      ]
     },
     "execution_count": 128,
     "metadata": {},
     "output_type": "execute_result"
    }
   ],
   "source": [
    "categ_cols_out"
   ]
  },
  {
   "cell_type": "code",
   "execution_count": 130,
   "metadata": {},
   "outputs": [
    {
     "data": {
      "text/plain": [
       "['workclassVect',\n",
       " 'educationVect',\n",
       " 'marital-statusVect',\n",
       " 'occupationVect',\n",
       " 'relationshipVect',\n",
       " 'raceVect',\n",
       " 'sexVect',\n",
       " 'native-countryVect']"
      ]
     },
     "execution_count": 130,
     "metadata": {},
     "output_type": "execute_result"
    }
   ],
   "source": [
    "categ_cols_vect = [c+'Vect' for c in categ_cols]\n",
    "categ_cols_vect"
   ]
  },
  {
   "cell_type": "code",
   "execution_count": 131,
   "metadata": {},
   "outputs": [
    {
     "name": "stdout",
     "output_type": "stream",
     "text": [
      "root\n",
      " |-- age: integer (nullable = true)\n",
      " |-- workclass: string (nullable = true)\n",
      " |-- education: string (nullable = true)\n",
      " |-- education-num: double (nullable = true)\n",
      " |-- marital-status: string (nullable = true)\n",
      " |-- occupation: string (nullable = true)\n",
      " |-- relationship: string (nullable = true)\n",
      " |-- race: string (nullable = true)\n",
      " |-- sex: string (nullable = true)\n",
      " |-- capital-gain: double (nullable = true)\n",
      " |-- capital-loss: double (nullable = true)\n",
      " |-- hours-per-week: double (nullable = true)\n",
      " |-- native-country: string (nullable = true)\n",
      " |-- earnings: string (nullable = true)\n",
      " |-- label: double (nullable = false)\n",
      " |-- workclassIdx: double (nullable = false)\n",
      " |-- educationIdx: double (nullable = false)\n",
      " |-- marital-statusIdx: double (nullable = false)\n",
      " |-- occupationIdx: double (nullable = false)\n",
      " |-- relationshipIdx: double (nullable = false)\n",
      " |-- raceIdx: double (nullable = false)\n",
      " |-- sexIdx: double (nullable = false)\n",
      " |-- native-countryIdx: double (nullable = false)\n",
      "\n"
     ]
    }
   ],
   "source": [
    "for o, n in zip(categ_cols,categ_cols_out):\n",
    "    indexer = feature.StringIndexer(inputCol=o,outputCol=n)\n",
    "    df_processed = indexer.fit(df_processed).transform(df_processed)\n",
    "    \n",
    "df_processed.printSchema()"
   ]
  },
  {
   "cell_type": "code",
   "execution_count": 132,
   "metadata": {
    "scrolled": true
   },
   "outputs": [],
   "source": [
    "one_hot = feature.OneHotEncoderEstimator(inputCols=categ_cols_out,outputCols=categ_cols_vect)\n",
    "one_hot_model = one_hot.fit(df_processed)\n",
    "df_processed = one_hot_model.transform(df_processed)"
   ]
  },
  {
   "cell_type": "code",
   "execution_count": 133,
   "metadata": {},
   "outputs": [
    {
     "name": "stdout",
     "output_type": "stream",
     "text": [
      "root\n",
      " |-- age: integer (nullable = true)\n",
      " |-- workclass: string (nullable = true)\n",
      " |-- education: string (nullable = true)\n",
      " |-- education-num: double (nullable = true)\n",
      " |-- marital-status: string (nullable = true)\n",
      " |-- occupation: string (nullable = true)\n",
      " |-- relationship: string (nullable = true)\n",
      " |-- race: string (nullable = true)\n",
      " |-- sex: string (nullable = true)\n",
      " |-- capital-gain: double (nullable = true)\n",
      " |-- capital-loss: double (nullable = true)\n",
      " |-- hours-per-week: double (nullable = true)\n",
      " |-- native-country: string (nullable = true)\n",
      " |-- earnings: string (nullable = true)\n",
      " |-- label: double (nullable = false)\n",
      " |-- workclassIdx: double (nullable = false)\n",
      " |-- educationIdx: double (nullable = false)\n",
      " |-- marital-statusIdx: double (nullable = false)\n",
      " |-- occupationIdx: double (nullable = false)\n",
      " |-- relationshipIdx: double (nullable = false)\n",
      " |-- raceIdx: double (nullable = false)\n",
      " |-- sexIdx: double (nullable = false)\n",
      " |-- native-countryIdx: double (nullable = false)\n",
      " |-- sexVect: vector (nullable = true)\n",
      " |-- raceVect: vector (nullable = true)\n",
      " |-- occupationVect: vector (nullable = true)\n",
      " |-- workclassVect: vector (nullable = true)\n",
      " |-- native-countryVect: vector (nullable = true)\n",
      " |-- educationVect: vector (nullable = true)\n",
      " |-- marital-statusVect: vector (nullable = true)\n",
      " |-- relationshipVect: vector (nullable = true)\n",
      " |-- featuresRaw: vector (nullable = true)\n",
      "\n"
     ]
    }
   ],
   "source": [
    "vectAssembler = feature.VectorAssembler(inputCols=num_cols + categ_cols_vect, outputCol = \"featuresRaw\")\n",
    "df_processed = vectAssembler.transform(df_processed)\n",
    "df_processed.printSchema()"
   ]
  },
  {
   "cell_type": "code",
   "execution_count": 134,
   "metadata": {},
   "outputs": [],
   "source": [
    "df_processed = df_processed.select('label','featuresRaw')"
   ]
  },
  {
   "cell_type": "code",
   "execution_count": 135,
   "metadata": {
    "scrolled": true
   },
   "outputs": [
    {
     "name": "stdout",
     "output_type": "stream",
     "text": [
      "+-----+---------------------------------------------------------------------------------------------+\n",
      "|label|featuresRaw                                                                                  |\n",
      "+-----+---------------------------------------------------------------------------------------------+\n",
      "|0.0  |(99,[0,1,2,4,9,15,29,37,49,53,57,58],[39.0,13.0,2174.0,40.0,1.0,1.0,1.0,1.0,1.0,1.0,1.0,1.0])|\n",
      "|0.0  |(99,[0,1,4,6,15,28,36,48,53,57,58],[50.0,13.0,13.0,1.0,1.0,1.0,1.0,1.0,1.0,1.0,1.0])         |\n",
      "|0.0  |(99,[0,1,4,5,13,30,43,49,53,57,58],[38.0,9.0,40.0,1.0,1.0,1.0,1.0,1.0,1.0,1.0,1.0])          |\n",
      "|0.0  |(99,[0,1,4,5,18,28,43,48,54,57,58],[53.0,7.0,40.0,1.0,1.0,1.0,1.0,1.0,1.0,1.0,1.0])          |\n",
      "|0.0  |(99,[0,1,4,5,15,28,34,52,54,67],[28.0,13.0,40.0,1.0,1.0,1.0,1.0,1.0,1.0,1.0])                |\n",
      "|0.0  |(99,[0,1,4,5,16,28,36,52,53,58],[37.0,14.0,40.0,1.0,1.0,1.0,1.0,1.0,1.0,1.0])                |\n",
      "|0.0  |(99,[0,1,4,5,23,33,39,49,54,69],[49.0,5.0,16.0,1.0,1.0,1.0,1.0,1.0,1.0,1.0])                 |\n",
      "|1.0  |(99,[0,1,4,6,13,28,36,48,53,57,58],[52.0,9.0,45.0,1.0,1.0,1.0,1.0,1.0,1.0,1.0,1.0])          |\n",
      "|1.0  |(99,[0,1,2,4,5,16,29,34,49,53,58],[31.0,14.0,14084.0,50.0,1.0,1.0,1.0,1.0,1.0,1.0,1.0])      |\n",
      "|1.0  |(99,[0,1,2,4,5,15,28,36,48,53,57,58],[42.0,13.0,5178.0,40.0,1.0,1.0,1.0,1.0,1.0,1.0,1.0,1.0])|\n",
      "|1.0  |(99,[0,1,4,5,14,28,36,48,54,57,58],[37.0,10.0,80.0,1.0,1.0,1.0,1.0,1.0,1.0,1.0,1.0])         |\n",
      "|1.0  |(99,[0,1,4,9,15,28,34,48,55,57,66],[30.0,13.0,40.0,1.0,1.0,1.0,1.0,1.0,1.0,1.0,1.0])         |\n",
      "|0.0  |(99,[0,1,4,5,15,29,37,50,53,58],[23.0,13.0,30.0,1.0,1.0,1.0,1.0,1.0,1.0,1.0])                |\n",
      "|0.0  |(99,[0,1,4,5,19,29,38,49,54,57,58],[32.0,12.0,50.0,1.0,1.0,1.0,1.0,1.0,1.0,1.0,1.0])         |\n",
      "|1.0  |(99,[0,1,4,5,17,28,35,48,55,57,60],[40.0,11.0,40.0,1.0,1.0,1.0,1.0,1.0,1.0,1.0,1.0])         |\n",
      "|0.0  |(99,[0,1,4,5,21,28,42,48,56,57,59],[34.0,4.0,45.0,1.0,1.0,1.0,1.0,1.0,1.0,1.0,1.0])          |\n",
      "|0.0  |(99,[0,1,4,6,13,29,44,50,53,57,58],[25.0,9.0,35.0,1.0,1.0,1.0,1.0,1.0,1.0,1.0,1.0])          |\n",
      "|0.0  |(99,[0,1,4,5,13,29,40,51,53,57,58],[32.0,9.0,40.0,1.0,1.0,1.0,1.0,1.0,1.0,1.0,1.0])          |\n",
      "|0.0  |(99,[0,1,4,5,18,28,38,48,53,57,58],[38.0,7.0,50.0,1.0,1.0,1.0,1.0,1.0,1.0,1.0,1.0])          |\n",
      "|1.0  |(99,[0,1,4,6,16,30,36,51,53,58],[43.0,14.0,45.0,1.0,1.0,1.0,1.0,1.0,1.0,1.0])                |\n",
      "+-----+---------------------------------------------------------------------------------------------+\n",
      "only showing top 20 rows\n",
      "\n"
     ]
    }
   ],
   "source": [
    "df_processed.show(truncate=False)"
   ]
  },
  {
   "cell_type": "code",
   "execution_count": 136,
   "metadata": {},
   "outputs": [],
   "source": [
    "normalizerL2 = feature.Normalizer(inputCol='featuresRaw',outputCol='features')\n",
    "df_processed = normalizerL2.transform(df_processed)"
   ]
  },
  {
   "cell_type": "markdown",
   "metadata": {},
   "source": [
    "**Ostatnie przygotowania**"
   ]
  },
  {
   "cell_type": "code",
   "execution_count": 137,
   "metadata": {},
   "outputs": [
    {
     "data": {
      "text/plain": [
       "DataFrame[label: double, featuresRaw: vector, features: vector]"
      ]
     },
     "execution_count": 137,
     "metadata": {},
     "output_type": "execute_result"
    }
   ],
   "source": [
    "df_processed.select(\"label\", \"features\")\n",
    "df_processed.cache()"
   ]
  },
  {
   "cell_type": "code",
   "execution_count": 138,
   "metadata": {},
   "outputs": [
    {
     "data": {
      "text/plain": [
       "DataFrame[label: double, featuresRaw: vector, features: vector]"
      ]
     },
     "execution_count": 138,
     "metadata": {},
     "output_type": "execute_result"
    }
   ],
   "source": [
    "df_train, df_eval = df_processed.randomSplit([0.7, 0.3], 42)\n",
    "df_train.cache()\n",
    "df_eval.cache()"
   ]
  },
  {
   "cell_type": "code",
   "execution_count": 139,
   "metadata": {},
   "outputs": [
    {
     "name": "stdout",
     "output_type": "stream",
     "text": [
      "Train:\n",
      "+-----+-----+\n",
      "|label|count|\n",
      "+-----+-----+\n",
      "|  0.0|17325|\n",
      "|  1.0| 5516|\n",
      "+-----+-----+\n",
      "\n",
      "Eval:\n",
      "+-----+-----+\n",
      "|label|count|\n",
      "+-----+-----+\n",
      "|  0.0| 7395|\n",
      "|  1.0| 2325|\n",
      "+-----+-----+\n",
      "\n"
     ]
    }
   ],
   "source": [
    "print(\"Train:\")\n",
    "df_train.groupBy(\"label\").count().show()\n",
    "print(\"Eval:\")\n",
    "df_eval.groupBy(\"label\").count().show()"
   ]
  },
  {
   "cell_type": "markdown",
   "metadata": {},
   "source": [
    "#### Regresja logistyczna"
   ]
  },
  {
   "cell_type": "code",
   "execution_count": 140,
   "metadata": {},
   "outputs": [],
   "source": [
    "lr = classification.LogisticRegression(maxIter=1000)"
   ]
  },
  {
   "cell_type": "code",
   "execution_count": 141,
   "metadata": {},
   "outputs": [],
   "source": [
    "lrModel = lr.fit(df_train)"
   ]
  },
  {
   "cell_type": "code",
   "execution_count": 142,
   "metadata": {},
   "outputs": [
    {
     "data": {
      "text/plain": [
       "DenseVector([3.8701, 22.8622, 3.8378, 3.2818, 3.9356, -413.8915, -448.0723, -422.1727, 443.9573, -440.4298, -403.2291, -384.543, -25200.0653, 110.9606, 112.229, 86.6474, 86.8704, 102.4181, 92.9056, 69.4976, 125.9191, 145.5306, 105.5334, 132.1441, 120.3408, 102.4612, 162.5475, 191.279, 9.4367, -178.9696, -157.7918, -160.4869, -156.7689, -155.3884, 473.421, 435.0839, 485.0137, 438.3334, 455.6402, 387.3625, 413.1016, -452.5795, 434.9833, 389.2688, 359.6863, 476.3198, 476.573, -10657.3172, 25.814, 93.1622, 21.9667, 81.7868, 130.3396, 17.8532, 3.627, 32.3728, -8.9033, 60.7767, -638.2647, -673.1128, -662.9303, -642.1916, -615.2671, -606.4367, -733.2528, -683.5895, -701.0137, -608.9073, -619.0003, -617.3822, -745.3588, -678.7885, -588.4091, -766.985, -695.1488, -660.9015, -608.4271, -632.8563, -844.9404, -654.752, -614.6835, -690.134, -630.426, -711.624, -702.6153, -647.8128, -757.6483, -642.273, -608.7775, -676.6878, -671.0851, -536.749, -698.123, -672.4827, -548.5812, -1294.543, -1027.7077, -629.059, -651.9004])"
      ]
     },
     "execution_count": 142,
     "metadata": {},
     "output_type": "execute_result"
    }
   ],
   "source": [
    "lrModel.coefficients"
   ]
  },
  {
   "cell_type": "code",
   "execution_count": 143,
   "metadata": {},
   "outputs": [
    {
     "data": {
      "text/plain": [
       "-3.3305016364302653"
      ]
     },
     "execution_count": 143,
     "metadata": {},
     "output_type": "execute_result"
    }
   ],
   "source": [
    "lrModel.intercept"
   ]
  },
  {
   "cell_type": "code",
   "execution_count": 144,
   "metadata": {},
   "outputs": [
    {
     "data": {
      "text/plain": [
       "pyspark.ml.classification.BinaryLogisticRegressionTrainingSummary"
      ]
     },
     "execution_count": 144,
     "metadata": {},
     "output_type": "execute_result"
    }
   ],
   "source": [
    "trainingSummary = lrModel.summary\n",
    "type(trainingSummary)"
   ]
  },
  {
   "cell_type": "code",
   "execution_count": 146,
   "metadata": {},
   "outputs": [
    {
     "name": "stdout",
     "output_type": "stream",
     "text": [
      "+--------------------+-------------------+\n",
      "|                 FPR|                TPR|\n",
      "+--------------------+-------------------+\n",
      "|                 0.0|                0.0|\n",
      "|0.002366522366522...|0.03208846990572879|\n",
      "|0.004329004329004329| 0.0654459753444525|\n",
      "|0.006695526695526...|0.09934735315445975|\n",
      "|0.010158730158730159| 0.1312545322697607|\n",
      "|0.013852813852813853| 0.1646120377084844|\n",
      "|0.018066378066378067|0.19398114575779551|\n",
      "|0.023896103896103898|0.21773023930384336|\n",
      "|0.030591630591630593|0.23477157360406092|\n",
      "| 0.03544011544011544|0.25725163161711384|\n",
      "| 0.03913419913419913|0.28263234227701234|\n",
      "| 0.04242424242424243|0.30982596084118924|\n",
      "+--------------------+-------------------+\n",
      "only showing top 12 rows\n",
      "\n"
     ]
    }
   ],
   "source": [
    "trainingSummary.roc.show(12)"
   ]
  },
  {
   "cell_type": "code",
   "execution_count": 164,
   "metadata": {},
   "outputs": [],
   "source": [
    "import pandas as pd"
   ]
  },
  {
   "cell_type": "code",
   "execution_count": 160,
   "metadata": {
    "scrolled": true
   },
   "outputs": [],
   "source": [
    "roc = trainingSummary.roc.toPandas()\n",
    "roc.head()"
   ]
  },
  {
   "cell_type": "code",
   "execution_count": 147,
   "metadata": {},
   "outputs": [
    {
     "name": "stdout",
     "output_type": "stream",
     "text": [
      "+-------------------+------------------+\n",
      "|             recall|         precision|\n",
      "+-------------------+------------------+\n",
      "|                0.0|0.8119266055045872|\n",
      "|0.03208846990572879|0.8119266055045872|\n",
      "| 0.0654459753444525|0.8279816513761468|\n",
      "|0.09934735315445975|0.8253012048192772|\n",
      "| 0.1312545322697607|0.8044444444444444|\n",
      "| 0.1646120377084844|0.7909407665505227|\n",
      "|0.19398114575779551|0.7736804049168474|\n",
      "|0.21773023930384336|0.7436532507739938|\n",
      "|0.23477157360406092|0.7095890410958904|\n",
      "|0.25725163161711384|0.6979832759468766|\n",
      "|0.28263234227701234|0.6969155118462226|\n",
      "|0.30982596084118924|0.6992635024549918|\n",
      "+-------------------+------------------+\n",
      "only showing top 12 rows\n",
      "\n"
     ]
    }
   ],
   "source": [
    "trainingSummary.pr.show(12)"
   ]
  },
  {
   "cell_type": "code",
   "execution_count": 148,
   "metadata": {},
   "outputs": [
    {
     "data": {
      "text/plain": [
       "0.8859564619571872"
      ]
     },
     "execution_count": 148,
     "metadata": {},
     "output_type": "execute_result"
    }
   ],
   "source": [
    "trainingSummary.areaUnderROC"
   ]
  },
  {
   "cell_type": "code",
   "execution_count": 149,
   "metadata": {},
   "outputs": [
    {
     "data": {
      "text/plain": [
       "0.8330633509916379"
      ]
     },
     "execution_count": 149,
     "metadata": {},
     "output_type": "execute_result"
    }
   ],
   "source": [
    "trainingSummary.accuracy"
   ]
  },
  {
   "cell_type": "code",
   "execution_count": 157,
   "metadata": {},
   "outputs": [
    {
     "name": "stdout",
     "output_type": "stream",
     "text": [
      "+-----+--------------------+--------------------+--------------------+--------------------+----------+\n",
      "|label|         featuresRaw|            features|       rawPrediction|         probability|prediction|\n",
      "+-----+--------------------+--------------------+--------------------+--------------------+----------+\n",
      "|  0.0|(99,[0,1,2,4,5,13...|(99,[0,1,2,4,5,13...|[-0.5326152931958...|[0.36990711925322...|       1.0|\n",
      "|  0.0|(99,[0,1,2,4,5,13...|(99,[0,1,2,4,5,13...|[-0.5422916390315...|[0.36765464983348...|       1.0|\n",
      "|  0.0|(99,[0,1,2,4,5,13...|(99,[0,1,2,4,5,13...|[-0.5369032760625...|[0.36890825276866...|       1.0|\n",
      "|  0.0|(99,[0,1,2,4,5,13...|(99,[0,1,2,4,5,13...|[-0.5328495625693...|[0.36985251838594...|       1.0|\n",
      "|  0.0|(99,[0,1,2,4,5,13...|(99,[0,1,2,4,5,13...|[-0.5301023238588...|[0.37049302293326...|       1.0|\n",
      "|  0.0|(99,[0,1,2,4,5,13...|(99,[0,1,2,4,5,13...|[-0.5244270557529...|[0.37181762404802...|       1.0|\n",
      "|  0.0|(99,[0,1,2,4,5,13...|(99,[0,1,2,4,5,13...|[-0.5457358633782...|[0.36685428595968...|       1.0|\n",
      "|  0.0|(99,[0,1,2,4,5,13...|(99,[0,1,2,4,5,13...|[-0.5319648894194...|[0.37005872548379...|       1.0|\n",
      "|  0.0|(99,[0,1,2,4,5,13...|(99,[0,1,2,4,5,13...|[-0.5357240603822...|[0.36918283422729...|       1.0|\n",
      "|  0.0|(99,[0,1,2,4,5,13...|(99,[0,1,2,4,5,13...|[-0.5391138191662...|[0.36839375458091...|       1.0|\n",
      "|  0.0|(99,[0,1,2,4,5,13...|(99,[0,1,2,4,5,13...|[-0.5500235480942...|[0.36585894566861...|       1.0|\n",
      "|  0.0|(99,[0,1,2,4,5,13...|(99,[0,1,2,4,5,13...|[-0.5340454296834...|[0.36957385104819...|       1.0|\n",
      "|  0.0|(99,[0,1,2,4,5,13...|(99,[0,1,2,4,5,13...|[-0.5496519928320...|[0.36594515308039...|       1.0|\n",
      "|  0.0|(99,[0,1,2,4,5,13...|(99,[0,1,2,4,5,13...|[-0.5545248186440...|[0.36481525504229...|       1.0|\n",
      "|  0.0|(99,[0,1,2,4,5,13...|(99,[0,1,2,4,5,13...|[-0.5436357292581...|[0.36734222503167...|       1.0|\n",
      "|  0.0|(99,[0,1,2,4,5,13...|(99,[0,1,2,4,5,13...|[-0.5779014967150...|[0.35941560205142...|       1.0|\n",
      "|  0.0|(99,[0,1,2,4,5,13...|(99,[0,1,2,4,5,13...|[-0.5443261088520...|[0.36718179419146...|       1.0|\n",
      "|  0.0|(99,[0,1,2,4,5,13...|(99,[0,1,2,4,5,13...|[-0.5886027922238...|[0.35695550282601...|       1.0|\n",
      "|  0.0|(99,[0,1,2,4,5,13...|(99,[0,1,2,4,5,13...|[-0.5387108681579...|[0.36848751811049...|       1.0|\n",
      "|  0.0|(99,[0,1,2,4,5,13...|(99,[0,1,2,4,5,13...|[-0.5389731976076...|[0.36842647498201...|       1.0|\n",
      "+-----+--------------------+--------------------+--------------------+--------------------+----------+\n",
      "only showing top 20 rows\n",
      "\n"
     ]
    }
   ],
   "source": [
    "trainingSummary.predictions.show()"
   ]
  },
  {
   "cell_type": "code",
   "execution_count": 158,
   "metadata": {},
   "outputs": [
    {
     "name": "stdout",
     "output_type": "stream",
     "text": [
      "+-----+--------------------+--------------------+--------------------+--------------------+----------+\n",
      "|label|         featuresRaw|            features|       rawPrediction|         probability|prediction|\n",
      "+-----+--------------------+--------------------+--------------------+--------------------+----------+\n",
      "|  0.0|(99,[0,1,2,4,5,13...|(99,[0,1,2,4,5,13...|[-0.5550248183449...|[0.36469940040252...|       1.0|\n",
      "|  0.0|(99,[0,1,2,4,5,13...|(99,[0,1,2,4,5,13...|[-0.5497673793233...|[0.36591838044796...|       1.0|\n",
      "|  0.0|(99,[0,1,2,4,5,13...|(99,[0,1,2,4,5,13...|[-0.5146135736853...|[0.37411262046736...|       1.0|\n",
      "|  0.0|(99,[0,1,2,4,5,13...|(99,[0,1,2,4,5,13...|[-0.5406064354740...|[0.36804652119683...|       1.0|\n",
      "|  0.0|(99,[0,1,2,4,5,13...|(99,[0,1,2,4,5,13...|[-0.5359201849731...|[0.36913716055732...|       1.0|\n",
      "|  0.0|(99,[0,1,2,4,5,13...|(99,[0,1,2,4,5,13...|[-0.5296713361219...|[0.37059354692584...|       1.0|\n",
      "|  0.0|(99,[0,1,2,4,5,13...|(99,[0,1,2,4,5,13...|[-0.5399712276195...|[0.36819427547827...|       1.0|\n",
      "|  0.0|(99,[0,1,2,4,5,13...|(99,[0,1,2,4,5,13...|[-0.5418189046963...|[0.36776456021189...|       1.0|\n",
      "|  0.0|(99,[0,1,2,4,5,13...|(99,[0,1,2,4,5,13...|[-0.5400426697591...|[0.36817765624624...|       1.0|\n",
      "|  0.0|(99,[0,1,2,4,5,13...|(99,[0,1,2,4,5,13...|[-0.5309131632634...|[0.37030393239354...|       1.0|\n",
      "|  0.0|(99,[0,1,2,4,5,13...|(99,[0,1,2,4,5,13...|[-0.5400150130020...|[0.36818408986389...|       1.0|\n",
      "|  0.0|(99,[0,1,2,4,5,13...|(99,[0,1,2,4,5,13...|[-0.5595279599992...|[0.36365668769970...|       1.0|\n",
      "|  0.0|(99,[0,1,2,4,5,13...|(99,[0,1,2,4,5,13...|[-0.5485661720854...|[0.36619713195915...|       1.0|\n",
      "|  0.0|(99,[0,1,2,4,5,13...|(99,[0,1,2,4,5,13...|[-0.5430793410255...|[0.36747154026360...|       1.0|\n",
      "|  0.0|(99,[0,1,2,4,5,13...|(99,[0,1,2,4,5,13...|[-0.5644976062689...|[0.36250744043566...|       1.0|\n",
      "|  0.0|(99,[0,1,2,4,5,13...|(99,[0,1,2,4,5,13...|[-0.4871012548171...|[0.38057667529530...|       1.0|\n",
      "|  0.0|(99,[0,1,2,4,5,13...|(99,[0,1,2,4,5,13...|[-0.5293115625539...|[0.37067746944510...|       1.0|\n",
      "|  0.0|(99,[0,1,2,4,5,13...|(99,[0,1,2,4,5,13...|[-0.5562346905981...|[0.36441912647992...|       1.0|\n",
      "|  0.0|(99,[0,1,2,4,5,13...|(99,[0,1,2,4,5,13...|[-0.5208095136233...|[0.37266296181873...|       1.0|\n",
      "|  0.0|(99,[0,1,2,4,5,13...|(99,[0,1,2,4,5,13...|[-0.5437873989407...|[0.36730697741627...|       1.0|\n",
      "+-----+--------------------+--------------------+--------------------+--------------------+----------+\n",
      "only showing top 20 rows\n",
      "\n"
     ]
    }
   ],
   "source": [
    "# robienie predykcji\n",
    "lrModel.transform(df_eval).show()"
   ]
  },
  {
   "cell_type": "markdown",
   "metadata": {
    "collapsed": true
   },
   "source": [
    "#### SVM"
   ]
  },
  {
   "cell_type": "code",
   "execution_count": 165,
   "metadata": {},
   "outputs": [],
   "source": [
    "svm = classification.LinearSVC(maxIter=1000)"
   ]
  },
  {
   "cell_type": "code",
   "execution_count": 166,
   "metadata": {},
   "outputs": [],
   "source": [
    "svmModel = svm.fit(df_train)"
   ]
  },
  {
   "cell_type": "code",
   "execution_count": 167,
   "metadata": {},
   "outputs": [
    {
     "data": {
      "text/plain": [
       "DenseVector([0.5464, -2.25, 0.9865, 0.9352, 0.9094, -18.2998, -47.7782, -23.2682, -20.7003, -36.9507, -9.8468, -5.9827, -9115.8618, -32.3725, -13.4524, 41.5331, 51.4585, -1.0196, -56.5471, -6.5672, -60.3234, -71.1134, 71.3113, -59.8117, -45.0727, 80.8709, -77.5236, -71.6502, 9.2555, -100.7607, -82.9508, -86.004, -72.6694, -84.2539, 8.0431, -40.1744, 15.9848, -26.0134, -18.3245, -58.4196, -48.1061, -53.9702, -42.5604, -55.7703, -83.724, 16.2717, -13.3639, -10034.93, 2.1817, 8.9888, -4.9709, 2.0847, 42.7932, -17.6904, -20.6371, -10.4557, -44.5836, 23.5189, -30.139, -59.4584, -47.6346, -28.9485, -12.2711, 3.7366, -97.9839, -76.3819, -74.2153, -27.3692, -29.5461, -7.62, -141.7936, -57.6334, -6.0892, -129.0479, -62.9243, -35.3484, -29.9881, -34.882, -193.6455, -43.2119, -6.6556, -57.6113, -24.515, -80.2634, -70.3928, -29.9802, -105.3916, -38.16, -29.176, -42.8359, -61.0756, 20.4857, -59.2, -37.893, 45.2887, -42.9918, -4.4866, -62.678, -46.7934])"
      ]
     },
     "execution_count": 167,
     "metadata": {},
     "output_type": "execute_result"
    }
   ],
   "source": [
    "svmModel.coefficients"
   ]
  },
  {
   "cell_type": "code",
   "execution_count": 168,
   "metadata": {},
   "outputs": [
    {
     "data": {
      "text/plain": [
       "0.012549090354290436"
      ]
     },
     "execution_count": 168,
     "metadata": {},
     "output_type": "execute_result"
    }
   ],
   "source": [
    "svmModel.intercept"
   ]
  },
  {
   "cell_type": "code",
   "execution_count": 169,
   "metadata": {},
   "outputs": [
    {
     "name": "stdout",
     "output_type": "stream",
     "text": [
      "+-----+--------------------+--------------------+--------------------+----------+\n",
      "|label|         featuresRaw|            features|       rawPrediction|prediction|\n",
      "+-----+--------------------+--------------------+--------------------+----------+\n",
      "|  0.0|(99,[0,1,2,4,5,13...|(99,[0,1,2,4,5,13...|[-0.9975813959826...|       1.0|\n",
      "|  0.0|(99,[0,1,2,4,5,13...|(99,[0,1,2,4,5,13...|[-0.9969645450623...|       1.0|\n",
      "|  0.0|(99,[0,1,2,4,5,13...|(99,[0,1,2,4,5,13...|[-0.9774627603486...|       1.0|\n",
      "|  0.0|(99,[0,1,2,4,5,13...|(99,[0,1,2,4,5,13...|[-0.9770307564409...|       1.0|\n",
      "|  0.0|(99,[0,1,2,4,5,13...|(99,[0,1,2,4,5,13...|[-0.9863595140940...|       1.0|\n",
      "|  0.0|(99,[0,1,2,4,5,13...|(99,[0,1,2,4,5,13...|[-0.9722553244195...|       1.0|\n",
      "|  0.0|(99,[0,1,2,4,5,13...|(99,[0,1,2,4,5,13...|[-0.9827942816762...|       1.0|\n",
      "|  0.0|(99,[0,1,2,4,5,13...|(99,[0,1,2,4,5,13...|[-0.9750923285196...|       1.0|\n",
      "|  0.0|(99,[0,1,2,4,5,13...|(99,[0,1,2,4,5,13...|[-0.9989263543336...|       1.0|\n",
      "|  0.0|(99,[0,1,2,4,5,13...|(99,[0,1,2,4,5,13...|[-0.9847721295364...|       1.0|\n",
      "|  0.0|(99,[0,1,2,4,5,13...|(99,[0,1,2,4,5,13...|[-0.9875286684836...|       1.0|\n",
      "|  0.0|(99,[0,1,2,4,5,13...|(99,[0,1,2,4,5,13...|[-0.9834753894749...|       1.0|\n",
      "|  0.0|(99,[0,1,2,4,5,13...|(99,[0,1,2,4,5,13...|[-0.9926214985423...|       1.0|\n",
      "|  0.0|(99,[0,1,2,4,5,13...|(99,[0,1,2,4,5,13...|[-0.9911465097705...|       1.0|\n",
      "|  0.0|(99,[0,1,2,4,5,13...|(99,[0,1,2,4,5,13...|[-0.9911257715426...|       1.0|\n",
      "|  0.0|(99,[0,1,2,4,5,13...|(99,[0,1,2,4,5,13...|[-0.9386923153553...|       1.0|\n",
      "|  0.0|(99,[0,1,2,4,5,13...|(99,[0,1,2,4,5,13...|[-0.9899859193207...|       1.0|\n",
      "|  0.0|(99,[0,1,2,4,5,13...|(99,[0,1,2,4,5,13...|[-0.9688302183455...|       1.0|\n",
      "|  0.0|(99,[0,1,2,4,5,13...|(99,[0,1,2,4,5,13...|[-0.9832719972048...|       1.0|\n",
      "|  0.0|(99,[0,1,2,4,5,13...|(99,[0,1,2,4,5,13...|[-0.9734597322386...|       1.0|\n",
      "+-----+--------------------+--------------------+--------------------+----------+\n",
      "only showing top 20 rows\n",
      "\n"
     ]
    }
   ],
   "source": [
    "# robienie predykcji\n",
    "svmModel.transform(df_eval).show()"
   ]
  },
  {
   "cell_type": "markdown",
   "metadata": {},
   "source": [
    "#### Drzewo decyzyjne"
   ]
  },
  {
   "cell_type": "code",
   "execution_count": 170,
   "metadata": {},
   "outputs": [],
   "source": [
    "tree = classification.DecisionTreeClassifier()"
   ]
  },
  {
   "cell_type": "code",
   "execution_count": 171,
   "metadata": {},
   "outputs": [],
   "source": [
    "treeModel = tree.fit(df_train)"
   ]
  },
  {
   "cell_type": "code",
   "execution_count": 172,
   "metadata": {},
   "outputs": [
    {
     "data": {
      "text/plain": [
       "5"
      ]
     },
     "execution_count": 172,
     "metadata": {},
     "output_type": "execute_result"
    }
   ],
   "source": [
    "treeModel.depth"
   ]
  },
  {
   "cell_type": "code",
   "execution_count": 173,
   "metadata": {},
   "outputs": [
    {
     "data": {
      "text/plain": [
       "51"
      ]
     },
     "execution_count": 173,
     "metadata": {},
     "output_type": "execute_result"
    }
   ],
   "source": [
    "treeModel.numNodes"
   ]
  },
  {
   "cell_type": "code",
   "execution_count": 174,
   "metadata": {
    "scrolled": true
   },
   "outputs": [
    {
     "name": "stdout",
     "output_type": "stream",
     "text": [
      "DecisionTreeClassificationModel (uid=DecisionTreeClassifier_4edc941bea9e320cb377) of depth 5 with 51 nodes\n",
      "  If (feature 28 <= 5.0000477491839864E-6)\n",
      "   If (feature 2 <= 0.9999686642218393)\n",
      "    If (feature 58 <= 0.017105892635409112)\n",
      "     If (feature 36 <= 5.000048478205031E-6)\n",
      "      If (feature 34 <= 5.000047925439046E-6)\n",
      "       Predict: 0.0\n",
      "      Else (feature 34 > 5.000047925439046E-6)\n",
      "       Predict: 0.0\n",
      "     Else (feature 36 > 5.000048478205031E-6)\n",
      "      If (feature 16 <= 5.0000477491839864E-6)\n",
      "       Predict: 0.0\n",
      "      Else (feature 16 > 5.0000477491839864E-6)\n",
      "       Predict: 0.0\n",
      "    Else (feature 58 > 0.017105892635409112)\n",
      "     If (feature 58 <= 0.01889653676089597)\n",
      "      If (feature 1 <= 0.25946625563059866)\n",
      "       Predict: 0.0\n",
      "      Else (feature 1 > 0.25946625563059866)\n",
      "       Predict: 0.0\n",
      "     Else (feature 58 > 0.01889653676089597)\n",
      "      If (feature 52 <= 5.000048809214692E-6)\n",
      "       Predict: 0.0\n",
      "      Else (feature 52 > 5.000048809214692E-6)\n",
      "       Predict: 0.0\n",
      "   Else (feature 2 > 0.9999686642218393)\n",
      "    If (feature 50 <= 1.205239036869063E-4)\n",
      "     If (feature 14 <= 1.3006707700690523E-4)\n",
      "      If (feature 51 <= 1.2533407447282155E-4)\n",
      "       Predict: 1.0\n",
      "      Else (feature 51 > 1.2533407447282155E-4)\n",
      "       Predict: 0.0\n",
      "     Else (feature 14 > 1.3006707700690523E-4)\n",
      "      Predict: 0.0\n",
      "    Else (feature 50 > 1.205239036869063E-4)\n",
      "     Predict: 0.0\n",
      "  Else (feature 28 > 5.0000477491839864E-6)\n",
      "   If (feature 28 <= 1.3701726295327013E-4)\n",
      "    If (feature 44 <= 1.7967449849530032E-5)\n",
      "     If (feature 6 <= 6.878072593793601E-5)\n",
      "      If (feature 14 <= 6.81372533033829E-5)\n",
      "       Predict: 1.0\n",
      "      Else (feature 14 > 6.81372533033829E-5)\n",
      "       Predict: 1.0\n",
      "     Else (feature 6 > 6.878072593793601E-5)\n",
      "      If (feature 4 <= 0.005202773387006449)\n",
      "       Predict: 1.0\n",
      "      Else (feature 4 > 0.005202773387006449)\n",
      "       Predict: 1.0\n",
      "    Else (feature 44 > 1.7967449849530032E-5)\n",
      "     If (feature 6 <= 4.98724119966094E-5)\n",
      "      Predict: 0.0\n",
      "     Else (feature 6 > 4.98724119966094E-5)\n",
      "      Predict: 1.0\n",
      "   Else (feature 28 > 1.3701726295327013E-4)\n",
      "    If (feature 57 <= 0.017414363345191426)\n",
      "     If (feature 34 <= 5.000047925439046E-6)\n",
      "      If (feature 36 <= 5.000048478205031E-6)\n",
      "       Predict: 0.0\n",
      "      Else (feature 36 > 5.000048478205031E-6)\n",
      "       Predict: 1.0\n",
      "     Else (feature 34 > 5.000047925439046E-6)\n",
      "      If (feature 0 <= 0.9194104994309618)\n",
      "       Predict: 1.0\n",
      "      Else (feature 0 > 0.9194104994309618)\n",
      "       Predict: 0.0\n",
      "    Else (feature 57 > 0.017414363345191426)\n",
      "     If (feature 15 <= 5.000048149945516E-6)\n",
      "      If (feature 34 <= 5.000047925439046E-6)\n",
      "       Predict: 0.0\n",
      "      Else (feature 34 > 5.000047925439046E-6)\n",
      "       Predict: 0.0\n",
      "     Else (feature 15 > 5.000048149945516E-6)\n",
      "      If (feature 1 <= 0.25946625563059866)\n",
      "       Predict: 1.0\n",
      "      Else (feature 1 > 0.25946625563059866)\n",
      "       Predict: 0.0\n",
      "\n"
     ]
    }
   ],
   "source": [
    "print(treeModel.toDebugString)"
   ]
  },
  {
   "cell_type": "code",
   "execution_count": 175,
   "metadata": {},
   "outputs": [
    {
     "name": "stdout",
     "output_type": "stream",
     "text": [
      "+-----+--------------------+--------------------+---------------+--------------------+----------+\n",
      "|label|         featuresRaw|            features|  rawPrediction|         probability|prediction|\n",
      "+-----+--------------------+--------------------+---------------+--------------------+----------+\n",
      "|  0.0|(99,[0,1,2,4,5,13...|(99,[0,1,2,4,5,13...|  [291.0,778.0]|[0.27221702525724...|       1.0|\n",
      "|  0.0|(99,[0,1,2,4,5,13...|(99,[0,1,2,4,5,13...|  [291.0,778.0]|[0.27221702525724...|       1.0|\n",
      "|  0.0|(99,[0,1,2,4,5,13...|(99,[0,1,2,4,5,13...|[3312.0,1906.0]|[0.63472594863932...|       0.0|\n",
      "|  0.0|(99,[0,1,2,4,5,13...|(99,[0,1,2,4,5,13...|[3312.0,1906.0]|[0.63472594863932...|       0.0|\n",
      "|  0.0|(99,[0,1,2,4,5,13...|(99,[0,1,2,4,5,13...|[3312.0,1906.0]|[0.63472594863932...|       0.0|\n",
      "|  0.0|(99,[0,1,2,4,5,13...|(99,[0,1,2,4,5,13...|[3312.0,1906.0]|[0.63472594863932...|       0.0|\n",
      "|  0.0|(99,[0,1,2,4,5,13...|(99,[0,1,2,4,5,13...|[3312.0,1906.0]|[0.63472594863932...|       0.0|\n",
      "|  0.0|(99,[0,1,2,4,5,13...|(99,[0,1,2,4,5,13...|[3312.0,1906.0]|[0.63472594863932...|       0.0|\n",
      "|  0.0|(99,[0,1,2,4,5,13...|(99,[0,1,2,4,5,13...|  [424.0,884.0]|[0.32415902140672...|       1.0|\n",
      "|  0.0|(99,[0,1,2,4,5,13...|(99,[0,1,2,4,5,13...|[3312.0,1906.0]|[0.63472594863932...|       0.0|\n",
      "|  0.0|(99,[0,1,2,4,5,13...|(99,[0,1,2,4,5,13...|[3312.0,1906.0]|[0.63472594863932...|       0.0|\n",
      "|  0.0|(99,[0,1,2,4,5,13...|(99,[0,1,2,4,5,13...|[3312.0,1906.0]|[0.63472594863932...|       0.0|\n",
      "|  0.0|(99,[0,1,2,4,5,13...|(99,[0,1,2,4,5,13...|[3312.0,1906.0]|[0.63472594863932...|       0.0|\n",
      "|  0.0|(99,[0,1,2,4,5,13...|(99,[0,1,2,4,5,13...|[3312.0,1906.0]|[0.63472594863932...|       0.0|\n",
      "|  0.0|(99,[0,1,2,4,5,13...|(99,[0,1,2,4,5,13...|[3312.0,1906.0]|[0.63472594863932...|       0.0|\n",
      "|  0.0|(99,[0,1,2,4,5,13...|(99,[0,1,2,4,5,13...|[3312.0,1906.0]|[0.63472594863932...|       0.0|\n",
      "|  0.0|(99,[0,1,2,4,5,13...|(99,[0,1,2,4,5,13...|[3312.0,1906.0]|[0.63472594863932...|       0.0|\n",
      "|  0.0|(99,[0,1,2,4,5,13...|(99,[0,1,2,4,5,13...|[3312.0,1906.0]|[0.63472594863932...|       0.0|\n",
      "|  0.0|(99,[0,1,2,4,5,13...|(99,[0,1,2,4,5,13...|[3312.0,1906.0]|[0.63472594863932...|       0.0|\n",
      "|  0.0|(99,[0,1,2,4,5,13...|(99,[0,1,2,4,5,13...|[3312.0,1906.0]|[0.63472594863932...|       0.0|\n",
      "+-----+--------------------+--------------------+---------------+--------------------+----------+\n",
      "only showing top 20 rows\n",
      "\n"
     ]
    }
   ],
   "source": [
    "# robienie predykcji\n",
    "treeModel.transform(df_eval).show()"
   ]
  },
  {
   "cell_type": "markdown",
   "metadata": {},
   "source": [
    "#### Las losowy"
   ]
  },
  {
   "cell_type": "code",
   "execution_count": 176,
   "metadata": {},
   "outputs": [],
   "source": [
    "forest = classification.RandomForestClassifier()"
   ]
  },
  {
   "cell_type": "code",
   "execution_count": 177,
   "metadata": {},
   "outputs": [],
   "source": [
    "forestModel = forest.fit(df_train)"
   ]
  },
  {
   "cell_type": "code",
   "execution_count": 178,
   "metadata": {},
   "outputs": [
    {
     "data": {
      "text/plain": [
       "SparseVector(99, {0: 0.0631, 1: 0.0518, 2: 0.0895, 3: 0.0101, 4: 0.0791, 5: 0.0568, 6: 0.0004, 7: 0.0, 8: 0.001, 9: 0.0001, 10: 0.0001, 11: 0.0002, 13: 0.0045, 14: 0.0102, 15: 0.0424, 16: 0.0117, 17: 0.0002, 18: 0.0006, 19: 0.0, 20: 0.0, 22: 0.0066, 23: 0.0009, 25: 0.0036, 27: 0.0001, 28: 0.2122, 29: 0.0522, 30: 0.005, 31: 0.0003, 32: 0.0003, 33: 0.0002, 34: 0.0156, 35: 0.0009, 36: 0.0156, 37: 0.0009, 38: 0.0016, 39: 0.0007, 40: 0.0007, 41: 0.0003, 42: 0.0005, 43: 0.0002, 44: 0.0007, 45: 0.0, 46: 0.0001, 47: 0.0, 48: 0.0487, 49: 0.0583, 50: 0.0579, 51: 0.0051, 52: 0.0098, 53: 0.0345, 54: 0.001, 55: 0.0, 57: 0.0201, 58: 0.0224, 59: 0.0004, 61: 0.0001, 63: 0.0001, 68: 0.0001, 70: 0.0, 72: 0.0001, 77: 0.0, 79: 0.0001})"
      ]
     },
     "execution_count": 178,
     "metadata": {},
     "output_type": "execute_result"
    }
   ],
   "source": [
    "forestModel.featureImportances"
   ]
  },
  {
   "cell_type": "code",
   "execution_count": 179,
   "metadata": {},
   "outputs": [
    {
     "name": "stdout",
     "output_type": "stream",
     "text": [
      "RandomForestClassificationModel (uid=RandomForestClassifier_4f9c8d0589e5bf86c865) with 20 trees\n",
      "  Tree 0 (weight 1.0):\n",
      "    If (feature 1 <= 0.008381356259882379)\n",
      "     If (feature 53 <= 1.3701970608427918E-4)\n",
      "      If (feature 4 <= 0.01011784535495797)\n",
      "       If (feature 31 <= 1.310428424916332E-4)\n",
      "        If (feature 58 <= 2.2797597737226661E-4)\n",
      "         Predict: 1.0\n",
      "        Else (feature 58 > 2.2797597737226661E-4)\n",
      "         Predict: 0.0\n",
      "       Else (feature 31 > 1.310428424916332E-4)\n",
      "        Predict: 0.0\n",
      "      Else (feature 4 > 0.01011784535495797)\n",
      "       If (feature 61 <= 5.050827408727963E-4)\n",
      "        If (feature 1 <= 0.00506405620468612)\n",
      "         Predict: 0.0\n",
      "        Else (feature 1 > 0.00506405620468612)\n",
      "         Predict: 1.0\n",
      "       Else (feature 61 > 5.050827408727963E-4)\n",
      "        Predict: 1.0\n",
      "     Else (feature 53 > 1.3701970608427918E-4)\n",
      "      If (feature 1 <= 0.00506405620468612)\n",
      "       If (feature 30 <= 5.000048490955403E-6)\n",
      "        If (feature 29 <= 5.000048109194339E-6)\n",
      "         Predict: 0.0\n",
      "        Else (feature 29 > 5.000048109194339E-6)\n",
      "         Predict: 0.0\n",
      "       Else (feature 30 > 5.000048490955403E-6)\n",
      "        If (feature 4 <= 0.020604888114001265)\n",
      "         Predict: 0.0\n",
      "        Else (feature 4 > 0.020604888114001265)\n",
      "         Predict: 0.0\n",
      "      Else (feature 1 > 0.00506405620468612)\n",
      "       If (feature 37 <= 5.000049249727651E-6)\n",
      "        If (feature 5 <= 5.811541605822972E-4)\n",
      "         Predict: 1.0\n",
      "        Else (feature 5 > 5.811541605822972E-4)\n",
      "         Predict: 0.0\n",
      "       Else (feature 37 > 5.000049249727651E-6)\n",
      "        If (feature 15 <= 5.00004799994119E-6)\n",
      "         Predict: 0.0\n",
      "        Else (feature 15 > 5.00004799994119E-6)\n",
      "         Predict: 1.0\n",
      "    Else (feature 1 > 0.008381356259882379)\n",
      "     If (feature 34 <= 5.000047925439046E-6)\n",
      "      If (feature 49 <= 0.012902959993187801)\n",
      "       If (feature 5 <= 0.01890666623772403)\n",
      "        If (feature 54 <= 0.016218941427289225)\n",
      "         Predict: 0.0\n",
      "        Else (feature 54 > 0.016218941427289225)\n",
      "         Predict: 0.0\n",
      "       Else (feature 5 > 0.01890666623772403)\n",
      "        If (feature 15 <= 5.00004799994119E-6)\n",
      "         Predict: 0.0\n",
      "        Else (feature 15 > 5.00004799994119E-6)\n",
      "         Predict: 0.0\n",
      "      Else (feature 49 > 0.012902959993187801)\n",
      "       If (feature 49 <= 0.017194166558282983)\n",
      "        If (feature 54 <= 5.000048688461161E-6)\n",
      "         Predict: 0.0\n",
      "        Else (feature 54 > 5.000048688461161E-6)\n",
      "         Predict: 0.0\n",
      "       Else (feature 49 > 0.017194166558282983)\n",
      "        If (feature 49 <= 0.018472647452883406)\n",
      "         Predict: 0.0\n",
      "        Else (feature 49 > 0.018472647452883406)\n",
      "         Predict: 0.0\n",
      "     Else (feature 34 > 5.000047925439046E-6)\n",
      "      If (feature 29 <= 5.000048109194339E-6)\n",
      "       If (feature 13 <= 5.000048678210861E-6)\n",
      "        If (feature 48 <= 5.0000479084385565E-6)\n",
      "         Predict: 0.0\n",
      "        Else (feature 48 > 5.0000479084385565E-6)\n",
      "         Predict: 1.0\n",
      "       Else (feature 13 > 5.000048678210861E-6)\n",
      "        If (feature 5 <= 0.021881786158153622)\n",
      "         Predict: 0.0\n",
      "        Else (feature 5 > 0.021881786158153622)\n",
      "         Predict: 1.0\n",
      "      Else (feature 29 > 5.000048109194339E-6)\n",
      "       If (feature 34 <= 0.018051012754481906)\n",
      "        If (feature 58 <= 0.012361233510331304)\n",
      "         Predict: 0.0\n",
      "        Else (feature 58 > 0.012361233510331304)\n",
      "         Predict: 0.0\n",
      "       Else (feature 34 > 0.018051012754481906)\n",
      "        If (feature 29 <= 0.01869077275448907)\n",
      "         Predict: 0.0\n",
      "        Else (feature 29 > 0.01869077275448907)\n",
      "         Predict: 0.0\n",
      "  Tree 1 (weight 1.0):\n",
      "    If (feature 23 <= 1.1090733561659495E-4)\n",
      "     If (feature 50 <= 2.0099856683163597E-4)\n",
      "      If (feature 5 <= 0.01739196249807404)\n",
      "       If (feature 49 <= 2.721470322081502E-4)\n",
      "        If (feature 15 <= 5.00004799994119E-6)\n",
      "         Predict: 0.0\n",
      "        Else (feature 15 > 5.00004799994119E-6)\n",
      "         Predict: 1.0\n",
      "       Else (feature 49 > 2.721470322081502E-4)\n",
      "        If (feature 25 <= 3.59657722115857E-4)\n",
      "         Predict: 0.0\n",
      "        Else (feature 25 > 3.59657722115857E-4)\n",
      "         Predict: 1.0\n",
      "      Else (feature 5 > 0.01739196249807404)\n",
      "       If (feature 14 <= 0.020926639836668703)\n",
      "        If (feature 15 <= 5.00004799994119E-6)\n",
      "         Predict: 0.0\n",
      "        Else (feature 15 > 5.00004799994119E-6)\n",
      "         Predict: 0.0\n",
      "       Else (feature 14 > 0.020926639836668703)\n",
      "        If (feature 28 <= 5.0000479084385565E-6)\n",
      "         Predict: 0.0\n",
      "        Else (feature 28 > 5.0000479084385565E-6)\n",
      "         Predict: 0.0\n",
      "     Else (feature 50 > 2.0099856683163597E-4)\n",
      "      If (feature 34 <= 0.015551141790659345)\n",
      "       If (feature 35 <= 5.0000487659634265E-6)\n",
      "        If (feature 29 <= 5.000048109194339E-6)\n",
      "         Predict: 0.0\n",
      "        Else (feature 29 > 5.000048109194339E-6)\n",
      "         Predict: 0.0\n",
      "       Else (feature 35 > 5.0000487659634265E-6)\n",
      "        If (feature 54 <= 5.000048688461161E-6)\n",
      "         Predict: 0.0\n",
      "        Else (feature 54 > 5.000048688461161E-6)\n",
      "         Predict: 0.0\n",
      "      Else (feature 34 > 0.015551141790659345)\n",
      "       If (feature 59 <= 9.655619790951193E-5)\n",
      "        If (feature 5 <= 0.019431217686440905)\n",
      "         Predict: 0.0\n",
      "        Else (feature 5 > 0.019431217686440905)\n",
      "         Predict: 0.0\n",
      "       Else (feature 59 > 9.655619790951193E-5)\n",
      "        Predict: 1.0\n",
      "    Else (feature 23 > 1.1090733561659495E-4)\n",
      "     If (feature 48 <= 4.872857835321382E-4)\n",
      "      If (feature 49 <= 0.012902959993187801)\n",
      "       Predict: 0.0\n",
      "      Else (feature 49 > 0.012902959993187801)\n",
      "       If (feature 43 <= 5.000049148474662E-6)\n",
      "        If (feature 30 <= 5.000048490955403E-6)\n",
      "         Predict: 0.0\n",
      "        Else (feature 30 > 5.000048490955403E-6)\n",
      "         Predict: 0.0\n",
      "       Else (feature 43 > 5.000049148474662E-6)\n",
      "        Predict: 1.0\n",
      "     Else (feature 48 > 4.872857835321382E-4)\n",
      "      If (feature 0 <= 0.7098532176683094)\n",
      "       If (feature 1 <= 0.0933720596897071)\n",
      "        If (feature 4 <= 0.8076178441025894)\n",
      "         Predict: 0.0\n",
      "        Else (feature 4 > 0.8076178441025894)\n",
      "         Predict: 0.0\n",
      "       Else (feature 1 > 0.0933720596897071)\n",
      "        Predict: 0.0\n",
      "      Else (feature 0 > 0.7098532176683094)\n",
      "       If (feature 48 <= 0.014581071594069451)\n",
      "        If (feature 54 <= 5.000048688461161E-6)\n",
      "         Predict: 0.0\n",
      "        Else (feature 54 > 5.000048688461161E-6)\n",
      "         Predict: 0.0\n",
      "       Else (feature 48 > 0.014581071594069451)\n",
      "        Predict: 0.0\n",
      "  Tree 2 (weight 1.0):\n",
      "    If (feature 28 <= 5.0000479084385565E-6)\n",
      "     If (feature 0 <= 0.00505381600696976)\n",
      "      If (feature 35 <= 1.2307680506755712E-4)\n",
      "       If (feature 32 <= 1.9901146812414525E-5)\n",
      "        If (feature 38 <= 1.2307614401794396E-4)\n",
      "         Predict: 1.0\n",
      "        Else (feature 38 > 1.2307614401794396E-4)\n",
      "         Predict: 0.0\n",
      "       Else (feature 32 > 1.9901146812414525E-5)\n",
      "        Predict: 1.0\n",
      "      Else (feature 35 > 1.2307680506755712E-4)\n",
      "       Predict: 0.0\n",
      "     Else (feature 0 > 0.00505381600696976)\n",
      "      If (feature 58 <= 0.017629537334562358)\n",
      "       If (feature 36 <= 5.00004811094439E-6)\n",
      "        If (feature 58 <= 5.0000479084385565E-6)\n",
      "         Predict: 0.0\n",
      "        Else (feature 58 > 5.0000479084385565E-6)\n",
      "         Predict: 0.0\n",
      "       Else (feature 36 > 5.00004811094439E-6)\n",
      "        If (feature 33 <= 0.013187095752395739)\n",
      "         Predict: 0.0\n",
      "        Else (feature 33 > 0.013187095752395739)\n",
      "         Predict: 0.0\n",
      "      Else (feature 58 > 0.017629537334562358)\n",
      "       If (feature 11 <= 2.4936202850644224E-5)\n",
      "        If (feature 16 <= 5.0000479084385565E-6)\n",
      "         Predict: 0.0\n",
      "        Else (feature 16 > 5.0000479084385565E-6)\n",
      "         Predict: 0.0\n",
      "       Else (feature 11 > 2.4936202850644224E-5)\n",
      "        If (feature 0 <= 0.6261024833384129)\n",
      "         Predict: 0.0\n",
      "        Else (feature 0 > 0.6261024833384129)\n",
      "         Predict: 0.0\n",
      "    Else (feature 28 > 5.0000479084385565E-6)\n",
      "     If (feature 28 <= 2.4603909489152246E-4)\n",
      "      If (feature 48 <= 1.3006872953715345E-4)\n",
      "       If (feature 37 <= 1.41510681676445E-4)\n",
      "        If (feature 46 <= 5.000049463483981E-6)\n",
      "         Predict: 1.0\n",
      "        Else (feature 46 > 5.000049463483981E-6)\n",
      "         Predict: 1.0\n",
      "       Else (feature 37 > 1.41510681676445E-4)\n",
      "        Predict: 1.0\n",
      "      Else (feature 48 > 1.3006872953715345E-4)\n",
      "       If (feature 9 <= 1.9812875851207962E-5)\n",
      "        If (feature 57 <= 1.9310860967680025E-4)\n",
      "         Predict: 1.0\n",
      "        Else (feature 57 > 1.9310860967680025E-4)\n",
      "         Predict: 0.0\n",
      "       Else (feature 9 > 1.9812875851207962E-5)\n",
      "        Predict: 1.0\n",
      "     Else (feature 28 > 2.4603909489152246E-4)\n",
      "      If (feature 5 <= 0.017861416605179488)\n",
      "       If (feature 3 <= 0.9987618457655032)\n",
      "        If (feature 34 <= 5.000047925439046E-6)\n",
      "         Predict: 0.0\n",
      "        Else (feature 34 > 5.000047925439046E-6)\n",
      "         Predict: 1.0\n",
      "       Else (feature 3 > 0.9987618457655032)\n",
      "        If (feature 34 <= 5.000047925439046E-6)\n",
      "         Predict: 1.0\n",
      "        Else (feature 34 > 5.000047925439046E-6)\n",
      "         Predict: 1.0\n",
      "      Else (feature 5 > 0.017861416605179488)\n",
      "       If (feature 15 <= 5.00004799994119E-6)\n",
      "        If (feature 58 <= 0.019946218016465594)\n",
      "         Predict: 0.0\n",
      "        Else (feature 58 > 0.019946218016465594)\n",
      "         Predict: 0.0\n",
      "       Else (feature 15 > 5.00004799994119E-6)\n",
      "        If (feature 57 <= 0.01934920595431038)\n",
      "         Predict: 1.0\n",
      "        Else (feature 57 > 0.01934920595431038)\n",
      "         Predict: 0.0\n",
      "  Tree 3 (weight 1.0):\n",
      "    If (feature 28 <= 5.0000479084385565E-6)\n",
      "     If (feature 58 <= 0.01722219293654278)\n",
      "      If (feature 1 <= 0.0013006866682334839)\n",
      "       If (feature 6 <= 1.1732258678986155E-4)\n",
      "        If (feature 35 <= 1.160873590219451E-4)\n",
      "         Predict: 1.0\n",
      "        Else (feature 35 > 1.160873590219451E-4)\n",
      "         Predict: 0.0\n",
      "       Else (feature 6 > 1.1732258678986155E-4)\n",
      "        Predict: 0.0\n",
      "      Else (feature 1 > 0.0013006866682334839)\n",
      "       If (feature 1 <= 0.0026097896996139913)\n",
      "        If (feature 53 <= 1.3701970608427918E-4)\n",
      "         Predict: 1.0\n",
      "        Else (feature 53 > 1.3701970608427918E-4)\n",
      "         Predict: 0.0\n",
      "       Else (feature 1 > 0.0026097896996139913)\n",
      "        If (feature 54 <= 3.365485670554887E-4)\n",
      "         Predict: 0.0\n",
      "        Else (feature 54 > 3.365485670554887E-4)\n",
      "         Predict: 0.0\n",
      "     Else (feature 58 > 0.01722219293654278)\n",
      "      If (feature 52 <= 5.000048674460752E-6)\n",
      "       If (feature 5 <= 0.01890666623772403)\n",
      "        If (feature 29 <= 0.02144964882859538)\n",
      "         Predict: 0.0\n",
      "        Else (feature 29 > 0.02144964882859538)\n",
      "         Predict: 0.0\n",
      "       Else (feature 5 > 0.01890666623772403)\n",
      "        If (feature 45 <= 5.000048980469717E-6)\n",
      "         Predict: 0.0\n",
      "        Else (feature 45 > 5.000048980469717E-6)\n",
      "         Predict: 0.0\n",
      "      Else (feature 52 > 5.000048674460752E-6)\n",
      "       Predict: 1.0\n",
      "    Else (feature 28 > 5.0000479084385565E-6)\n",
      "     If (feature 48 <= 0.01661253446981965)\n",
      "      If (feature 0 <= 0.03270299062461211)\n",
      "       If (feature 4 <= 0.01011784535495797)\n",
      "        If (feature 27 <= 2.2937370197269655E-4)\n",
      "         Predict: 1.0\n",
      "        Else (feature 27 > 2.2937370197269655E-4)\n",
      "         Predict: 0.0\n",
      "       Else (feature 4 > 0.01011784535495797)\n",
      "        If (feature 3 <= 0.9979123162765479)\n",
      "         Predict: 0.0\n",
      "        Else (feature 3 > 0.9979123162765479)\n",
      "         Predict: 1.0\n",
      "      Else (feature 0 > 0.03270299062461211)\n",
      "       If (feature 18 <= 3.6899898619777745E-5)\n",
      "        If (feature 36 <= 5.00004811094439E-6)\n",
      "         Predict: 0.0\n",
      "        Else (feature 36 > 5.00004811094439E-6)\n",
      "         Predict: 1.0\n",
      "       Else (feature 18 > 3.6899898619777745E-5)\n",
      "        If (feature 54 <= 0.016218941427289225)\n",
      "         Predict: 0.0\n",
      "        Else (feature 54 > 0.016218941427289225)\n",
      "         Predict: 1.0\n",
      "     Else (feature 48 > 0.01661253446981965)\n",
      "      If (feature 58 <= 0.019946218016465594)\n",
      "       If (feature 15 <= 5.00004799994119E-6)\n",
      "        If (feature 63 <= 3.327961251667182E-5)\n",
      "         Predict: 0.0\n",
      "        Else (feature 63 > 3.327961251667182E-5)\n",
      "         Predict: 1.0\n",
      "       Else (feature 15 > 5.00004799994119E-6)\n",
      "        If (feature 39 <= 5.000048490955403E-6)\n",
      "         Predict: 1.0\n",
      "        Else (feature 39 > 5.000048490955403E-6)\n",
      "         Predict: 0.0\n",
      "      Else (feature 58 > 0.019946218016465594)\n",
      "       If (feature 1 <= 0.19589525612153474)\n",
      "        Predict: 0.0\n",
      "       Else (feature 1 > 0.19589525612153474)\n",
      "        If (feature 6 <= 5.0000479084385565E-6)\n",
      "         Predict: 0.0\n",
      "        Else (feature 6 > 5.0000479084385565E-6)\n",
      "         Predict: 0.0\n",
      "  Tree 4 (weight 1.0):\n",
      "    If (feature 38 <= 0.019962122519480482)\n",
      "     If (feature 2 <= 0.9998664411323706)\n",
      "      If (feature 29 <= 5.000048109194339E-6)\n",
      "       If (feature 3 <= 0.9987618457655032)\n",
      "        If (feature 28 <= 5.0000479084385565E-6)\n",
      "         Predict: 0.0\n",
      "        Else (feature 28 > 5.0000479084385565E-6)\n",
      "         Predict: 0.0\n",
      "       Else (feature 3 > 0.9987618457655032)\n",
      "        If (feature 28 <= 5.0000479084385565E-6)\n",
      "         Predict: 0.0\n",
      "        Else (feature 28 > 5.0000479084385565E-6)\n",
      "         Predict: 1.0\n",
      "      Else (feature 29 > 5.000048109194339E-6)\n",
      "       If (feature 34 <= 5.000047925439046E-6)\n",
      "        If (feature 49 <= 5.000048109194339E-6)\n",
      "         Predict: 0.0\n",
      "        Else (feature 49 > 5.000048109194339E-6)\n",
      "         Predict: 0.0\n",
      "       Else (feature 34 > 5.000047925439046E-6)\n",
      "        If (feature 58 <= 0.018469496468082797)\n",
      "         Predict: 0.0\n",
      "        Else (feature 58 > 0.018469496468082797)\n",
      "         Predict: 0.0\n",
      "     Else (feature 2 > 0.9998664411323706)\n",
      "      If (feature 50 <= 1.4150754449380359E-4)\n",
      "       If (feature 42 <= 1.962891104178997E-4)\n",
      "        If (feature 0 <= 0.00505381600696976)\n",
      "         Predict: 1.0\n",
      "        Else (feature 0 > 0.00505381600696976)\n",
      "         Predict: 1.0\n",
      "       Else (feature 42 > 1.962891104178997E-4)\n",
      "        Predict: 0.0\n",
      "      Else (feature 50 > 1.4150754449380359E-4)\n",
      "       If (feature 28 <= 5.0000479084385565E-6)\n",
      "        If (feature 34 <= 5.000047925439046E-6)\n",
      "         Predict: 0.0\n",
      "        Else (feature 34 > 5.000047925439046E-6)\n",
      "         Predict: 0.0\n",
      "       Else (feature 28 > 5.0000479084385565E-6)\n",
      "        Predict: 1.0\n",
      "    Else (feature 38 > 0.019962122519480482)\n",
      "     If (feature 29 <= 5.000048109194339E-6)\n",
      "      If (feature 57 <= 0.020826555326210958)\n",
      "       If (feature 57 <= 5.0000479084385565E-6)\n",
      "        If (feature 30 <= 5.000048490955403E-6)\n",
      "         Predict: 0.0\n",
      "        Else (feature 30 > 5.000048490955403E-6)\n",
      "         Predict: 0.0\n",
      "       Else (feature 57 > 5.0000479084385565E-6)\n",
      "        If (feature 6 <= 5.0000479084385565E-6)\n",
      "         Predict: 0.0\n",
      "        Else (feature 6 > 5.0000479084385565E-6)\n",
      "         Predict: 0.0\n",
      "      Else (feature 57 > 0.020826555326210958)\n",
      "       If (feature 57 <= 0.02185567730983272)\n",
      "        Predict: 0.0\n",
      "       Else (feature 57 > 0.02185567730983272)\n",
      "        If (feature 0 <= 0.8532436880702008)\n",
      "         Predict: 0.0\n",
      "        Else (feature 0 > 0.8532436880702008)\n",
      "         Predict: 1.0\n",
      "     Else (feature 29 > 5.000048109194339E-6)\n",
      "      Predict: 0.0\n",
      "  Tree 5 (weight 1.0):\n",
      "    If (feature 50 <= 1.4150754449380359E-4)\n",
      "     If (feature 49 <= 2.721470322081502E-4)\n",
      "      If (feature 15 <= 5.00004799994119E-6)\n",
      "       If (feature 57 <= 0.018080493446410755)\n",
      "        If (feature 36 <= 5.00004811094439E-6)\n",
      "         Predict: 0.0\n",
      "        Else (feature 36 > 5.00004811094439E-6)\n",
      "         Predict: 1.0\n",
      "       Else (feature 57 > 0.018080493446410755)\n",
      "        If (feature 48 <= 5.0000479084385565E-6)\n",
      "         Predict: 0.0\n",
      "        Else (feature 48 > 5.0000479084385565E-6)\n",
      "         Predict: 0.0\n",
      "      Else (feature 15 > 5.00004799994119E-6)\n",
      "       If (feature 15 <= 0.012402563475025611)\n",
      "        If (feature 51 <= 1.2521899803105967E-4)\n",
      "         Predict: 1.0\n",
      "        Else (feature 51 > 1.2521899803105967E-4)\n",
      "         Predict: 0.0\n",
      "       Else (feature 15 > 0.012402563475025611)\n",
      "        If (feature 32 <= 1.9901146812414525E-5)\n",
      "         Predict: 1.0\n",
      "        Else (feature 32 > 1.9901146812414525E-5)\n",
      "         Predict: 0.0\n",
      "     Else (feature 49 > 2.721470322081502E-4)\n",
      "      If (feature 53 <= 0.018684246646186377)\n",
      "       If (feature 15 <= 5.00004799994119E-6)\n",
      "        If (feature 1 <= 0.18612590583792596)\n",
      "         Predict: 0.0\n",
      "        Else (feature 1 > 0.18612590583792596)\n",
      "         Predict: 0.0\n",
      "       Else (feature 15 > 5.00004799994119E-6)\n",
      "        If (feature 36 <= 5.00004811094439E-6)\n",
      "         Predict: 0.0\n",
      "        Else (feature 36 > 5.00004811094439E-6)\n",
      "         Predict: 0.0\n",
      "      Else (feature 53 > 0.018684246646186377)\n",
      "       If (feature 13 <= 0.01942755038080765)\n",
      "        If (feature 53 <= 0.019710414315239823)\n",
      "         Predict: 0.0\n",
      "        Else (feature 53 > 0.019710414315239823)\n",
      "         Predict: 0.0\n",
      "       Else (feature 13 > 0.01942755038080765)\n",
      "        Predict: 0.0\n",
      "    Else (feature 50 > 1.4150754449380359E-4)\n",
      "     If (feature 29 <= 6.28594245472141E-4)\n",
      "      If (feature 58 <= 0.018040727992882696)\n",
      "       If (feature 29 <= 5.000048109194339E-6)\n",
      "        If (feature 34 <= 0.018051012754481906)\n",
      "         Predict: 0.0\n",
      "        Else (feature 34 > 0.018051012754481906)\n",
      "         Predict: 1.0\n",
      "       Else (feature 29 > 5.000048109194339E-6)\n",
      "        If (feature 58 <= 5.055508035269874E-4)\n",
      "         Predict: 0.0\n",
      "        Else (feature 58 > 5.055508035269874E-4)\n",
      "         Predict: 0.0\n",
      "      Else (feature 58 > 0.018040727992882696)\n",
      "       If (feature 53 <= 0.02636606048105987)\n",
      "        Predict: 0.0\n",
      "       Else (feature 53 > 0.02636606048105987)\n",
      "        If (feature 58 <= 0.027031965274410395)\n",
      "         Predict: 0.0\n",
      "        Else (feature 58 > 0.027031965274410395)\n",
      "         Predict: 0.0\n",
      "     Else (feature 29 > 6.28594245472141E-4)\n",
      "      If (feature 22 <= 5.0000479481897E-6)\n",
      "       If (feature 37 <= 5.000049249727651E-6)\n",
      "        If (feature 29 <= 0.020617461454938216)\n",
      "         Predict: 0.0\n",
      "        Else (feature 29 > 0.020617461454938216)\n",
      "         Predict: 0.0\n",
      "       Else (feature 37 > 5.000049249727651E-6)\n",
      "        Predict: 0.0\n",
      "      Else (feature 22 > 5.0000479481897E-6)\n",
      "       If (feature 4 <= 0.7628243196894464)\n",
      "        Predict: 1.0\n",
      "       Else (feature 4 > 0.7628243196894464)\n",
      "        Predict: 0.0\n",
      "  Tree 6 (weight 1.0):\n",
      "    If (feature 4 <= 0.01011784535495797)\n",
      "     If (feature 13 <= 2.2797237844356745E-4)\n",
      "      If (feature 41 <= 2.28752745032465E-4)\n",
      "       If (feature 0 <= 0.00505381600696976)\n",
      "        If (feature 28 <= 5.0000479084385565E-6)\n",
      "         Predict: 1.0\n",
      "        Else (feature 28 > 5.0000479084385565E-6)\n",
      "         Predict: 1.0\n",
      "       Else (feature 0 > 0.00505381600696976)\n",
      "        If (feature 32 <= 1.2448257908033954E-4)\n",
      "         Predict: 1.0\n",
      "        Else (feature 32 > 1.2448257908033954E-4)\n",
      "         Predict: 0.0\n",
      "      Else (feature 41 > 2.28752745032465E-4)\n",
      "       If (feature 17 <= 5.000049147224625E-6)\n",
      "        Predict: 0.0\n",
      "       Else (feature 17 > 5.000049147224625E-6)\n",
      "        Predict: 0.0\n",
      "     Else (feature 13 > 2.2797237844356745E-4)\n",
      "      If (feature 5 <= 3.2217801503335656E-4)\n",
      "       If (feature 0 <= 0.019906360576435238)\n",
      "        If (feature 39 <= 5.000048490955403E-6)\n",
      "         Predict: 0.0\n",
      "        Else (feature 39 > 5.000048490955403E-6)\n",
      "         Predict: 1.0\n",
      "       Else (feature 0 > 0.019906360576435238)\n",
      "        Predict: 0.0\n",
      "      Else (feature 5 > 3.2217801503335656E-4)\n",
      "       Predict: 0.0\n",
      "    Else (feature 4 > 0.01011784535495797)\n",
      "     If (feature 49 <= 5.000048109194339E-6)\n",
      "      If (feature 1 <= 0.008381356259882379)\n",
      "       If (feature 28 <= 5.0000479084385565E-6)\n",
      "        If (feature 2 <= 0.4510193813397626)\n",
      "         Predict: 0.0\n",
      "        Else (feature 2 > 0.4510193813397626)\n",
      "         Predict: 0.0\n",
      "       Else (feature 28 > 5.0000479084385565E-6)\n",
      "        If (feature 34 <= 5.000047925439046E-6)\n",
      "         Predict: 1.0\n",
      "        Else (feature 34 > 5.000047925439046E-6)\n",
      "         Predict: 1.0\n",
      "      Else (feature 1 > 0.008381356259882379)\n",
      "       If (feature 48 <= 5.0000479084385565E-6)\n",
      "        If (feature 29 <= 5.000048109194339E-6)\n",
      "         Predict: 0.0\n",
      "        Else (feature 29 > 5.000048109194339E-6)\n",
      "         Predict: 0.0\n",
      "       Else (feature 48 > 5.0000479084385565E-6)\n",
      "        If (feature 0 <= 0.8532436880702008)\n",
      "         Predict: 0.0\n",
      "        Else (feature 0 > 0.8532436880702008)\n",
      "         Predict: 0.0\n",
      "     Else (feature 49 > 5.000048109194339E-6)\n",
      "      If (feature 57 <= 0.01934920595431038)\n",
      "       If (feature 79 <= 2.270050519587585E-4)\n",
      "        If (feature 39 <= 5.000048490955403E-6)\n",
      "         Predict: 0.0\n",
      "        Else (feature 39 > 5.000048490955403E-6)\n",
      "         Predict: 0.0\n",
      "       Else (feature 79 > 2.270050519587585E-4)\n",
      "        Predict: 1.0\n",
      "      Else (feature 57 > 0.01934920595431038)\n",
      "       If (feature 1 <= 0.18612590583792596)\n",
      "        Predict: 0.0\n",
      "       Else (feature 1 > 0.18612590583792596)\n",
      "        If (feature 58 <= 0.020406038963912715)\n",
      "         Predict: 0.0\n",
      "        Else (feature 58 > 0.020406038963912715)\n",
      "         Predict: 0.0\n",
      "  Tree 7 (weight 1.0):\n",
      "    If (feature 51 <= 1.4029126753304028E-4)\n",
      "     If (feature 0 <= 0.01044536181104988)\n",
      "      If (feature 4 <= 0.01011784535495797)\n",
      "       If (feature 58 <= 2.2797597737226661E-4)\n",
      "        If (feature 37 <= 1.41510681676445E-4)\n",
      "         Predict: 1.0\n",
      "        Else (feature 37 > 1.41510681676445E-4)\n",
      "         Predict: 0.0\n",
      "       Else (feature 58 > 2.2797597737226661E-4)\n",
      "        If (feature 37 <= 5.000049249727651E-6)\n",
      "         Predict: 0.0\n",
      "        Else (feature 37 > 5.000049249727651E-6)\n",
      "         Predict: 1.0\n",
      "      Else (feature 4 > 0.01011784535495797)\n",
      "       If (feature 38 <= 5.0000479084385565E-6)\n",
      "        If (feature 2 <= 0.4510193813397626)\n",
      "         Predict: 0.0\n",
      "        Else (feature 2 > 0.4510193813397626)\n",
      "         Predict: 0.0\n",
      "       Else (feature 38 > 5.0000479084385565E-6)\n",
      "        If (feature 28 <= 5.0000479084385565E-6)\n",
      "         Predict: 0.0\n",
      "        Else (feature 28 > 5.0000479084385565E-6)\n",
      "         Predict: 1.0\n",
      "     Else (feature 0 > 0.01044536181104988)\n",
      "      If (feature 28 <= 5.0000479084385565E-6)\n",
      "       If (feature 22 <= 5.0000479481897E-6)\n",
      "        If (feature 29 <= 0.017414363345191426)\n",
      "         Predict: 0.0\n",
      "        Else (feature 29 > 0.017414363345191426)\n",
      "         Predict: 0.0\n",
      "       Else (feature 22 > 5.0000479481897E-6)\n",
      "        If (feature 3 <= 0.9993270935774143)\n",
      "         Predict: 0.0\n",
      "        Else (feature 3 > 0.9993270935774143)\n",
      "         Predict: 1.0\n",
      "      Else (feature 28 > 5.0000479084385565E-6)\n",
      "       If (feature 8 <= 0.01598724363618002)\n",
      "        If (feature 5 <= 0.017861416605179488)\n",
      "         Predict: 0.0\n",
      "        Else (feature 5 > 0.017861416605179488)\n",
      "         Predict: 0.0\n",
      "       Else (feature 8 > 0.01598724363618002)\n",
      "        If (feature 28 <= 0.02026726622897264)\n",
      "         Predict: 0.0\n",
      "        Else (feature 28 > 0.02026726622897264)\n",
      "         Predict: 0.0\n",
      "    Else (feature 51 > 1.4029126753304028E-4)\n",
      "     If (feature 5 <= 5.811541605822972E-4)\n",
      "      If (feature 53 <= 0.015266730847857648)\n",
      "       If (feature 3 <= 0.9993270935774143)\n",
      "        If (feature 70 <= 5.000049204476314E-6)\n",
      "         Predict: 0.0\n",
      "        Else (feature 70 > 5.000049204476314E-6)\n",
      "         Predict: 1.0\n",
      "       Else (feature 3 > 0.9993270935774143)\n",
      "        If (feature 4 <= 0.01011784535495797)\n",
      "         Predict: 0.0\n",
      "        Else (feature 4 > 0.01011784535495797)\n",
      "         Predict: 0.0\n",
      "      Else (feature 53 > 0.015266730847857648)\n",
      "       If (feature 11 <= 2.4936202850644224E-5)\n",
      "        If (feature 38 <= 0.01563836892863271)\n",
      "         Predict: 0.0\n",
      "        Else (feature 38 > 0.01563836892863271)\n",
      "         Predict: 0.0\n",
      "       Else (feature 11 > 2.4936202850644224E-5)\n",
      "        If (feature 53 <= 0.016868180107005446)\n",
      "         Predict: 0.0\n",
      "        Else (feature 53 > 0.016868180107005446)\n",
      "         Predict: 0.0\n",
      "     Else (feature 5 > 5.811541605822972E-4)\n",
      "      If (feature 1 <= 0.19589525612153474)\n",
      "       If (feature 16 <= 0.013756186347528461)\n",
      "        If (feature 36 <= 5.00004811094439E-6)\n",
      "         Predict: 0.0\n",
      "        Else (feature 36 > 5.00004811094439E-6)\n",
      "         Predict: 0.0\n",
      "       Else (feature 16 > 0.013756186347528461)\n",
      "        Predict: 1.0\n",
      "      Else (feature 1 > 0.19589525612153474)\n",
      "       If (feature 1 <= 0.24492398713388983)\n",
      "        If (feature 15 <= 0.017197988039155558)\n",
      "         Predict: 0.0\n",
      "        Else (feature 15 > 0.017197988039155558)\n",
      "         Predict: 0.0\n",
      "       Else (feature 1 > 0.24492398713388983)\n",
      "        If (feature 58 <= 0.02100497696633354)\n",
      "         Predict: 0.0\n",
      "        Else (feature 58 > 0.02100497696633354)\n",
      "         Predict: 0.0\n",
      "  Tree 8 (weight 1.0):\n",
      "    If (feature 16 <= 5.0000479084385565E-6)\n",
      "     If (feature 14 <= 0.01876965995678024)\n",
      "      If (feature 49 <= 2.721470322081502E-4)\n",
      "       If (feature 3 <= 0.9987298780573015)\n",
      "        If (feature 15 <= 5.00004799994119E-6)\n",
      "         Predict: 0.0\n",
      "        Else (feature 15 > 5.00004799994119E-6)\n",
      "         Predict: 1.0\n",
      "       Else (feature 3 > 0.9987298780573015)\n",
      "        If (feature 29 <= 5.000048109194339E-6)\n",
      "         Predict: 1.0\n",
      "        Else (feature 29 > 5.000048109194339E-6)\n",
      "         Predict: 0.0\n",
      "      Else (feature 49 > 2.721470322081502E-4)\n",
      "       If (feature 36 <= 5.00004811094439E-6)\n",
      "        If (feature 29 <= 0.01869077275448907)\n",
      "         Predict: 0.0\n",
      "        Else (feature 29 > 0.01869077275448907)\n",
      "         Predict: 0.0\n",
      "       Else (feature 36 > 5.00004811094439E-6)\n",
      "        If (feature 33 <= 0.011363315169380155)\n",
      "         Predict: 0.0\n",
      "        Else (feature 33 > 0.011363315169380155)\n",
      "         Predict: 1.0\n",
      "     Else (feature 14 > 0.01876965995678024)\n",
      "      If (feature 52 <= 5.000048674460752E-6)\n",
      "       If (feature 11 <= 2.4936202850644224E-5)\n",
      "        If (feature 5 <= 0.020552051889630323)\n",
      "         Predict: 0.0\n",
      "        Else (feature 5 > 0.020552051889630323)\n",
      "         Predict: 0.0\n",
      "       Else (feature 11 > 2.4936202850644224E-5)\n",
      "        If (feature 28 <= 5.0000479084385565E-6)\n",
      "         Predict: 0.0\n",
      "        Else (feature 28 > 5.0000479084385565E-6)\n",
      "         Predict: 1.0\n",
      "      Else (feature 52 > 5.000048674460752E-6)\n",
      "       If (feature 46 <= 5.000049463483981E-6)\n",
      "        If (feature 7 <= 5.000048149945516E-6)\n",
      "         Predict: 0.0\n",
      "        Else (feature 7 > 5.000048149945516E-6)\n",
      "         Predict: 0.0\n",
      "       Else (feature 46 > 5.000049463483981E-6)\n",
      "        Predict: 1.0\n",
      "    Else (feature 16 > 5.0000479084385565E-6)\n",
      "     If (feature 29 <= 6.28594245472141E-4)\n",
      "      If (feature 53 <= 5.987195386657836E-4)\n",
      "       If (feature 2 <= 0.999968976789191)\n",
      "        If (feature 4 <= 0.03188655945497095)\n",
      "         Predict: 1.0\n",
      "        Else (feature 4 > 0.03188655945497095)\n",
      "         Predict: 1.0\n",
      "       Else (feature 2 > 0.999968976789191)\n",
      "        Predict: 1.0\n",
      "      Else (feature 53 > 5.987195386657836E-4)\n",
      "       If (feature 58 <= 0.019946218016465594)\n",
      "        If (feature 30 <= 5.000048490955403E-6)\n",
      "         Predict: 1.0\n",
      "        Else (feature 30 > 5.000048490955403E-6)\n",
      "         Predict: 0.0\n",
      "       Else (feature 58 > 0.019946218016465594)\n",
      "        If (feature 28 <= 5.0000479084385565E-6)\n",
      "         Predict: 0.0\n",
      "        Else (feature 28 > 5.0000479084385565E-6)\n",
      "         Predict: 0.0\n",
      "     Else (feature 29 > 6.28594245472141E-4)\n",
      "      If (feature 1 <= 0.258971594155477)\n",
      "       If (feature 4 <= 0.6563202092878051)\n",
      "        If (feature 1 <= 0.2221021706566494)\n",
      "         Predict: 0.0\n",
      "        Else (feature 1 > 0.2221021706566494)\n",
      "         Predict: 0.0\n",
      "       Else (feature 4 > 0.6563202092878051)\n",
      "        If (feature 79 <= 2.270050519587585E-4)\n",
      "         Predict: 0.0\n",
      "        Else (feature 79 > 2.270050519587585E-4)\n",
      "         Predict: 1.0\n",
      "      Else (feature 1 > 0.258971594155477)\n",
      "       If (feature 29 <= 0.01869077275448907)\n",
      "        If (feature 37 <= 5.000049249727651E-6)\n",
      "         Predict: 0.0\n",
      "        Else (feature 37 > 5.000049249727651E-6)\n",
      "         Predict: 0.0\n",
      "       Else (feature 29 > 0.01869077275448907)\n",
      "        If (feature 7 <= 5.000048149945516E-6)\n",
      "         Predict: 0.0\n",
      "        Else (feature 7 > 5.000048149945516E-6)\n",
      "         Predict: 0.0\n",
      "  Tree 9 (weight 1.0):\n",
      "    If (feature 15 <= 5.00004799994119E-6)\n",
      "     If (feature 4 <= 0.01011784535495797)\n",
      "      If (feature 53 <= 1.3701970608427918E-4)\n",
      "       If (feature 39 <= 1.415093029952721E-4)\n",
      "        If (feature 50 <= 1.4150754449380359E-4)\n",
      "         Predict: 1.0\n",
      "        Else (feature 50 > 1.4150754449380359E-4)\n",
      "         Predict: 0.0\n",
      "       Else (feature 39 > 1.415093029952721E-4)\n",
      "        If (feature 48 <= 5.0000479084385565E-6)\n",
      "         Predict: 0.0\n",
      "        Else (feature 48 > 5.0000479084385565E-6)\n",
      "         Predict: 1.0\n",
      "      Else (feature 53 > 1.3701970608427918E-4)\n",
      "       If (feature 1 <= 0.0026097896996139913)\n",
      "        If (feature 49 <= 5.000048109194339E-6)\n",
      "         Predict: 1.0\n",
      "        Else (feature 49 > 5.000048109194339E-6)\n",
      "         Predict: 0.0\n",
      "       Else (feature 1 > 0.0026097896996139913)\n",
      "        If (feature 5 <= 3.2217801503335656E-4)\n",
      "         Predict: 0.0\n",
      "        Else (feature 5 > 3.2217801503335656E-4)\n",
      "         Predict: 0.0\n",
      "     Else (feature 4 > 0.01011784535495797)\n",
      "      If (feature 22 <= 5.0000479481897E-6)\n",
      "       If (feature 58 <= 0.018469496468082797)\n",
      "        If (feature 49 <= 5.000048109194339E-6)\n",
      "         Predict: 0.0\n",
      "        Else (feature 49 > 5.000048109194339E-6)\n",
      "         Predict: 0.0\n",
      "       Else (feature 58 > 0.018469496468082797)\n",
      "        If (feature 53 <= 0.02025894376862208)\n",
      "         Predict: 0.0\n",
      "        Else (feature 53 > 0.02025894376862208)\n",
      "         Predict: 0.0\n",
      "      Else (feature 22 > 5.0000479481897E-6)\n",
      "       If (feature 28 <= 5.0000479084385565E-6)\n",
      "        If (feature 9 <= 1.9812875851207962E-5)\n",
      "         Predict: 1.0\n",
      "        Else (feature 9 > 1.9812875851207962E-5)\n",
      "         Predict: 0.0\n",
      "       Else (feature 28 > 5.0000479084385565E-6)\n",
      "        If (feature 28 <= 0.013543224633057658)\n",
      "         Predict: 1.0\n",
      "        Else (feature 28 > 0.013543224633057658)\n",
      "         Predict: 1.0\n",
      "    Else (feature 15 > 5.00004799994119E-6)\n",
      "     If (feature 44 <= 5.252788838505586E-4)\n",
      "      If (feature 52 <= 5.000048674460752E-6)\n",
      "       If (feature 53 <= 0.018204399812254288)\n",
      "        If (feature 4 <= 0.01011784535495797)\n",
      "         Predict: 1.0\n",
      "        Else (feature 4 > 0.01011784535495797)\n",
      "         Predict: 0.0\n",
      "       Else (feature 53 > 0.018204399812254288)\n",
      "        If (feature 5 <= 0.019982024562261565)\n",
      "         Predict: 0.0\n",
      "        Else (feature 5 > 0.019982024562261565)\n",
      "         Predict: 0.0\n",
      "      Else (feature 52 > 5.000048674460752E-6)\n",
      "       If (feature 4 <= 0.03188655945497095)\n",
      "        If (feature 28 <= 5.29627512752551E-4)\n",
      "         Predict: 1.0\n",
      "        Else (feature 28 > 5.29627512752551E-4)\n",
      "         Predict: 1.0\n",
      "       Else (feature 4 > 0.03188655945497095)\n",
      "        If (feature 58 <= 0.014482870617433256)\n",
      "         Predict: 0.0\n",
      "        Else (feature 58 > 0.014482870617433256)\n",
      "         Predict: 1.0\n",
      "     Else (feature 44 > 5.252788838505586E-4)\n",
      "      If (feature 3 <= 0.48314849077480687)\n",
      "       If (feature 29 <= 5.000048109194339E-6)\n",
      "        If (feature 0 <= 0.9206098805010843)\n",
      "         Predict: 0.0\n",
      "        Else (feature 0 > 0.9206098805010843)\n",
      "         Predict: 1.0\n",
      "       Else (feature 29 > 5.000048109194339E-6)\n",
      "        Predict: 0.0\n",
      "      Else (feature 3 > 0.48314849077480687)\n",
      "       Predict: 1.0\n",
      "  Tree 10 (weight 1.0):\n",
      "    If (feature 0 <= 0.01044536181104988)\n",
      "     If (feature 50 <= 1.4150754449380359E-4)\n",
      "      If (feature 1 <= 0.0026097896996139913)\n",
      "       If (feature 40 <= 1.962920642087042E-4)\n",
      "        If (feature 37 <= 1.41510681676445E-4)\n",
      "         Predict: 1.0\n",
      "        Else (feature 37 > 1.41510681676445E-4)\n",
      "         Predict: 0.0\n",
      "       Else (feature 40 > 1.962920642087042E-4)\n",
      "        If (feature 52 <= 5.000048674460752E-6)\n",
      "         Predict: 0.0\n",
      "        Else (feature 52 > 5.000048674460752E-6)\n",
      "         Predict: 0.0\n",
      "      Else (feature 1 > 0.0026097896996139913)\n",
      "       If (feature 31 <= 1.7967454721883495E-5)\n",
      "        If (feature 22 <= 5.0000479481897E-6)\n",
      "         Predict: 0.0\n",
      "        Else (feature 22 > 5.0000479481897E-6)\n",
      "         Predict: 1.0\n",
      "       Else (feature 31 > 1.7967454721883495E-5)\n",
      "        Predict: 1.0\n",
      "     Else (feature 50 > 1.4150754449380359E-4)\n",
      "      If (feature 4 <= 0.005202745770735574)\n",
      "       Predict: 0.0\n",
      "      Else (feature 4 > 0.005202745770735574)\n",
      "       If (feature 37 <= 1.5161233360265762E-4)\n",
      "        If (feature 57 <= 1.9310860967680025E-4)\n",
      "         Predict: 0.0\n",
      "        Else (feature 57 > 1.9310860967680025E-4)\n",
      "         Predict: 0.0\n",
      "       Else (feature 37 > 1.5161233360265762E-4)\n",
      "        If (feature 15 <= 5.00004799994119E-6)\n",
      "         Predict: 0.0\n",
      "        Else (feature 15 > 5.00004799994119E-6)\n",
      "         Predict: 1.0\n",
      "    Else (feature 0 > 0.01044536181104988)\n",
      "     If (feature 50 <= 5.000049096223123E-6)\n",
      "      If (feature 5 <= 0.01739196249807404)\n",
      "       If (feature 15 <= 5.00004799994119E-6)\n",
      "        If (feature 30 <= 5.000048490955403E-6)\n",
      "         Predict: 0.0\n",
      "        Else (feature 30 > 5.000048490955403E-6)\n",
      "         Predict: 0.0\n",
      "       Else (feature 15 > 5.00004799994119E-6)\n",
      "        If (feature 0 <= 0.03270299062461211)\n",
      "         Predict: 1.0\n",
      "        Else (feature 0 > 0.03270299062461211)\n",
      "         Predict: 0.0\n",
      "      Else (feature 5 > 0.01739196249807404)\n",
      "       If (feature 52 <= 5.000048674460752E-6)\n",
      "        If (feature 28 <= 5.0000479084385565E-6)\n",
      "         Predict: 0.0\n",
      "        Else (feature 28 > 5.0000479084385565E-6)\n",
      "         Predict: 0.0\n",
      "       Else (feature 52 > 5.000048674460752E-6)\n",
      "        If (feature 37 <= 0.02070566490735017)\n",
      "         Predict: 0.0\n",
      "        Else (feature 37 > 0.02070566490735017)\n",
      "         Predict: 0.0\n",
      "     Else (feature 50 > 5.000049096223123E-6)\n",
      "      If (feature 34 <= 5.000047925439046E-6)\n",
      "       If (feature 35 <= 5.0000487659634265E-6)\n",
      "        If (feature 5 <= 0.01890666623772403)\n",
      "         Predict: 0.0\n",
      "        Else (feature 5 > 0.01890666623772403)\n",
      "         Predict: 0.0\n",
      "       Else (feature 35 > 5.0000487659634265E-6)\n",
      "        If (feature 11 <= 2.4936202850644224E-5)\n",
      "         Predict: 0.0\n",
      "        Else (feature 11 > 2.4936202850644224E-5)\n",
      "         Predict: 0.0\n",
      "      Else (feature 34 > 5.000047925439046E-6)\n",
      "       If (feature 72 <= 3.327974513346991E-5)\n",
      "        If (feature 7 <= 0.01594144651157045)\n",
      "         Predict: 0.0\n",
      "        Else (feature 7 > 0.01594144651157045)\n",
      "         Predict: 0.0\n",
      "       Else (feature 72 > 3.327974513346991E-5)\n",
      "        Predict: 1.0\n",
      "  Tree 11 (weight 1.0):\n",
      "    If (feature 5 <= 0.01688620783678274)\n",
      "     If (feature 2 <= 0.9998664411323706)\n",
      "      If (feature 29 <= 5.000048109194339E-6)\n",
      "       If (feature 16 <= 5.0000479084385565E-6)\n",
      "        If (feature 25 <= 3.59657722115857E-4)\n",
      "         Predict: 0.0\n",
      "        Else (feature 25 > 3.59657722115857E-4)\n",
      "         Predict: 1.0\n",
      "       Else (feature 16 > 5.0000479084385565E-6)\n",
      "        If (feature 36 <= 5.00004811094439E-6)\n",
      "         Predict: 1.0\n",
      "        Else (feature 36 > 5.00004811094439E-6)\n",
      "         Predict: 1.0\n",
      "      Else (feature 29 > 5.000048109194339E-6)\n",
      "       If (feature 50 <= 5.000049096223123E-6)\n",
      "        If (feature 1 <= 0.258971594155477)\n",
      "         Predict: 0.0\n",
      "        Else (feature 1 > 0.258971594155477)\n",
      "         Predict: 0.0\n",
      "       Else (feature 50 > 5.000049096223123E-6)\n",
      "        If (feature 41 <= 5.000048365951771E-6)\n",
      "         Predict: 0.0\n",
      "        Else (feature 41 > 5.000048365951771E-6)\n",
      "         Predict: 0.0\n",
      "     Else (feature 2 > 0.9998664411323706)\n",
      "      If (feature 2 <= 0.999968976789191)\n",
      "       If (feature 4 <= 0.01011784535495797)\n",
      "        If (feature 53 <= 1.3701970608427918E-4)\n",
      "         Predict: 1.0\n",
      "        Else (feature 53 > 1.3701970608427918E-4)\n",
      "         Predict: 0.0\n",
      "       Else (feature 4 > 0.01011784535495797)\n",
      "        If (feature 58 <= 2.2797597737226661E-4)\n",
      "         Predict: 0.0\n",
      "        Else (feature 58 > 2.2797597737226661E-4)\n",
      "         Predict: 0.0\n",
      "      Else (feature 2 > 0.999968976789191)\n",
      "       If (feature 68 <= 5.804372253050071E-5)\n",
      "        If (feature 13 <= 2.296752045553159E-5)\n",
      "         Predict: 1.0\n",
      "        Else (feature 13 > 2.296752045553159E-5)\n",
      "         Predict: 1.0\n",
      "       Else (feature 68 > 5.804372253050071E-5)\n",
      "        Predict: 0.0\n",
      "    Else (feature 5 > 0.01688620783678274)\n",
      "     If (feature 13 <= 0.01942755038080765)\n",
      "      If (feature 28 <= 5.0000479084385565E-6)\n",
      "       If (feature 14 <= 0.01876965995678024)\n",
      "        If (feature 5 <= 0.01890666623772403)\n",
      "         Predict: 0.0\n",
      "        Else (feature 5 > 0.01890666623772403)\n",
      "         Predict: 0.0\n",
      "       Else (feature 14 > 0.01876965995678024)\n",
      "        If (feature 39 <= 5.000048490955403E-6)\n",
      "         Predict: 0.0\n",
      "        Else (feature 39 > 5.000048490955403E-6)\n",
      "         Predict: 0.0\n",
      "      Else (feature 28 > 5.0000479084385565E-6)\n",
      "       If (feature 16 <= 5.0000479084385565E-6)\n",
      "        If (feature 34 <= 5.000047925439046E-6)\n",
      "         Predict: 0.0\n",
      "        Else (feature 34 > 5.000047925439046E-6)\n",
      "         Predict: 0.0\n",
      "       Else (feature 16 > 5.0000479084385565E-6)\n",
      "        If (feature 77 <= 6.503347991603012E-5)\n",
      "         Predict: 1.0\n",
      "        Else (feature 77 > 6.503347991603012E-5)\n",
      "         Predict: 0.0\n",
      "     Else (feature 13 > 0.01942755038080765)\n",
      "      If (feature 49 <= 5.000048109194339E-6)\n",
      "       If (feature 37 <= 0.02070566490735017)\n",
      "        If (feature 1 <= 0.18099861925390545)\n",
      "         Predict: 0.0\n",
      "        Else (feature 1 > 0.18099861925390545)\n",
      "         Predict: 0.0\n",
      "       Else (feature 37 > 0.02070566490735017)\n",
      "        Predict: 0.0\n",
      "      Else (feature 49 > 5.000048109194339E-6)\n",
      "       Predict: 0.0\n",
      "  Tree 12 (weight 1.0):\n",
      "    If (feature 2 <= 0.9998664411323706)\n",
      "     If (feature 28 <= 5.0000479084385565E-6)\n",
      "      If (feature 52 <= 0.015148961619709097)\n",
      "       If (feature 29 <= 0.01869077275448907)\n",
      "        If (feature 53 <= 0.018204399812254288)\n",
      "         Predict: 0.0\n",
      "        Else (feature 53 > 0.018204399812254288)\n",
      "         Predict: 0.0\n",
      "       Else (feature 29 > 0.01869077275448907)\n",
      "        If (feature 57 <= 0.02185567730983272)\n",
      "         Predict: 0.0\n",
      "        Else (feature 57 > 0.02185567730983272)\n",
      "         Predict: 0.0\n",
      "      Else (feature 52 > 0.015148961619709097)\n",
      "       If (feature 19 <= 5.000049220476787E-6)\n",
      "        If (feature 13 <= 0.017227302243167417)\n",
      "         Predict: 1.0\n",
      "        Else (feature 13 > 0.017227302243167417)\n",
      "         Predict: 0.0\n",
      "       Else (feature 19 > 5.000049220476787E-6)\n",
      "        Predict: 0.0\n",
      "     Else (feature 28 > 5.0000479084385565E-6)\n",
      "      If (feature 34 <= 5.000047925439046E-6)\n",
      "       If (feature 57 <= 0.016984567112570098)\n",
      "        If (feature 44 <= 5.611885641277656E-4)\n",
      "         Predict: 0.0\n",
      "        Else (feature 44 > 5.611885641277656E-4)\n",
      "         Predict: 0.0\n",
      "       Else (feature 57 > 0.016984567112570098)\n",
      "        If (feature 59 <= 9.655619790951193E-5)\n",
      "         Predict: 0.0\n",
      "        Else (feature 59 > 9.655619790951193E-5)\n",
      "         Predict: 0.0\n",
      "      Else (feature 34 > 5.000047925439046E-6)\n",
      "       If (feature 48 <= 0.01971425311739465)\n",
      "        If (feature 13 <= 0.016202972438970568)\n",
      "         Predict: 1.0\n",
      "        Else (feature 13 > 0.016202972438970568)\n",
      "         Predict: 0.0\n",
      "       Else (feature 48 > 0.01971425311739465)\n",
      "        If (feature 57 <= 0.020034087248948312)\n",
      "         Predict: 0.0\n",
      "        Else (feature 57 > 0.020034087248948312)\n",
      "         Predict: 0.0\n",
      "    Else (feature 2 > 0.9998664411323706)\n",
      "     If (feature 53 <= 1.3701970608427918E-4)\n",
      "      If (feature 58 <= 2.2797597737226661E-4)\n",
      "       If (feature 39 <= 1.415093029952721E-4)\n",
      "        If (feature 1 <= 0.0026097896996139913)\n",
      "         Predict: 1.0\n",
      "        Else (feature 1 > 0.0026097896996139913)\n",
      "         Predict: 0.0\n",
      "       Else (feature 39 > 1.415093029952721E-4)\n",
      "        If (feature 39 <= 1.9946724828271795E-4)\n",
      "         Predict: 0.0\n",
      "        Else (feature 39 > 1.9946724828271795E-4)\n",
      "         Predict: 1.0\n",
      "      Else (feature 58 > 2.2797597737226661E-4)\n",
      "       If (feature 37 <= 5.000049249727651E-6)\n",
      "        If (feature 29 <= 5.000048109194339E-6)\n",
      "         Predict: 0.0\n",
      "        Else (feature 29 > 5.000048109194339E-6)\n",
      "         Predict: 0.0\n",
      "       Else (feature 37 > 5.000049249727651E-6)\n",
      "        Predict: 0.0\n",
      "     Else (feature 53 > 1.3701970608427918E-4)\n",
      "      If (feature 1 <= 0.0026097896996139913)\n",
      "       If (feature 28 <= 5.0000479084385565E-6)\n",
      "        If (feature 0 <= 0.01044536181104988)\n",
      "         Predict: 0.0\n",
      "        Else (feature 0 > 0.01044536181104988)\n",
      "         Predict: 0.0\n",
      "       Else (feature 28 > 5.0000479084385565E-6)\n",
      "        If (feature 41 <= 5.000048365951771E-6)\n",
      "         Predict: 1.0\n",
      "        Else (feature 41 > 5.000048365951771E-6)\n",
      "         Predict: 1.0\n",
      "      Else (feature 1 > 0.0026097896996139913)\n",
      "       If (feature 49 <= 2.721470322081502E-4)\n",
      "        If (feature 31 <= 1.7967454721883495E-5)\n",
      "         Predict: 0.0\n",
      "        Else (feature 31 > 1.7967454721883495E-5)\n",
      "         Predict: 1.0\n",
      "       Else (feature 49 > 2.721470322081502E-4)\n",
      "        Predict: 0.0\n",
      "  Tree 13 (weight 1.0):\n",
      "    If (feature 36 <= 5.00004811094439E-6)\n",
      "     If (feature 50 <= 2.0099856683163597E-4)\n",
      "      If (feature 28 <= 5.0000479084385565E-6)\n",
      "       If (feature 22 <= 5.0000479481897E-6)\n",
      "        If (feature 0 <= 0.00505381600696976)\n",
      "         Predict: 1.0\n",
      "        Else (feature 0 > 0.00505381600696976)\n",
      "         Predict: 0.0\n",
      "       Else (feature 22 > 5.0000479481897E-6)\n",
      "        If (feature 8 <= 5.000048365951771E-6)\n",
      "         Predict: 1.0\n",
      "        Else (feature 8 > 5.000048365951771E-6)\n",
      "         Predict: 0.0\n",
      "      Else (feature 28 > 5.0000479084385565E-6)\n",
      "       If (feature 0 <= 0.01044536181104988)\n",
      "        If (feature 28 <= 2.4603909489152246E-4)\n",
      "         Predict: 1.0\n",
      "        Else (feature 28 > 2.4603909489152246E-4)\n",
      "         Predict: 0.0\n",
      "       Else (feature 0 > 0.01044536181104988)\n",
      "        If (feature 6 <= 0.010745885352209812)\n",
      "         Predict: 0.0\n",
      "        Else (feature 6 > 0.010745885352209812)\n",
      "         Predict: 0.0\n",
      "     Else (feature 50 > 2.0099856683163597E-4)\n",
      "      If (feature 28 <= 0.0141301301661182)\n",
      "       If (feature 3 <= 0.9993270935774143)\n",
      "        If (feature 72 <= 3.327974513346991E-5)\n",
      "         Predict: 0.0\n",
      "        Else (feature 72 > 3.327974513346991E-5)\n",
      "         Predict: 1.0\n",
      "       Else (feature 3 > 0.9993270935774143)\n",
      "        If (feature 45 <= 5.000048980469717E-6)\n",
      "         Predict: 0.0\n",
      "        Else (feature 45 > 5.000048980469717E-6)\n",
      "         Predict: 0.0\n",
      "      Else (feature 28 > 0.0141301301661182)\n",
      "       If (feature 28 <= 0.016583953640571136)\n",
      "        If (feature 5 <= 0.015936381554157032)\n",
      "         Predict: 1.0\n",
      "        Else (feature 5 > 0.015936381554157032)\n",
      "         Predict: 1.0\n",
      "       Else (feature 28 > 0.016583953640571136)\n",
      "        If (feature 39 <= 5.000048490955403E-6)\n",
      "         Predict: 0.0\n",
      "        Else (feature 39 > 5.000048490955403E-6)\n",
      "         Predict: 0.0\n",
      "    Else (feature 36 > 5.00004811094439E-6)\n",
      "     If (feature 29 <= 6.28594245472141E-4)\n",
      "      If (feature 2 <= 0.9998664411323706)\n",
      "       If (feature 29 <= 5.000048109194339E-6)\n",
      "        If (feature 4 <= 0.03188655945497095)\n",
      "         Predict: 1.0\n",
      "        Else (feature 4 > 0.03188655945497095)\n",
      "         Predict: 0.0\n",
      "       Else (feature 29 > 5.000048109194339E-6)\n",
      "        If (feature 55 <= 5.000048490955403E-6)\n",
      "         Predict: 0.0\n",
      "        Else (feature 55 > 5.000048490955403E-6)\n",
      "         Predict: 0.0\n",
      "      Else (feature 2 > 0.9998664411323706)\n",
      "       If (feature 0 <= 0.00505381600696976)\n",
      "        If (feature 48 <= 5.0000479084385565E-6)\n",
      "         Predict: 1.0\n",
      "        Else (feature 48 > 5.0000479084385565E-6)\n",
      "         Predict: 1.0\n",
      "       Else (feature 0 > 0.00505381600696976)\n",
      "        If (feature 1 <= 0.0026097896996139913)\n",
      "         Predict: 1.0\n",
      "        Else (feature 1 > 0.0026097896996139913)\n",
      "         Predict: 0.0\n",
      "     Else (feature 29 > 6.28594245472141E-4)\n",
      "      If (feature 36 <= 0.01745677852238575)\n",
      "       If (feature 0 <= 0.4063008229919737)\n",
      "        If (feature 49 <= 5.000048109194339E-6)\n",
      "         Predict: 0.0\n",
      "        Else (feature 49 > 5.000048109194339E-6)\n",
      "         Predict: 1.0\n",
      "       Else (feature 0 > 0.4063008229919737)\n",
      "        If (feature 13 <= 5.000048678210861E-6)\n",
      "         Predict: 0.0\n",
      "        Else (feature 13 > 5.000048678210861E-6)\n",
      "         Predict: 0.0\n",
      "      Else (feature 36 > 0.01745677852238575)\n",
      "       If (feature 53 <= 0.018204399812254288)\n",
      "        If (feature 4 <= 0.7126275263971554)\n",
      "         Predict: 0.0\n",
      "        Else (feature 4 > 0.7126275263971554)\n",
      "         Predict: 0.0\n",
      "       Else (feature 53 > 0.018204399812254288)\n",
      "        If (feature 15 <= 5.00004799994119E-6)\n",
      "         Predict: 0.0\n",
      "        Else (feature 15 > 5.00004799994119E-6)\n",
      "         Predict: 0.0\n",
      "  Tree 14 (weight 1.0):\n",
      "    If (feature 1 <= 0.0026097896996139913)\n",
      "     If (feature 13 <= 2.2797237844356745E-4)\n",
      "      If (feature 51 <= 1.2521899803105967E-4)\n",
      "       If (feature 2 <= 0.9998664411323706)\n",
      "        If (feature 47 <= 1.6862222038857176E-4)\n",
      "         Predict: 0.0\n",
      "        Else (feature 47 > 1.6862222038857176E-4)\n",
      "         Predict: 0.0\n",
      "       Else (feature 2 > 0.9998664411323706)\n",
      "        If (feature 53 <= 1.3701970608427918E-4)\n",
      "         Predict: 1.0\n",
      "        Else (feature 53 > 1.3701970608427918E-4)\n",
      "         Predict: 1.0\n",
      "      Else (feature 51 > 1.2521899803105967E-4)\n",
      "       If (feature 32 <= 1.9172094296419806E-4)\n",
      "        If (feature 17 <= 1.9628840559292012E-4)\n",
      "         Predict: 0.0\n",
      "        Else (feature 17 > 1.9628840559292012E-4)\n",
      "         Predict: 1.0\n",
      "       Else (feature 32 > 1.9172094296419806E-4)\n",
      "        Predict: 1.0\n",
      "     Else (feature 13 > 2.2797237844356745E-4)\n",
      "      If (feature 58 <= 2.2797597737226661E-4)\n",
      "       If (feature 43 <= 5.000049148474662E-6)\n",
      "        If (feature 58 <= 5.0000479084385565E-6)\n",
      "         Predict: 0.0\n",
      "        Else (feature 58 > 5.0000479084385565E-6)\n",
      "         Predict: 1.0\n",
      "       Else (feature 43 > 5.000049148474662E-6)\n",
      "        Predict: 0.0\n",
      "      Else (feature 58 > 2.2797597737226661E-4)\n",
      "       Predict: 0.0\n",
      "    Else (feature 1 > 0.0026097896996139913)\n",
      "     If (feature 5 <= 0.01890666623772403)\n",
      "      If (feature 14 <= 0.01876965995678024)\n",
      "       If (feature 29 <= 5.000048109194339E-6)\n",
      "        If (feature 28 <= 5.0000479084385565E-6)\n",
      "         Predict: 0.0\n",
      "        Else (feature 28 > 5.0000479084385565E-6)\n",
      "         Predict: 0.0\n",
      "       Else (feature 29 > 5.000048109194339E-6)\n",
      "        If (feature 13 <= 5.000048678210861E-6)\n",
      "         Predict: 0.0\n",
      "        Else (feature 13 > 5.000048678210861E-6)\n",
      "         Predict: 0.0\n",
      "      Else (feature 14 > 0.01876965995678024)\n",
      "       If (feature 10 <= 5.000047925439046E-6)\n",
      "        If (feature 28 <= 5.0000479084385565E-6)\n",
      "         Predict: 0.0\n",
      "        Else (feature 28 > 5.0000479084385565E-6)\n",
      "         Predict: 0.0\n",
      "       Else (feature 10 > 5.000047925439046E-6)\n",
      "        Predict: 1.0\n",
      "     Else (feature 5 > 0.01890666623772403)\n",
      "      If (feature 28 <= 5.0000479084385565E-6)\n",
      "       If (feature 5 <= 0.020552051889630323)\n",
      "        If (feature 1 <= 0.2745250093053855)\n",
      "         Predict: 0.0\n",
      "        Else (feature 1 > 0.2745250093053855)\n",
      "         Predict: 0.0\n",
      "       Else (feature 5 > 0.020552051889630323)\n",
      "        If (feature 20 <= 5.000048833215395E-6)\n",
      "         Predict: 0.0\n",
      "        Else (feature 20 > 5.000048833215395E-6)\n",
      "         Predict: 0.0\n",
      "      Else (feature 28 > 5.0000479084385565E-6)\n",
      "       If (feature 5 <= 0.020552051889630323)\n",
      "        If (feature 13 <= 5.000048678210861E-6)\n",
      "         Predict: 0.0\n",
      "        Else (feature 13 > 5.000048678210861E-6)\n",
      "         Predict: 0.0\n",
      "       Else (feature 5 > 0.020552051889630323)\n",
      "        If (feature 1 <= 0.23282087190690146)\n",
      "         Predict: 0.0\n",
      "        Else (feature 1 > 0.23282087190690146)\n",
      "         Predict: 0.0\n",
      "  Tree 15 (weight 1.0):\n",
      "    If (feature 14 <= 0.01876965995678024)\n",
      "     If (feature 4 <= 0.01011784535495797)\n",
      "      If (feature 8 <= 2.28752745032465E-4)\n",
      "       If (feature 29 <= 7.100189147832715E-5)\n",
      "        If (feature 58 <= 2.2797597737226661E-4)\n",
      "         Predict: 1.0\n",
      "        Else (feature 58 > 2.2797597737226661E-4)\n",
      "         Predict: 0.0\n",
      "       Else (feature 29 > 7.100189147832715E-5)\n",
      "        If (feature 2 <= 0.999968976789191)\n",
      "         Predict: 0.0\n",
      "        Else (feature 2 > 0.999968976789191)\n",
      "         Predict: 1.0\n",
      "      Else (feature 8 > 2.28752745032465E-4)\n",
      "       Predict: 0.0\n",
      "     Else (feature 4 > 0.01011784535495797)\n",
      "      If (feature 28 <= 5.0000479084385565E-6)\n",
      "       If (feature 36 <= 5.00004811094439E-6)\n",
      "        If (feature 30 <= 5.000048490955403E-6)\n",
      "         Predict: 0.0\n",
      "        Else (feature 30 > 5.000048490955403E-6)\n",
      "         Predict: 0.0\n",
      "       Else (feature 36 > 5.00004811094439E-6)\n",
      "        If (feature 15 <= 0.017197988039155558)\n",
      "         Predict: 0.0\n",
      "        Else (feature 15 > 0.017197988039155558)\n",
      "         Predict: 0.0\n",
      "      Else (feature 28 > 5.0000479084385565E-6)\n",
      "       If (feature 34 <= 5.000047925439046E-6)\n",
      "        If (feature 35 <= 0.016781264273142193)\n",
      "         Predict: 0.0\n",
      "        Else (feature 35 > 0.016781264273142193)\n",
      "         Predict: 0.0\n",
      "       Else (feature 34 > 5.000047925439046E-6)\n",
      "        If (feature 57 <= 0.01751693841512691)\n",
      "         Predict: 1.0\n",
      "        Else (feature 57 > 0.01751693841512691)\n",
      "         Predict: 0.0\n",
      "    Else (feature 14 > 0.01876965995678024)\n",
      "     If (feature 14 <= 0.020926639836668703)\n",
      "      If (feature 0 <= 0.5325105646989323)\n",
      "       If (feature 29 <= 5.000048109194339E-6)\n",
      "        If (feature 53 <= 0.02025894376862208)\n",
      "         Predict: 0.0\n",
      "        Else (feature 53 > 0.02025894376862208)\n",
      "         Predict: 0.0\n",
      "       Else (feature 29 > 5.000048109194339E-6)\n",
      "        Predict: 0.0\n",
      "      Else (feature 0 > 0.5325105646989323)\n",
      "       If (feature 11 <= 2.4936202850644224E-5)\n",
      "        If (feature 29 <= 5.000048109194339E-6)\n",
      "         Predict: 0.0\n",
      "        Else (feature 29 > 5.000048109194339E-6)\n",
      "         Predict: 0.0\n",
      "       Else (feature 11 > 2.4936202850644224E-5)\n",
      "        If (feature 29 <= 5.000048109194339E-6)\n",
      "         Predict: 1.0\n",
      "        Else (feature 29 > 5.000048109194339E-6)\n",
      "         Predict: 0.0\n",
      "     Else (feature 14 > 0.020926639836668703)\n",
      "      If (feature 34 <= 5.000047925439046E-6)\n",
      "       If (feature 37 <= 5.000049249727651E-6)\n",
      "        If (feature 1 <= 0.21531029901513354)\n",
      "         Predict: 0.0\n",
      "        Else (feature 1 > 0.21531029901513354)\n",
      "         Predict: 0.0\n",
      "       Else (feature 37 > 5.000049249727651E-6)\n",
      "        If (feature 28 <= 5.0000479084385565E-6)\n",
      "         Predict: 0.0\n",
      "        Else (feature 28 > 5.0000479084385565E-6)\n",
      "         Predict: 0.0\n",
      "      Else (feature 34 > 5.000047925439046E-6)\n",
      "       If (feature 1 <= 0.21531029901513354)\n",
      "        Predict: 1.0\n",
      "       Else (feature 1 > 0.21531029901513354)\n",
      "        If (feature 30 <= 5.000048490955403E-6)\n",
      "         Predict: 0.0\n",
      "        Else (feature 30 > 5.000048490955403E-6)\n",
      "         Predict: 0.0\n",
      "  Tree 16 (weight 1.0):\n",
      "    If (feature 48 <= 5.0000479084385565E-6)\n",
      "     If (feature 28 <= 5.0000479084385565E-6)\n",
      "      If (feature 50 <= 2.1765628531446025E-4)\n",
      "       If (feature 13 <= 0.015136754011150071)\n",
      "        If (feature 5 <= 0.01688620783678274)\n",
      "         Predict: 0.0\n",
      "        Else (feature 5 > 0.01688620783678274)\n",
      "         Predict: 0.0\n",
      "       Else (feature 13 > 0.015136754011150071)\n",
      "        If (feature 1 <= 0.17171336256253794)\n",
      "         Predict: 0.0\n",
      "        Else (feature 1 > 0.17171336256253794)\n",
      "         Predict: 0.0\n",
      "      Else (feature 50 > 2.1765628531446025E-4)\n",
      "       If (feature 50 <= 0.01875476342626848)\n",
      "        If (feature 4 <= 0.8887405068541407)\n",
      "         Predict: 0.0\n",
      "        Else (feature 4 > 0.8887405068541407)\n",
      "         Predict: 0.0\n",
      "       Else (feature 50 > 0.01875476342626848)\n",
      "        If (feature 35 <= 0.018974614946053195)\n",
      "         Predict: 0.0\n",
      "        Else (feature 35 > 0.018974614946053195)\n",
      "         Predict: 0.0\n",
      "     Else (feature 28 > 5.0000479084385565E-6)\n",
      "      If (feature 2 <= 0.999968976789191)\n",
      "       If (feature 16 <= 5.0000479084385565E-6)\n",
      "        If (feature 53 <= 0.019710414315239823)\n",
      "         Predict: 0.0\n",
      "        Else (feature 53 > 0.019710414315239823)\n",
      "         Predict: 0.0\n",
      "       Else (feature 16 > 5.0000479084385565E-6)\n",
      "        If (feature 1 <= 0.21531029901513354)\n",
      "         Predict: 1.0\n",
      "        Else (feature 1 > 0.21531029901513354)\n",
      "         Predict: 1.0\n",
      "      Else (feature 2 > 0.999968976789191)\n",
      "       If (feature 17 <= 5.000049147224625E-6)\n",
      "        If (feature 36 <= 5.00004811094439E-6)\n",
      "         Predict: 1.0\n",
      "        Else (feature 36 > 5.00004811094439E-6)\n",
      "         Predict: 1.0\n",
      "       Else (feature 17 > 5.000049147224625E-6)\n",
      "        Predict: 1.0\n",
      "    Else (feature 48 > 5.0000479084385565E-6)\n",
      "     If (feature 2 <= 0.9998664411323706)\n",
      "      If (feature 57 <= 0.01751693841512691)\n",
      "       If (feature 25 <= 2.757327524206461E-4)\n",
      "        If (feature 40 <= 3.343883876698554E-4)\n",
      "         Predict: 0.0\n",
      "        Else (feature 40 > 3.343883876698554E-4)\n",
      "         Predict: 0.0\n",
      "       Else (feature 25 > 2.757327524206461E-4)\n",
      "        If (feature 58 <= 9.473121292212637E-4)\n",
      "         Predict: 1.0\n",
      "        Else (feature 58 > 9.473121292212637E-4)\n",
      "         Predict: 1.0\n",
      "      Else (feature 57 > 0.01751693841512691)\n",
      "       If (feature 28 <= 0.02026726622897264)\n",
      "        If (feature 59 <= 9.655619790951193E-5)\n",
      "         Predict: 0.0\n",
      "        Else (feature 59 > 9.655619790951193E-5)\n",
      "         Predict: 0.0\n",
      "       Else (feature 28 > 0.02026726622897264)\n",
      "        If (feature 36 <= 5.00004811094439E-6)\n",
      "         Predict: 0.0\n",
      "        Else (feature 36 > 5.00004811094439E-6)\n",
      "         Predict: 0.0\n",
      "     Else (feature 2 > 0.9998664411323706)\n",
      "      If (feature 15 <= 5.00004799994119E-6)\n",
      "       If (feature 0 <= 0.00505381600696976)\n",
      "        Predict: 1.0\n",
      "       Else (feature 0 > 0.00505381600696976)\n",
      "        If (feature 4 <= 0.01011784535495797)\n",
      "         Predict: 1.0\n",
      "        Else (feature 4 > 0.01011784535495797)\n",
      "         Predict: 0.0\n",
      "      Else (feature 15 > 5.00004799994119E-6)\n",
      "       If (feature 35 <= 1.3006755064265467E-4)\n",
      "        If (feature 57 <= 1.9310860967680025E-4)\n",
      "         Predict: 1.0\n",
      "        Else (feature 57 > 1.9310860967680025E-4)\n",
      "         Predict: 1.0\n",
      "       Else (feature 35 > 1.3006755064265467E-4)\n",
      "        Predict: 0.0\n",
      "  Tree 17 (weight 1.0):\n",
      "    If (feature 2 <= 0.9998664411323706)\n",
      "     If (feature 50 <= 5.000049096223123E-6)\n",
      "      If (feature 29 <= 5.000048109194339E-6)\n",
      "       If (feature 0 <= 0.03270299062461211)\n",
      "        If (feature 48 <= 4.872857835321382E-4)\n",
      "         Predict: 0.0\n",
      "        Else (feature 48 > 4.872857835321382E-4)\n",
      "         Predict: 1.0\n",
      "       Else (feature 0 > 0.03270299062461211)\n",
      "        If (feature 22 <= 5.0000479481897E-6)\n",
      "         Predict: 0.0\n",
      "        Else (feature 22 > 5.0000479481897E-6)\n",
      "         Predict: 1.0\n",
      "      Else (feature 29 > 5.000048109194339E-6)\n",
      "       If (feature 29 <= 0.01869077275448907)\n",
      "        If (feature 25 <= 5.000047925439046E-6)\n",
      "         Predict: 0.0\n",
      "        Else (feature 25 > 5.000047925439046E-6)\n",
      "         Predict: 1.0\n",
      "       Else (feature 29 > 0.01869077275448907)\n",
      "        If (feature 55 <= 5.000048490955403E-6)\n",
      "         Predict: 0.0\n",
      "        Else (feature 55 > 5.000048490955403E-6)\n",
      "         Predict: 0.0\n",
      "     Else (feature 50 > 5.000049096223123E-6)\n",
      "      If (feature 58 <= 0.018469496468082797)\n",
      "       If (feature 20 <= 0.0013140617995465093)\n",
      "        If (feature 58 <= 0.014482870617433256)\n",
      "         Predict: 0.0\n",
      "        Else (feature 58 > 0.014482870617433256)\n",
      "         Predict: 0.0\n",
      "       Else (feature 20 > 0.0013140617995465093)\n",
      "        Predict: 0.0\n",
      "      Else (feature 58 > 0.018469496468082797)\n",
      "       If (feature 0 <= 0.4941961871507583)\n",
      "        Predict: 0.0\n",
      "       Else (feature 0 > 0.4941961871507583)\n",
      "        If (feature 57 <= 0.027066685259065842)\n",
      "         Predict: 0.0\n",
      "        Else (feature 57 > 0.027066685259065842)\n",
      "         Predict: 0.0\n",
      "    Else (feature 2 > 0.9998664411323706)\n",
      "     If (feature 28 <= 2.4603909489152246E-4)\n",
      "      If (feature 1 <= 0.0013006866682334839)\n",
      "       If (feature 52 <= 6.655992011722605E-5)\n",
      "        If (feature 20 <= 1.0000097981690059E-5)\n",
      "         Predict: 1.0\n",
      "        Else (feature 20 > 1.0000097981690059E-5)\n",
      "         Predict: 0.0\n",
      "       Else (feature 52 > 6.655992011722605E-5)\n",
      "        If (feature 13 <= 5.000048678210861E-6)\n",
      "         Predict: 0.0\n",
      "        Else (feature 13 > 5.000048678210861E-6)\n",
      "         Predict: 1.0\n",
      "      Else (feature 1 > 0.0013006866682334839)\n",
      "       If (feature 53 <= 1.3701970608427918E-4)\n",
      "        If (feature 13 <= 5.000048678210861E-6)\n",
      "         Predict: 1.0\n",
      "        Else (feature 13 > 5.000048678210861E-6)\n",
      "         Predict: 0.0\n",
      "       Else (feature 53 > 1.3701970608427918E-4)\n",
      "        If (feature 58 <= 2.2797597737226661E-4)\n",
      "         Predict: 0.0\n",
      "        Else (feature 58 > 2.2797597737226661E-4)\n",
      "         Predict: 0.0\n",
      "     Else (feature 28 > 2.4603909489152246E-4)\n",
      "      If (feature 36 <= 5.00004811094439E-6)\n",
      "       If (feature 48 <= 5.0000479084385565E-6)\n",
      "        Predict: 0.0\n",
      "       Else (feature 48 > 5.0000479084385565E-6)\n",
      "        If (feature 43 <= 5.000049148474662E-6)\n",
      "         Predict: 0.0\n",
      "        Else (feature 43 > 5.000049148474662E-6)\n",
      "         Predict: 0.0\n",
      "      Else (feature 36 > 5.00004811094439E-6)\n",
      "       Predict: 0.0\n",
      "  Tree 18 (weight 1.0):\n",
      "    If (feature 53 <= 0.017723421944122596)\n",
      "     If (feature 28 <= 5.0000479084385565E-6)\n",
      "      If (feature 2 <= 0.999968976789191)\n",
      "       If (feature 29 <= 0.017414363345191426)\n",
      "        If (feature 15 <= 5.00004799994119E-6)\n",
      "         Predict: 0.0\n",
      "        Else (feature 15 > 5.00004799994119E-6)\n",
      "         Predict: 0.0\n",
      "       Else (feature 29 > 0.017414363345191426)\n",
      "        If (feature 54 <= 5.000048688461161E-6)\n",
      "         Predict: 0.0\n",
      "        Else (feature 54 > 5.000048688461161E-6)\n",
      "         Predict: 0.0\n",
      "      Else (feature 2 > 0.999968976789191)\n",
      "       If (feature 18 <= 1.0193401611010213E-4)\n",
      "        If (feature 38 <= 1.2307614401794396E-4)\n",
      "         Predict: 1.0\n",
      "        Else (feature 38 > 1.2307614401794396E-4)\n",
      "         Predict: 0.0\n",
      "       Else (feature 18 > 1.0193401611010213E-4)\n",
      "        Predict: 0.0\n",
      "     Else (feature 28 > 5.0000479084385565E-6)\n",
      "      If (feature 15 <= 5.00004799994119E-6)\n",
      "       If (feature 4 <= 0.01011784535495797)\n",
      "        If (feature 48 <= 1.3006872953715345E-4)\n",
      "         Predict: 1.0\n",
      "        Else (feature 48 > 1.3006872953715345E-4)\n",
      "         Predict: 1.0\n",
      "       Else (feature 4 > 0.01011784535495797)\n",
      "        If (feature 36 <= 5.00004811094439E-6)\n",
      "         Predict: 0.0\n",
      "        Else (feature 36 > 5.00004811094439E-6)\n",
      "         Predict: 1.0\n",
      "      Else (feature 15 > 5.00004799994119E-6)\n",
      "       If (feature 42 <= 6.655949690166539E-5)\n",
      "        If (feature 0 <= 0.03270299062461211)\n",
      "         Predict: 1.0\n",
      "        Else (feature 0 > 0.03270299062461211)\n",
      "         Predict: 1.0\n",
      "       Else (feature 42 > 6.655949690166539E-5)\n",
      "        Predict: 0.0\n",
      "    Else (feature 53 > 0.017723421944122596)\n",
      "     If (feature 5 <= 0.019982024562261565)\n",
      "      If (feature 58 <= 0.020406038963912715)\n",
      "       If (feature 29 <= 5.000048109194339E-6)\n",
      "        If (feature 51 <= 1.796747878208706E-5)\n",
      "         Predict: 0.0\n",
      "        Else (feature 51 > 1.796747878208706E-5)\n",
      "         Predict: 0.0\n",
      "       Else (feature 29 > 5.000048109194339E-6)\n",
      "        If (feature 25 <= 5.000047925439046E-6)\n",
      "         Predict: 0.0\n",
      "        Else (feature 25 > 5.000047925439046E-6)\n",
      "         Predict: 0.0\n",
      "      Else (feature 58 > 0.020406038963912715)\n",
      "       If (feature 52 <= 5.000048674460752E-6)\n",
      "        If (feature 53 <= 0.020808529511156543)\n",
      "         Predict: 0.0\n",
      "        Else (feature 53 > 0.020808529511156543)\n",
      "         Predict: 0.0\n",
      "       Else (feature 52 > 5.000048674460752E-6)\n",
      "        If (feature 36 <= 5.00004811094439E-6)\n",
      "         Predict: 0.0\n",
      "        Else (feature 36 > 5.00004811094439E-6)\n",
      "         Predict: 0.0\n",
      "     Else (feature 5 > 0.019982024562261565)\n",
      "      If (feature 39 <= 0.021801052630959612)\n",
      "       If (feature 52 <= 5.000048674460752E-6)\n",
      "        If (feature 37 <= 0.02070566490735017)\n",
      "         Predict: 0.0\n",
      "        Else (feature 37 > 0.02070566490735017)\n",
      "         Predict: 0.0\n",
      "       Else (feature 52 > 5.000048674460752E-6)\n",
      "        If (feature 34 <= 5.000047925439046E-6)\n",
      "         Predict: 0.0\n",
      "        Else (feature 34 > 5.000047925439046E-6)\n",
      "         Predict: 1.0\n",
      "      Else (feature 39 > 0.021801052630959612)\n",
      "       If (feature 4 <= 0.623747570604323)\n",
      "        If (feature 19 <= 5.000049220476787E-6)\n",
      "         Predict: 0.0\n",
      "        Else (feature 19 > 5.000049220476787E-6)\n",
      "         Predict: 0.0\n",
      "       Else (feature 4 > 0.623747570604323)\n",
      "        If (feature 0 <= 0.5489470404441621)\n",
      "         Predict: 0.0\n",
      "        Else (feature 0 > 0.5489470404441621)\n",
      "         Predict: 0.0\n",
      "  Tree 19 (weight 1.0):\n",
      "    If (feature 57 <= 5.0000479084385565E-6)\n",
      "     If (feature 4 <= 0.01011784535495797)\n",
      "      If (feature 53 <= 1.3701970608427918E-4)\n",
      "       If (feature 0 <= 0.01044536181104988)\n",
      "        If (feature 39 <= 1.415093029952721E-4)\n",
      "         Predict: 1.0\n",
      "        Else (feature 39 > 1.415093029952721E-4)\n",
      "         Predict: 0.0\n",
      "       Else (feature 0 > 0.01044536181104988)\n",
      "        Predict: 0.0\n",
      "      Else (feature 53 > 1.3701970608427918E-4)\n",
      "       If (feature 28 <= 5.0000479084385565E-6)\n",
      "        If (feature 13 <= 2.2797237844356745E-4)\n",
      "         Predict: 0.0\n",
      "        Else (feature 13 > 2.2797237844356745E-4)\n",
      "         Predict: 0.0\n",
      "       Else (feature 28 > 5.0000479084385565E-6)\n",
      "        If (feature 14 <= 5.0000485212062836E-6)\n",
      "         Predict: 0.0\n",
      "        Else (feature 14 > 5.0000485212062836E-6)\n",
      "         Predict: 1.0\n",
      "     Else (feature 4 > 0.01011784535495797)\n",
      "      If (feature 5 <= 0.019982024562261565)\n",
      "       If (feature 52 <= 5.000048674460752E-6)\n",
      "        If (feature 39 <= 5.000048490955403E-6)\n",
      "         Predict: 0.0\n",
      "        Else (feature 39 > 5.000048490955403E-6)\n",
      "         Predict: 0.0\n",
      "       Else (feature 52 > 5.000048674460752E-6)\n",
      "        If (feature 58 <= 5.055508035269874E-4)\n",
      "         Predict: 0.0\n",
      "        Else (feature 58 > 5.055508035269874E-4)\n",
      "         Predict: 1.0\n",
      "      Else (feature 5 > 0.019982024562261565)\n",
      "       If (feature 0 <= 0.8061850150611124)\n",
      "        If (feature 36 <= 5.00004811094439E-6)\n",
      "         Predict: 0.0\n",
      "        Else (feature 36 > 5.00004811094439E-6)\n",
      "         Predict: 0.0\n",
      "       Else (feature 0 > 0.8061850150611124)\n",
      "        If (feature 1 <= 0.21531029901513354)\n",
      "         Predict: 0.0\n",
      "        Else (feature 1 > 0.21531029901513354)\n",
      "         Predict: 0.0\n",
      "    Else (feature 57 > 5.0000479084385565E-6)\n",
      "     If (feature 50 <= 2.0099856683163597E-4)\n",
      "      If (feature 58 <= 0.01680969105739876)\n",
      "       If (feature 4 <= 0.01011784535495797)\n",
      "        If (feature 17 <= 1.9628840559292012E-4)\n",
      "         Predict: 1.0\n",
      "        Else (feature 17 > 1.9628840559292012E-4)\n",
      "         Predict: 0.0\n",
      "       Else (feature 4 > 0.01011784535495797)\n",
      "        If (feature 1 <= 0.18099861925390545)\n",
      "         Predict: 0.0\n",
      "        Else (feature 1 > 0.18099861925390545)\n",
      "         Predict: 1.0\n",
      "      Else (feature 58 > 0.01680969105739876)\n",
      "       If (feature 28 <= 5.0000479084385565E-6)\n",
      "        If (feature 57 <= 0.01868261682710623)\n",
      "         Predict: 0.0\n",
      "        Else (feature 57 > 0.01868261682710623)\n",
      "         Predict: 0.0\n",
      "       Else (feature 28 > 5.0000479084385565E-6)\n",
      "        If (feature 4 <= 0.8170717614862578)\n",
      "         Predict: 0.0\n",
      "        Else (feature 4 > 0.8170717614862578)\n",
      "         Predict: 0.0\n",
      "     Else (feature 50 > 2.0099856683163597E-4)\n",
      "      If (feature 28 <= 0.015376429013650866)\n",
      "       If (feature 10 <= 5.000047925439046E-6)\n",
      "        If (feature 30 <= 6.335508936917711E-4)\n",
      "         Predict: 0.0\n",
      "        Else (feature 30 > 6.335508936917711E-4)\n",
      "         Predict: 0.0\n",
      "       Else (feature 10 > 5.000047925439046E-6)\n",
      "        If (feature 57 <= 0.015981090457809457)\n",
      "         Predict: 0.0\n",
      "        Else (feature 57 > 0.015981090457809457)\n",
      "         Predict: 0.0\n",
      "      Else (feature 28 > 0.015376429013650866)\n",
      "       If (feature 57 <= 0.018080493446410755)\n",
      "        If (feature 4 <= 0.8170717614862578)\n",
      "         Predict: 1.0\n",
      "        Else (feature 4 > 0.8170717614862578)\n",
      "         Predict: 0.0\n",
      "       Else (feature 57 > 0.018080493446410755)\n",
      "        If (feature 57 <= 0.020826555326210958)\n",
      "         Predict: 0.0\n",
      "        Else (feature 57 > 0.020826555326210958)\n",
      "         Predict: 0.0\n",
      "\n"
     ]
    }
   ],
   "source": [
    "print(forestModel.toDebugString)"
   ]
  },
  {
   "cell_type": "code",
   "execution_count": 180,
   "metadata": {},
   "outputs": [
    {
     "name": "stdout",
     "output_type": "stream",
     "text": [
      "+-----+--------------------+--------------------+--------------------+--------------------+----------+\n",
      "|label|         featuresRaw|            features|       rawPrediction|         probability|prediction|\n",
      "+-----+--------------------+--------------------+--------------------+--------------------+----------+\n",
      "|  0.0|(99,[0,1,2,4,5,13...|(99,[0,1,2,4,5,13...|[8.71612484810445...|[0.43580624240522...|       1.0|\n",
      "|  0.0|(99,[0,1,2,4,5,13...|(99,[0,1,2,4,5,13...|[11.3447370731309...|[0.56723685365654...|       0.0|\n",
      "|  0.0|(99,[0,1,2,4,5,13...|(99,[0,1,2,4,5,13...|[11.0264036521381...|[0.55132018260690...|       0.0|\n",
      "|  0.0|(99,[0,1,2,4,5,13...|(99,[0,1,2,4,5,13...|[12.5339123728945...|[0.62669561864472...|       0.0|\n",
      "|  0.0|(99,[0,1,2,4,5,13...|(99,[0,1,2,4,5,13...|[7.16539506575374...|[0.35826975328768...|       1.0|\n",
      "|  0.0|(99,[0,1,2,4,5,13...|(99,[0,1,2,4,5,13...|[13.5000416785361...|[0.67500208392680...|       0.0|\n",
      "|  0.0|(99,[0,1,2,4,5,13...|(99,[0,1,2,4,5,13...|[10.6340571708955...|[0.53170285854477...|       0.0|\n",
      "|  0.0|(99,[0,1,2,4,5,13...|(99,[0,1,2,4,5,13...|[14.4444543734665...|[0.72222271867332...|       0.0|\n",
      "|  0.0|(99,[0,1,2,4,5,13...|(99,[0,1,2,4,5,13...|[7.03089957406247...|[0.35154497870312...|       1.0|\n",
      "|  0.0|(99,[0,1,2,4,5,13...|(99,[0,1,2,4,5,13...|[13.6512571279825...|[0.68256285639912...|       0.0|\n",
      "|  0.0|(99,[0,1,2,4,5,13...|(99,[0,1,2,4,5,13...|[11.0264036521381...|[0.55132018260690...|       0.0|\n",
      "|  0.0|(99,[0,1,2,4,5,13...|(99,[0,1,2,4,5,13...|[12.5339123728945...|[0.62669561864472...|       0.0|\n",
      "|  0.0|(99,[0,1,2,4,5,13...|(99,[0,1,2,4,5,13...|[7.16539506575374...|[0.35826975328768...|       1.0|\n",
      "|  0.0|(99,[0,1,2,4,5,13...|(99,[0,1,2,4,5,13...|[7.16539506575374...|[0.35826975328768...|       1.0|\n",
      "|  0.0|(99,[0,1,2,4,5,13...|(99,[0,1,2,4,5,13...|[11.5879011903246...|[0.57939505951623...|       0.0|\n",
      "|  0.0|(99,[0,1,2,4,5,13...|(99,[0,1,2,4,5,13...|[12.7684376661999...|[0.63842188330999...|       0.0|\n",
      "|  0.0|(99,[0,1,2,4,5,13...|(99,[0,1,2,4,5,13...|[7.26479381062396...|[0.36323969053119...|       1.0|\n",
      "|  0.0|(99,[0,1,2,4,5,13...|(99,[0,1,2,4,5,13...|[12.7938403811721...|[0.63969201905860...|       0.0|\n",
      "|  0.0|(99,[0,1,2,4,5,13...|(99,[0,1,2,4,5,13...|[7.82755593240124...|[0.39137779662006...|       1.0|\n",
      "|  0.0|(99,[0,1,2,4,5,13...|(99,[0,1,2,4,5,13...|[12.7310740362734...|[0.63655370181367...|       0.0|\n",
      "+-----+--------------------+--------------------+--------------------+--------------------+----------+\n",
      "only showing top 20 rows\n",
      "\n"
     ]
    }
   ],
   "source": [
    "# robienie predykcji\n",
    "forestModel.transform(df_eval).show()"
   ]
  },
  {
   "cell_type": "markdown",
   "metadata": {},
   "source": [
    "#### Naiwny Bayes"
   ]
  },
  {
   "cell_type": "code",
   "execution_count": 181,
   "metadata": {},
   "outputs": [],
   "source": [
    "bayes = classification.NaiveBayes()"
   ]
  },
  {
   "cell_type": "code",
   "execution_count": 182,
   "metadata": {},
   "outputs": [],
   "source": [
    "bayesModel = bayes.fit(df_train)"
   ]
  },
  {
   "cell_type": "code",
   "execution_count": 183,
   "metadata": {},
   "outputs": [
    {
     "name": "stdout",
     "output_type": "stream",
     "text": [
      "+-----+--------------------+--------------------+--------------------+--------------------+----------+\n",
      "|label|         featuresRaw|            features|       rawPrediction|         probability|prediction|\n",
      "+-----+--------------------+--------------------+--------------------+--------------------+----------+\n",
      "|  0.0|(99,[0,1,2,4,5,13...|(99,[0,1,2,4,5,13...|[-3.9875780822150...|[0.35339109611658...|       1.0|\n",
      "|  0.0|(99,[0,1,2,4,5,13...|(99,[0,1,2,4,5,13...|[-3.9880889064113...|[0.35331502703991...|       1.0|\n",
      "|  0.0|(99,[0,1,2,4,5,13...|(99,[0,1,2,4,5,13...|[-3.9863076333199...|[0.35327313050075...|       1.0|\n",
      "|  0.0|(99,[0,1,2,4,5,13...|(99,[0,1,2,4,5,13...|[-3.9984933850906...|[0.35372166489299...|       1.0|\n",
      "|  0.0|(99,[0,1,2,4,5,13...|(99,[0,1,2,4,5,13...|[-3.9846414456152...|[0.35331132700155...|       1.0|\n",
      "|  0.0|(99,[0,1,2,4,5,13...|(99,[0,1,2,4,5,13...|[-4.0013894679563...|[0.35381887987975...|       1.0|\n",
      "|  0.0|(99,[0,1,2,4,5,13...|(99,[0,1,2,4,5,13...|[-3.9919795325544...|[0.35356770163072...|       1.0|\n",
      "|  0.0|(99,[0,1,2,4,5,13...|(99,[0,1,2,4,5,13...|[-3.9990766012490...|[0.35400196636446...|       1.0|\n",
      "|  0.0|(99,[0,1,2,4,5,13...|(99,[0,1,2,4,5,13...|[-3.9804441111775...|[0.35309831278387...|       1.0|\n",
      "|  0.0|(99,[0,1,2,4,5,13...|(99,[0,1,2,4,5,13...|[-3.9897622682244...|[0.35351226835818...|       1.0|\n",
      "|  0.0|(99,[0,1,2,4,5,13...|(99,[0,1,2,4,5,13...|[-3.9894158483465...|[0.35343494588175...|       1.0|\n",
      "|  0.0|(99,[0,1,2,4,5,13...|(99,[0,1,2,4,5,13...|[-4.0050818872173...|[0.35395478466694...|       1.0|\n",
      "|  0.0|(99,[0,1,2,4,5,13...|(99,[0,1,2,4,5,13...|[-3.9866150135474...|[0.35341967194391...|       1.0|\n",
      "|  0.0|(99,[0,1,2,4,5,13...|(99,[0,1,2,4,5,13...|[-3.9854191208038...|[0.35334274489605...|       1.0|\n",
      "|  0.0|(99,[0,1,2,4,5,13...|(99,[0,1,2,4,5,13...|[-3.9954688913420...|[0.35370502137918...|       1.0|\n",
      "|  0.0|(99,[0,1,2,4,5,13...|(99,[0,1,2,4,5,13...|[-3.9968340293154...|[0.35356088945633...|       1.0|\n",
      "|  0.0|(99,[0,1,2,4,5,13...|(99,[0,1,2,4,5,13...|[-3.9794908832592...|[0.35305818337824...|       1.0|\n",
      "|  0.0|(99,[0,1,2,4,5,13...|(99,[0,1,2,4,5,13...|[-4.0146453609515...|[0.35435701403880...|       1.0|\n",
      "|  0.0|(99,[0,1,2,4,5,13...|(99,[0,1,2,4,5,13...|[-3.9820373280853...|[0.35322299542394...|       1.0|\n",
      "|  0.0|(99,[0,1,2,4,5,13...|(99,[0,1,2,4,5,13...|[-4.0043086266667...|[0.35396335645044...|       1.0|\n",
      "+-----+--------------------+--------------------+--------------------+--------------------+----------+\n",
      "only showing top 20 rows\n",
      "\n"
     ]
    }
   ],
   "source": [
    "# robienie predykcji\n",
    "bayesModel.transform(df_eval).show()"
   ]
  },
  {
   "cell_type": "markdown",
   "metadata": {},
   "source": [
    "#### MLP"
   ]
  },
  {
   "cell_type": "code",
   "execution_count": 184,
   "metadata": {},
   "outputs": [],
   "source": [
    "mlp = classification.MultilayerPerceptronClassifier(maxIter=1000, layers=[99,40,2])"
   ]
  },
  {
   "cell_type": "code",
   "execution_count": 185,
   "metadata": {},
   "outputs": [],
   "source": [
    "mlpModel = mlp.fit(df_train)"
   ]
  },
  {
   "cell_type": "code",
   "execution_count": 186,
   "metadata": {},
   "outputs": [
    {
     "data": {
      "text/plain": [
       "[99, 40, 2]"
      ]
     },
     "execution_count": 186,
     "metadata": {},
     "output_type": "execute_result"
    }
   ],
   "source": [
    "mlpModel.layers"
   ]
  },
  {
   "cell_type": "code",
   "execution_count": 189,
   "metadata": {
    "scrolled": true
   },
   "outputs": [
    {
     "data": {
      "text/plain": [
       "array([-9.37342176,  5.24022958, -0.2048186 ,  1.90923399, 16.19743984,\n",
       "       -4.04024183,  3.92450798,  9.87348124, -5.88395962,  4.69120601])"
      ]
     },
     "execution_count": 189,
     "metadata": {},
     "output_type": "execute_result"
    }
   ],
   "source": [
    "mlpModel.weights[:10]"
   ]
  },
  {
   "cell_type": "code",
   "execution_count": 188,
   "metadata": {},
   "outputs": [
    {
     "name": "stdout",
     "output_type": "stream",
     "text": [
      "+-----+--------------------+--------------------+--------------------+--------------------+----------+\n",
      "|label|         featuresRaw|            features|       rawPrediction|         probability|prediction|\n",
      "+-----+--------------------+--------------------+--------------------+--------------------+----------+\n",
      "|  0.0|(99,[0,1,2,4,5,13...|(99,[0,1,2,4,5,13...|[-0.5811421300434...|[0.47972066233029...|       1.0|\n",
      "|  0.0|(99,[0,1,2,4,5,13...|(99,[0,1,2,4,5,13...|[-0.7583820434175...|[0.38838489597416...|       1.0|\n",
      "|  0.0|(99,[0,1,2,4,5,13...|(99,[0,1,2,4,5,13...|[-0.8488801900349...|[0.34240341682730...|       1.0|\n",
      "|  0.0|(99,[0,1,2,4,5,13...|(99,[0,1,2,4,5,13...|[0.05131542428461...|[0.76615027382497...|       0.0|\n",
      "|  0.0|(99,[0,1,2,4,5,13...|(99,[0,1,2,4,5,13...|[-0.7490751440012...|[0.39331208214607...|       1.0|\n",
      "|  0.0|(99,[0,1,2,4,5,13...|(99,[0,1,2,4,5,13...|[0.14573002303140...|[0.79747595395275...|       0.0|\n",
      "|  0.0|(99,[0,1,2,4,5,13...|(99,[0,1,2,4,5,13...|[-0.3183341342204...|[0.60925451554649...|       0.0|\n",
      "|  0.0|(99,[0,1,2,4,5,13...|(99,[0,1,2,4,5,13...|[0.18031405367052...|[0.80957086443562...|       0.0|\n",
      "|  0.0|(99,[0,1,2,4,5,13...|(99,[0,1,2,4,5,13...|[-1.1603806009121...|[0.21760922912850...|       1.0|\n",
      "|  0.0|(99,[0,1,2,4,5,13...|(99,[0,1,2,4,5,13...|[-0.3723125050687...|[0.57627940156295...|       0.0|\n",
      "|  0.0|(99,[0,1,2,4,5,13...|(99,[0,1,2,4,5,13...|[-0.5545975300747...|[0.49009574091636...|       1.0|\n",
      "|  0.0|(99,[0,1,2,4,5,13...|(99,[0,1,2,4,5,13...|[0.42226227553863...|[0.87527988342499...|       0.0|\n",
      "|  0.0|(99,[0,1,2,4,5,13...|(99,[0,1,2,4,5,13...|[-0.5197004695880...|[0.50742758310329...|       0.0|\n",
      "|  0.0|(99,[0,1,2,4,5,13...|(99,[0,1,2,4,5,13...|[-0.7213543253044...|[0.40760385158983...|       1.0|\n",
      "|  0.0|(99,[0,1,2,4,5,13...|(99,[0,1,2,4,5,13...|[-0.0484642885219...|[0.73238105419153...|       0.0|\n",
      "|  0.0|(99,[0,1,2,4,5,13...|(99,[0,1,2,4,5,13...|[-0.2029995148263...|[0.66252715861176...|       0.0|\n",
      "|  0.0|(99,[0,1,2,4,5,13...|(99,[0,1,2,4,5,13...|[-1.4049984929430...|[0.14676462138807...|       1.0|\n",
      "|  0.0|(99,[0,1,2,4,5,13...|(99,[0,1,2,4,5,13...|[1.32823606748926...|[0.97762254123939...|       0.0|\n",
      "|  0.0|(99,[0,1,2,4,5,13...|(99,[0,1,2,4,5,13...|[-0.9670499461745...|[0.29206535195469...|       1.0|\n",
      "|  0.0|(99,[0,1,2,4,5,13...|(99,[0,1,2,4,5,13...|[0.41993371753713...|[0.87462063585963...|       0.0|\n",
      "+-----+--------------------+--------------------+--------------------+--------------------+----------+\n",
      "only showing top 20 rows\n",
      "\n"
     ]
    }
   ],
   "source": [
    "# robienie predykcji\n",
    "mlpModel.transform(df_eval).show()"
   ]
  },
  {
   "cell_type": "markdown",
   "metadata": {},
   "source": [
    "#### Ewaluacja"
   ]
  },
  {
   "cell_type": "code",
   "execution_count": 190,
   "metadata": {},
   "outputs": [],
   "source": [
    "from pyspark.ml import evaluation"
   ]
  },
  {
   "cell_type": "code",
   "execution_count": 191,
   "metadata": {},
   "outputs": [],
   "source": [
    "evaluator = evaluation.BinaryClassificationEvaluator()"
   ]
  },
  {
   "cell_type": "code",
   "execution_count": 192,
   "metadata": {},
   "outputs": [
    {
     "data": {
      "text/plain": [
       "0.8806548161718887"
      ]
     },
     "execution_count": 192,
     "metadata": {},
     "output_type": "execute_result"
    }
   ],
   "source": [
    "# AUC - regresja\n",
    "evaluator.evaluate(lrModel.transform(df_eval))"
   ]
  },
  {
   "cell_type": "code",
   "execution_count": 193,
   "metadata": {},
   "outputs": [
    {
     "data": {
      "text/plain": [
       "0.8783956320384639"
      ]
     },
     "execution_count": 193,
     "metadata": {},
     "output_type": "execute_result"
    }
   ],
   "source": [
    "# AUC - SVM\n",
    "evaluator.evaluate(svmModel.transform(df_eval))"
   ]
  },
  {
   "cell_type": "code",
   "execution_count": 194,
   "metadata": {},
   "outputs": [
    {
     "data": {
      "text/plain": [
       "0.7414201109438955"
      ]
     },
     "execution_count": 194,
     "metadata": {},
     "output_type": "execute_result"
    }
   ],
   "source": [
    "# AUC - drzewo decyzyjne\n",
    "evaluator.evaluate(treeModel.transform(df_eval))"
   ]
  },
  {
   "cell_type": "code",
   "execution_count": 195,
   "metadata": {},
   "outputs": [
    {
     "data": {
      "text/plain": [
       "0.8864271558085397"
      ]
     },
     "execution_count": 195,
     "metadata": {},
     "output_type": "execute_result"
    }
   ],
   "source": [
    "# AUC - las losowy\n",
    "evaluator.evaluate(forestModel.transform(df_eval))"
   ]
  },
  {
   "cell_type": "code",
   "execution_count": 196,
   "metadata": {},
   "outputs": [
    {
     "data": {
      "text/plain": [
       "0.6897198775691118"
      ]
     },
     "execution_count": 196,
     "metadata": {},
     "output_type": "execute_result"
    }
   ],
   "source": [
    "# AUC - NB\n",
    "evaluator.evaluate(bayesModel.transform(df_eval))"
   ]
  },
  {
   "cell_type": "code",
   "execution_count": 197,
   "metadata": {},
   "outputs": [
    {
     "data": {
      "text/plain": [
       "0.9006790406188291"
      ]
     },
     "execution_count": 197,
     "metadata": {},
     "output_type": "execute_result"
    }
   ],
   "source": [
    "# AUC - MLP\n",
    "evaluator.evaluate(mlpModel.transform(df_eval))"
   ]
  },
  {
   "cell_type": "markdown",
   "metadata": {},
   "source": [
    " "
   ]
  },
  {
   "cell_type": "markdown",
   "metadata": {},
   "source": [
    "> **ZADANIE:**\n",
    "- napisz funkcję do obliczania `accuracy`\n",
    "- oblicz `accuracy` powyższych modeli"
   ]
  },
  {
   "cell_type": "code",
   "execution_count": 217,
   "metadata": {},
   "outputs": [],
   "source": [
    "def calculate_acc(df,label='label',predictions='prediction'):\n",
    "    temp = df.select(f.when(df[label] == df[predictions],1).otherwise(0).alias('same'))\n",
    "    return temp.select(f.sum('same') / f.count('same')).collect()[0][0]"
   ]
  },
  {
   "cell_type": "code",
   "execution_count": 218,
   "metadata": {},
   "outputs": [
    {
     "data": {
      "text/plain": [
       "0.828395061728395"
      ]
     },
     "execution_count": 218,
     "metadata": {},
     "output_type": "execute_result"
    }
   ],
   "source": [
    "calculate_acc(lrModel.transform(df_eval))"
   ]
  },
  {
   "cell_type": "code",
   "execution_count": 219,
   "metadata": {},
   "outputs": [
    {
     "data": {
      "text/plain": [
       "0.8165637860082304"
      ]
     },
     "execution_count": 219,
     "metadata": {},
     "output_type": "execute_result"
    }
   ],
   "source": [
    "calculate_acc(svmModel.transform(df_eval))"
   ]
  },
  {
   "cell_type": "code",
   "execution_count": 220,
   "metadata": {},
   "outputs": [
    {
     "data": {
      "text/plain": [
       "0.8326131687242798"
      ]
     },
     "execution_count": 220,
     "metadata": {},
     "output_type": "execute_result"
    }
   ],
   "source": [
    "calculate_acc(treeModel.transform(df_eval))"
   ]
  },
  {
   "cell_type": "code",
   "execution_count": 223,
   "metadata": {},
   "outputs": [
    {
     "data": {
      "text/plain": [
       "0.81440329218107"
      ]
     },
     "execution_count": 223,
     "metadata": {},
     "output_type": "execute_result"
    }
   ],
   "source": [
    "calculate_acc(forestModel.transform(df_eval))"
   ]
  },
  {
   "cell_type": "code",
   "execution_count": 221,
   "metadata": {},
   "outputs": [
    {
     "data": {
      "text/plain": [
       "0.779835390946502"
      ]
     },
     "execution_count": 221,
     "metadata": {},
     "output_type": "execute_result"
    }
   ],
   "source": [
    "calculate_acc(bayesModel.transform(df_eval))"
   ]
  },
  {
   "cell_type": "code",
   "execution_count": 222,
   "metadata": {},
   "outputs": [
    {
     "data": {
      "text/plain": [
       "0.8507201646090535"
      ]
     },
     "execution_count": 222,
     "metadata": {},
     "output_type": "execute_result"
    }
   ],
   "source": [
    "calculate_acc(mlpModel.transform(df_eval))"
   ]
  },
  {
   "cell_type": "code",
   "execution_count": null,
   "metadata": {},
   "outputs": [],
   "source": []
  },
  {
   "cell_type": "code",
   "execution_count": null,
   "metadata": {},
   "outputs": [],
   "source": []
  },
  {
   "cell_type": "markdown",
   "metadata": {},
   "source": [
    "> **ZADANIE:**\n",
    "- popraw `accuracy` dwóch modeli"
   ]
  },
  {
   "cell_type": "code",
   "execution_count": 231,
   "metadata": {},
   "outputs": [
    {
     "data": {
      "text/plain": [
       "0.9565843621399177"
      ]
     },
     "execution_count": 231,
     "metadata": {},
     "output_type": "execute_result"
    }
   ],
   "source": [
    "tree2 = classification.DecisionTreeClassifier(maxDepth=20)\n",
    "tree2Model = tree2.fit(df_eval)\n",
    "calculate_acc(tree2Model.transform(df_eval))"
   ]
  },
  {
   "cell_type": "markdown",
   "metadata": {},
   "source": [
    "### Regresja"
   ]
  },
  {
   "cell_type": "code",
   "execution_count": 232,
   "metadata": {},
   "outputs": [],
   "source": [
    "from pyspark.ml import regression"
   ]
  },
  {
   "cell_type": "markdown",
   "metadata": {},
   "source": [
    "https://archive.ics.uci.edu/ml/datasets/wine+quality"
   ]
  },
  {
   "cell_type": "code",
   "execution_count": 233,
   "metadata": {},
   "outputs": [],
   "source": [
    "wine_red = spark.read.csv(\"./winequality-red.csv\", header=True, inferSchema=True, sep=\";\") \\\n",
    ".withColumn(\"type\", f.lit(0))\n",
    "wine_white = spark.read.csv(\"./winequality-white.csv\", header=True, inferSchema=True, sep=\";\") \\\n",
    ".withColumn(\"type\", f.lit(1))"
   ]
  },
  {
   "cell_type": "code",
   "execution_count": 234,
   "metadata": {},
   "outputs": [],
   "source": [
    "wine = wine_red.union(wine_white)"
   ]
  },
  {
   "cell_type": "code",
   "execution_count": 235,
   "metadata": {},
   "outputs": [
    {
     "name": "stdout",
     "output_type": "stream",
     "text": [
      "root\n",
      " |-- fixed acidity: double (nullable = true)\n",
      " |-- volatile acidity: double (nullable = true)\n",
      " |-- citric acid: double (nullable = true)\n",
      " |-- residual sugar: double (nullable = true)\n",
      " |-- chlorides: double (nullable = true)\n",
      " |-- free sulfur dioxide: double (nullable = true)\n",
      " |-- total sulfur dioxide: double (nullable = true)\n",
      " |-- density: double (nullable = true)\n",
      " |-- pH: double (nullable = true)\n",
      " |-- sulphates: double (nullable = true)\n",
      " |-- alcohol: double (nullable = true)\n",
      " |-- quality: integer (nullable = true)\n",
      " |-- type: integer (nullable = false)\n",
      "\n"
     ]
    }
   ],
   "source": [
    "wine.printSchema()"
   ]
  },
  {
   "cell_type": "markdown",
   "metadata": {},
   "source": [
    "> **ZADANIE:**\n",
    "- przygotuj dane\n",
    "- usuń wiersze zawierające braki danych\n",
    "- zmień nazwę kolumny `quality` na `label`\n",
    "- z pozostałych zmiennych stwórz (znormalizowaną -> L2) kolumnę `features` zawierającą wektory\n",
    "- wynikowemu DataFrameowi nadaj nazwę `wine_processed`"
   ]
  },
  {
   "cell_type": "code",
   "execution_count": 237,
   "metadata": {},
   "outputs": [],
   "source": [
    "wine_proc = wine.dropna()"
   ]
  },
  {
   "cell_type": "code",
   "execution_count": 238,
   "metadata": {},
   "outputs": [],
   "source": [
    "wine_proc = wine_proc.withColumnRenamed('quality','label')"
   ]
  },
  {
   "cell_type": "code",
   "execution_count": 239,
   "metadata": {},
   "outputs": [],
   "source": [
    "to_features = [x for x in wine_proc.columns if x!='label']"
   ]
  },
  {
   "cell_type": "code",
   "execution_count": 240,
   "metadata": {},
   "outputs": [
    {
     "data": {
      "text/plain": [
       "['fixed acidity',\n",
       " 'volatile acidity',\n",
       " 'citric acid',\n",
       " 'residual sugar',\n",
       " 'chlorides',\n",
       " 'free sulfur dioxide',\n",
       " 'total sulfur dioxide',\n",
       " 'density',\n",
       " 'pH',\n",
       " 'sulphates',\n",
       " 'alcohol',\n",
       " 'type']"
      ]
     },
     "execution_count": 240,
     "metadata": {},
     "output_type": "execute_result"
    }
   ],
   "source": [
    "to_features"
   ]
  },
  {
   "cell_type": "code",
   "execution_count": 241,
   "metadata": {},
   "outputs": [],
   "source": [
    "vectAssembler = feature.VectorAssembler(inputCols=to_features,outputCol='featuresRaw')\n",
    "wine_proc = vectAssembler.transform(wine_proc)"
   ]
  },
  {
   "cell_type": "code",
   "execution_count": 242,
   "metadata": {},
   "outputs": [
    {
     "name": "stdout",
     "output_type": "stream",
     "text": [
      "root\n",
      " |-- fixed acidity: double (nullable = true)\n",
      " |-- volatile acidity: double (nullable = true)\n",
      " |-- citric acid: double (nullable = true)\n",
      " |-- residual sugar: double (nullable = true)\n",
      " |-- chlorides: double (nullable = true)\n",
      " |-- free sulfur dioxide: double (nullable = true)\n",
      " |-- total sulfur dioxide: double (nullable = true)\n",
      " |-- density: double (nullable = true)\n",
      " |-- pH: double (nullable = true)\n",
      " |-- sulphates: double (nullable = true)\n",
      " |-- alcohol: double (nullable = true)\n",
      " |-- label: integer (nullable = true)\n",
      " |-- type: integer (nullable = false)\n",
      " |-- featuresRaw: vector (nullable = true)\n",
      "\n"
     ]
    }
   ],
   "source": [
    "wine_proc.printSchema()"
   ]
  },
  {
   "cell_type": "code",
   "execution_count": 243,
   "metadata": {},
   "outputs": [],
   "source": [
    "wine_proc = wine_proc.select('label','featuresRaw')"
   ]
  },
  {
   "cell_type": "code",
   "execution_count": 245,
   "metadata": {},
   "outputs": [
    {
     "name": "stdout",
     "output_type": "stream",
     "text": [
      "+-----+-------------------------------------------------------------+\n",
      "|label|featuresRaw                                                  |\n",
      "+-----+-------------------------------------------------------------+\n",
      "|5    |[7.4,0.7,0.0,1.9,0.076,11.0,34.0,0.9978,3.51,0.56,9.4,0.0]   |\n",
      "|5    |[7.8,0.88,0.0,2.6,0.098,25.0,67.0,0.9968,3.2,0.68,9.8,0.0]   |\n",
      "|5    |[7.8,0.76,0.04,2.3,0.092,15.0,54.0,0.997,3.26,0.65,9.8,0.0]  |\n",
      "|6    |[11.2,0.28,0.56,1.9,0.075,17.0,60.0,0.998,3.16,0.58,9.8,0.0] |\n",
      "|5    |[7.4,0.7,0.0,1.9,0.076,11.0,34.0,0.9978,3.51,0.56,9.4,0.0]   |\n",
      "|5    |[7.4,0.66,0.0,1.8,0.075,13.0,40.0,0.9978,3.51,0.56,9.4,0.0]  |\n",
      "|5    |[7.9,0.6,0.06,1.6,0.069,15.0,59.0,0.9964,3.3,0.46,9.4,0.0]   |\n",
      "|7    |[7.3,0.65,0.0,1.2,0.065,15.0,21.0,0.9946,3.39,0.47,10.0,0.0] |\n",
      "|7    |[7.8,0.58,0.02,2.0,0.073,9.0,18.0,0.9968,3.36,0.57,9.5,0.0]  |\n",
      "|5    |[7.5,0.5,0.36,6.1,0.071,17.0,102.0,0.9978,3.35,0.8,10.5,0.0] |\n",
      "|5    |[6.7,0.58,0.08,1.8,0.097,15.0,65.0,0.9959,3.28,0.54,9.2,0.0] |\n",
      "|5    |[7.5,0.5,0.36,6.1,0.071,17.0,102.0,0.9978,3.35,0.8,10.5,0.0] |\n",
      "|5    |[5.6,0.615,0.0,1.6,0.089,16.0,59.0,0.9943,3.58,0.52,9.9,0.0] |\n",
      "|5    |[7.8,0.61,0.29,1.6,0.114,9.0,29.0,0.9974,3.26,1.56,9.1,0.0]  |\n",
      "|5    |[8.9,0.62,0.18,3.8,0.176,52.0,145.0,0.9986,3.16,0.88,9.2,0.0]|\n",
      "|5    |[8.9,0.62,0.19,3.9,0.17,51.0,148.0,0.9986,3.17,0.93,9.2,0.0] |\n",
      "|7    |[8.5,0.28,0.56,1.8,0.092,35.0,103.0,0.9969,3.3,0.75,10.5,0.0]|\n",
      "|5    |[8.1,0.56,0.28,1.7,0.368,16.0,56.0,0.9968,3.11,1.28,9.3,0.0] |\n",
      "|4    |[7.4,0.59,0.08,4.4,0.086,6.0,29.0,0.9974,3.38,0.5,9.0,0.0]   |\n",
      "|6    |[7.9,0.32,0.51,1.8,0.341,17.0,56.0,0.9969,3.04,1.08,9.2,0.0] |\n",
      "+-----+-------------------------------------------------------------+\n",
      "only showing top 20 rows\n",
      "\n"
     ]
    }
   ],
   "source": [
    "wine_proc.show(truncate=False)"
   ]
  },
  {
   "cell_type": "code",
   "execution_count": 246,
   "metadata": {},
   "outputs": [],
   "source": [
    "normalizerL2 = feature.Normalizer(inputCol='featuresRaw',outputCol='features')\n",
    "wine_proc = normalizerL2.transform(wine_proc)"
   ]
  },
  {
   "cell_type": "markdown",
   "metadata": {},
   "source": [
    "**Ostatnie przygotowania**"
   ]
  },
  {
   "cell_type": "code",
   "execution_count": 248,
   "metadata": {},
   "outputs": [
    {
     "data": {
      "text/plain": [
       "DataFrame[label: int, features: vector]"
      ]
     },
     "execution_count": 248,
     "metadata": {},
     "output_type": "execute_result"
    }
   ],
   "source": [
    "wine_proc = wine_proc.select(\"label\", \"features\")\n",
    "wine_proc.cache()"
   ]
  },
  {
   "cell_type": "code",
   "execution_count": 249,
   "metadata": {},
   "outputs": [
    {
     "data": {
      "text/plain": [
       "DataFrame[label: int, features: vector]"
      ]
     },
     "execution_count": 249,
     "metadata": {},
     "output_type": "execute_result"
    }
   ],
   "source": [
    "wine_train, wine_eval = wine_proc.randomSplit([0.7, 0.3], 42)\n",
    "wine_train.cache()\n",
    "wine_eval.cache()"
   ]
  },
  {
   "cell_type": "code",
   "execution_count": 250,
   "metadata": {},
   "outputs": [
    {
     "name": "stdout",
     "output_type": "stream",
     "text": [
      "Train:\n",
      "+-------+------------------+\n",
      "|summary|             label|\n",
      "+-------+------------------+\n",
      "|  count|              4517|\n",
      "|   mean| 5.823555457161833|\n",
      "| stddev|0.8707903543967717|\n",
      "|    min|                 3|\n",
      "|    max|                 9|\n",
      "+-------+------------------+\n",
      "\n",
      "Eval:\n",
      "+-------+------------------+\n",
      "|summary|             label|\n",
      "+-------+------------------+\n",
      "|  count|              1980|\n",
      "|   mean| 5.806565656565657|\n",
      "| stddev|0.8789592145780594|\n",
      "|    min|                 3|\n",
      "|    max|                 9|\n",
      "+-------+------------------+\n",
      "\n"
     ]
    }
   ],
   "source": [
    "print(\"Train:\")\n",
    "wine_train.describe(\"label\").show()\n",
    "print(\"Eval:\")\n",
    "wine_eval.describe(\"label\").show()"
   ]
  },
  {
   "cell_type": "markdown",
   "metadata": {},
   "source": [
    "#### Regresja liniowa"
   ]
  },
  {
   "cell_type": "code",
   "execution_count": 251,
   "metadata": {},
   "outputs": [],
   "source": [
    "reg = regression.LinearRegression(maxIter=500)"
   ]
  },
  {
   "cell_type": "code",
   "execution_count": 252,
   "metadata": {},
   "outputs": [],
   "source": [
    "regModel = reg.fit(wine_train)"
   ]
  },
  {
   "cell_type": "code",
   "execution_count": 253,
   "metadata": {},
   "outputs": [
    {
     "data": {
      "text/plain": [
       "DenseVector([3.8418, -56.3036, -24.2871, 0.9227, -8.3934, 1.8789, 2.2861, -216.6933, 11.7471, 35.7788, 15.7523, 14.5111])"
      ]
     },
     "execution_count": 253,
     "metadata": {},
     "output_type": "execute_result"
    }
   ],
   "source": [
    "regModel.coefficients"
   ]
  },
  {
   "cell_type": "code",
   "execution_count": 254,
   "metadata": {},
   "outputs": [
    {
     "data": {
      "text/plain": [
       "2.9791554291006177"
      ]
     },
     "execution_count": 254,
     "metadata": {},
     "output_type": "execute_result"
    }
   ],
   "source": [
    "regModel.intercept"
   ]
  },
  {
   "cell_type": "code",
   "execution_count": 255,
   "metadata": {},
   "outputs": [
    {
     "data": {
      "text/plain": [
       "pyspark.ml.regression.LinearRegressionTrainingSummary"
      ]
     },
     "execution_count": 255,
     "metadata": {},
     "output_type": "execute_result"
    }
   ],
   "source": [
    "trainSummary = regModel.summary\n",
    "type(trainSummary)"
   ]
  },
  {
   "cell_type": "code",
   "execution_count": 256,
   "metadata": {},
   "outputs": [
    {
     "data": {
      "text/plain": [
       "0.6070159588661677"
      ]
     },
     "execution_count": 256,
     "metadata": {},
     "output_type": "execute_result"
    }
   ],
   "source": [
    "trainSummary.meanAbsoluteError"
   ]
  },
  {
   "cell_type": "code",
   "execution_count": 257,
   "metadata": {},
   "outputs": [
    {
     "data": {
      "text/plain": [
       "0.6100217545957918"
      ]
     },
     "execution_count": 257,
     "metadata": {},
     "output_type": "execute_result"
    }
   ],
   "source": [
    "trainSummary.meanSquaredError"
   ]
  },
  {
   "cell_type": "code",
   "execution_count": 258,
   "metadata": {},
   "outputs": [
    {
     "data": {
      "text/plain": [
       "0.1953365761377699"
      ]
     },
     "execution_count": 258,
     "metadata": {},
     "output_type": "execute_result"
    }
   ],
   "source": [
    "trainSummary.r2"
   ]
  },
  {
   "cell_type": "code",
   "execution_count": 259,
   "metadata": {},
   "outputs": [
    {
     "name": "stdout",
     "output_type": "stream",
     "text": [
      "+-----+--------------------+------------------+\n",
      "|label|            features|        prediction|\n",
      "+-----+--------------------+------------------+\n",
      "|    3|[0.17139301481654...| 6.091566856245242|\n",
      "|    3|[0.19204691859334...| 4.999511709938429|\n",
      "|    3|[0.23007240776161...|  5.10141394260246|\n",
      "|    4|[0.06855000973539...| 6.061041407353274|\n",
      "|    4|[0.10919117310000...| 5.199518645603752|\n",
      "|    4|[0.17294433939616...| 5.298011408448441|\n",
      "|    4|[0.17939070456973...| 5.018712122759601|\n",
      "|    4|[0.18015969919215...| 6.116064734248514|\n",
      "|    4|[0.21575017067129...| 5.841256084907588|\n",
      "|    4|[0.22889809493949...|4.7550460461408735|\n",
      "|    4|[0.37968825800476...| 4.525409230081105|\n",
      "|    4|[0.38380547348192...| 5.378271079214495|\n",
      "|    4|[0.40082064094380...| 5.102049588099196|\n",
      "|    4|[0.42005797449029...| 4.157118623588285|\n",
      "|    4|[0.44196806195907...| 3.885127237056893|\n",
      "|    5|[0.04013119353917...| 5.787728679803472|\n",
      "|    5|[0.04641692699571...| 5.793069088194853|\n",
      "|    5|[0.05155454668014...| 5.452729064433527|\n",
      "|    5|[0.05383708810139...| 5.608437960232604|\n",
      "|    5|[0.05432515153727...|5.5133132061447805|\n",
      "+-----+--------------------+------------------+\n",
      "only showing top 20 rows\n",
      "\n"
     ]
    }
   ],
   "source": [
    "# predykcje\n",
    "regModel.transform(wine_eval).show()"
   ]
  },
  {
   "cell_type": "markdown",
   "metadata": {},
   "source": [
    "#### Drzewo regresyjne"
   ]
  },
  {
   "cell_type": "code",
   "execution_count": 262,
   "metadata": {},
   "outputs": [],
   "source": [
    "tree_reg = regression.DecisionTreeRegressor()"
   ]
  },
  {
   "cell_type": "code",
   "execution_count": 263,
   "metadata": {},
   "outputs": [],
   "source": [
    "tree_regModel = tree_reg.fit(wine_train)"
   ]
  },
  {
   "cell_type": "code",
   "execution_count": 264,
   "metadata": {
    "scrolled": true
   },
   "outputs": [
    {
     "name": "stdout",
     "output_type": "stream",
     "text": [
      "DecisionTreeRegressionModel (uid=DecisionTreeRegressor_436b9ad98cb5bc744f87) of depth 5 with 63 nodes\n",
      "  If (feature 11 <= 0.005981100769664005)\n",
      "   If (feature 2 <= 0.01038735168085701)\n",
      "    If (feature 1 <= 0.0012625764093651968)\n",
      "     If (feature 0 <= 0.029903597626480302)\n",
      "      If (feature 9 <= 0.0036444818927591762)\n",
      "       Predict: 5.484848484848484\n",
      "      Else (feature 9 > 0.0036444818927591762)\n",
      "       Predict: 7.5\n",
      "     Else (feature 0 > 0.029903597626480302)\n",
      "      If (feature 10 <= 0.042667593985501885)\n",
      "       Predict: 6.580645161290323\n",
      "      Else (feature 10 > 0.042667593985501885)\n",
      "       Predict: 5.983539094650205\n",
      "    Else (feature 1 > 0.0012625764093651968)\n",
      "     If (feature 5 <= 0.3844948325343825)\n",
      "      If (feature 4 <= 2.0048726168222158E-4)\n",
      "       Predict: 5.849056603773585\n",
      "      Else (feature 4 > 2.0048726168222158E-4)\n",
      "       Predict: 5.375444839857651\n",
      "     Else (feature 5 > 0.3844948325343825)\n",
      "      If (feature 2 <= 0.005587119265081934)\n",
      "       Predict: 5.623809523809523\n",
      "      Else (feature 2 > 0.005587119265081934)\n",
      "       Predict: 6.190476190476191\n",
      "   Else (feature 2 > 0.01038735168085701)\n",
      "    If (feature 1 <= 0.017953078957857277)\n",
      "     If (feature 6 <= 0.8831612584878723)\n",
      "      If (feature 4 <= 0.0037086390224476025)\n",
      "       Predict: 6.37593984962406\n",
      "      Else (feature 4 > 0.0037086390224476025)\n",
      "       Predict: 5.964285714285714\n",
      "     Else (feature 6 > 0.8831612584878723)\n",
      "      If (feature 3 <= 0.07400995583304296)\n",
      "       Predict: 5.2\n",
      "      Else (feature 3 > 0.07400995583304296)\n",
      "       Predict: 7.0\n",
      "    Else (feature 1 > 0.017953078957857277)\n",
      "     If (feature 9 <= 0.0296902963771944)\n",
      "      If (feature 0 <= 0.40084581065684066)\n",
      "       Predict: 5.764705882352941\n",
      "      Else (feature 0 > 0.40084581065684066)\n",
      "       Predict: 5.214285714285714\n",
      "     Else (feature 9 > 0.0296902963771944)\n",
      "      If (feature 5 <= 0.2973361190137591)\n",
      "       Predict: 5.973684210526316\n",
      "      Else (feature 5 > 0.2973361190137591)\n",
      "       Predict: 7.0\n",
      "  Else (feature 11 > 0.005981100769664005)\n",
      "   If (feature 5 <= 0.15154787456745245)\n",
      "    If (feature 4 <= 3.7682219101588894E-4)\n",
      "     If (feature 10 <= 0.09528378454359587)\n",
      "      If (feature 7 <= 0.0077841496025227155)\n",
      "       Predict: 5.666666666666667\n",
      "      Else (feature 7 > 0.0077841496025227155)\n",
      "       Predict: 5.175\n",
      "     Else (feature 10 > 0.09528378454359587)\n",
      "      If (feature 6 <= 0.9892093780581812)\n",
      "       Predict: 6.135593220338983\n",
      "      Else (feature 6 > 0.9892093780581812)\n",
      "       Predict: 3.6666666666666665\n",
      "    Else (feature 4 > 3.7682219101588894E-4)\n",
      "     If (feature 2 <= 0.0021883377871987947)\n",
      "      If (feature 0 <= 0.05155413356439885)\n",
      "       Predict: 5.277777777777778\n",
      "      Else (feature 0 > 0.05155413356439885)\n",
      "       Predict: 4.566666666666666\n",
      "     Else (feature 2 > 0.0021883377871987947)\n",
      "      If (feature 2 <= 0.0039033236506249808)\n",
      "       Predict: 5.5\n",
      "      Else (feature 2 > 0.0039033236506249808)\n",
      "       Predict: 5.126760563380282\n",
      "   Else (feature 5 > 0.15154787456745245)\n",
      "    If (feature 10 <= 0.07355003153781718)\n",
      "     If (feature 1 <= 0.0012625764093651968)\n",
      "      If (feature 8 <= 0.018231143407924998)\n",
      "       Predict: 7.75\n",
      "      Else (feature 8 > 0.018231143407924998)\n",
      "       Predict: 6.133858267716535\n",
      "     Else (feature 1 > 0.0012625764093651968)\n",
      "      If (feature 4 <= 2.6073805692704267E-4)\n",
      "       Predict: 6.029411764705882\n",
      "      Else (feature 4 > 2.6073805692704267E-4)\n",
      "       Predict: 5.563798219584569\n",
      "    Else (feature 10 > 0.07355003153781718)\n",
      "     If (feature 4 <= 4.5712570706627864E-4)\n",
      "      If (feature 4 <= 3.595531942854612E-4)\n",
      "       Predict: 6.413875598086125\n",
      "      Else (feature 4 > 3.595531942854612E-4)\n",
      "       Predict: 6.127167630057803\n",
      "     Else (feature 4 > 4.5712570706627864E-4)\n",
      "      If (feature 2 <= 0.002375579154775366)\n",
      "       Predict: 5.104166666666667\n",
      "      Else (feature 2 > 0.002375579154775366)\n",
      "       Predict: 5.855140186915888\n",
      "\n"
     ]
    }
   ],
   "source": [
    "print(tree_regModel.toDebugString)"
   ]
  },
  {
   "cell_type": "code",
   "execution_count": 265,
   "metadata": {},
   "outputs": [
    {
     "name": "stdout",
     "output_type": "stream",
     "text": [
      "+-----+--------------------+-----------------+\n",
      "|label|            features|       prediction|\n",
      "+-----+--------------------+-----------------+\n",
      "|    3|[0.17139301481654...|6.190476190476191|\n",
      "|    3|[0.19204691859334...|5.623809523809523|\n",
      "|    3|[0.23007240776161...|              5.2|\n",
      "|    4|[0.06855000973539...|5.375444839857651|\n",
      "|    4|[0.10919117310000...|5.375444839857651|\n",
      "|    4|[0.17294433939616...|5.375444839857651|\n",
      "|    4|[0.17939070456973...|5.375444839857651|\n",
      "|    4|[0.18015969919215...|6.190476190476191|\n",
      "|    4|[0.21575017067129...|6.190476190476191|\n",
      "|    4|[0.22889809493949...|5.375444839857651|\n",
      "|    4|[0.37968825800476...|5.375444839857651|\n",
      "|    4|[0.38380547348192...|5.764705882352941|\n",
      "|    4|[0.40082064094380...|5.375444839857651|\n",
      "|    4|[0.42005797449029...|5.375444839857651|\n",
      "|    4|[0.44196806195907...|5.973684210526316|\n",
      "|    5|[0.04013119353917...|5.623809523809523|\n",
      "|    5|[0.04641692699571...|5.623809523809523|\n",
      "|    5|[0.05155454668014...|5.375444839857651|\n",
      "|    5|[0.05383708810139...|5.375444839857651|\n",
      "|    5|[0.05432515153727...|5.375444839857651|\n",
      "+-----+--------------------+-----------------+\n",
      "only showing top 20 rows\n",
      "\n"
     ]
    }
   ],
   "source": [
    "# predykcje\n",
    "tree_regModel.transform(wine_eval).show()"
   ]
  },
  {
   "cell_type": "markdown",
   "metadata": {},
   "source": [
    "#### Las regresyjny"
   ]
  },
  {
   "cell_type": "code",
   "execution_count": 266,
   "metadata": {},
   "outputs": [],
   "source": [
    "forest_reg = regression.RandomForestRegressor()"
   ]
  },
  {
   "cell_type": "code",
   "execution_count": 267,
   "metadata": {},
   "outputs": [],
   "source": [
    "forest_regModel = forest_reg.fit(wine_train)"
   ]
  },
  {
   "cell_type": "code",
   "execution_count": 268,
   "metadata": {},
   "outputs": [
    {
     "data": {
      "text/plain": [
       "SparseVector(12, {0: 0.0374, 1: 0.1596, 2: 0.0975, 3: 0.0387, 4: 0.1463, 5: 0.1061, 6: 0.0881, 7: 0.031, 8: 0.0365, 9: 0.0296, 10: 0.1022, 11: 0.127})"
      ]
     },
     "execution_count": 268,
     "metadata": {},
     "output_type": "execute_result"
    }
   ],
   "source": [
    "forest_regModel.featureImportances"
   ]
  },
  {
   "cell_type": "code",
   "execution_count": 269,
   "metadata": {},
   "outputs": [
    {
     "name": "stdout",
     "output_type": "stream",
     "text": [
      "RandomForestRegressionModel (uid=RandomForestRegressor_4abbb37429e7d0be6a74) with 20 trees\n",
      "  Tree 0 (weight 1.0):\n",
      "    If (feature 4 <= 4.5712570706627864E-4)\n",
      "     If (feature 7 <= 0.0061386172083658114)\n",
      "      If (feature 1 <= 0.0012625764093651968)\n",
      "       If (feature 7 <= 0.004499396722741482)\n",
      "        If (feature 11 <= 9.495152315151297E-4)\n",
      "         Predict: 7.0\n",
      "        Else (feature 11 > 9.495152315151297E-4)\n",
      "         Predict: 5.551020408163265\n",
      "       Else (feature 7 > 0.004499396722741482)\n",
      "        If (feature 11 <= 0.004552962709769541)\n",
      "         Predict: 6.769230769230769\n",
      "        Else (feature 11 > 0.004552962709769541)\n",
      "         Predict: 6.016949152542373\n",
      "      Else (feature 1 > 0.0012625764093651968)\n",
      "       If (feature 8 <= 0.0204315793657856)\n",
      "        If (feature 1 <= 0.00309988206516071)\n",
      "         Predict: 5.5200594353640415\n",
      "        Else (feature 1 > 0.00309988206516071)\n",
      "         Predict: 4.583333333333333\n",
      "       Else (feature 8 > 0.0204315793657856)\n",
      "        If (feature 0 <= 0.037497446477699)\n",
      "         Predict: 7.111111111111111\n",
      "        Else (feature 0 > 0.037497446477699)\n",
      "         Predict: 5.5\n",
      "     Else (feature 7 > 0.0061386172083658114)\n",
      "      If (feature 5 <= 0.15154787456745245)\n",
      "       If (feature 6 <= 0.9892093780581812)\n",
      "        If (feature 10 <= 0.08052709003614036)\n",
      "         Predict: 5.407894736842105\n",
      "        Else (feature 10 > 0.08052709003614036)\n",
      "         Predict: 5.869230769230769\n",
      "       Else (feature 6 > 0.9892093780581812)\n",
      "        If (feature 0 <= 0.05155413356439885)\n",
      "         Predict: 5.461538461538462\n",
      "        Else (feature 0 > 0.05155413356439885)\n",
      "         Predict: 4.836734693877551\n",
      "      Else (feature 5 > 0.15154787456745245)\n",
      "       If (feature 10 <= 0.07355003153781718)\n",
      "        If (feature 5 <= 0.2731270081456859)\n",
      "         Predict: 5.67965367965368\n",
      "        Else (feature 5 > 0.2731270081456859)\n",
      "         Predict: 6.064327485380117\n",
      "       Else (feature 10 > 0.07355003153781718)\n",
      "        If (feature 2 <= 9.273813947457043E-4)\n",
      "         Predict: 5.071428571428571\n",
      "        Else (feature 2 > 9.273813947457043E-4)\n",
      "         Predict: 6.318300086730269\n",
      "    Else (feature 4 > 4.5712570706627864E-4)\n",
      "     If (feature 9 <= 0.00800429270600398)\n",
      "      If (feature 5 <= 0.1738717601796102)\n",
      "       If (feature 6 <= 0.9621187357352314)\n",
      "        Predict: 6.0\n",
      "       Else (feature 6 > 0.9621187357352314)\n",
      "        If (feature 3 <= 0.019143273003756026)\n",
      "         Predict: 5.21875\n",
      "        Else (feature 3 > 0.019143273003756026)\n",
      "         Predict: 4.9523809523809526\n",
      "      Else (feature 5 > 0.1738717601796102)\n",
      "       If (feature 2 <= 0.0022804632909451976)\n",
      "        If (feature 1 <= 0.0010781388891266928)\n",
      "         Predict: 8.0\n",
      "        Else (feature 1 > 0.0010781388891266928)\n",
      "         Predict: 5.220689655172414\n",
      "       Else (feature 2 > 0.0022804632909451976)\n",
      "        If (feature 8 <= 0.027907550221927722)\n",
      "         Predict: 5.376470588235295\n",
      "        Else (feature 8 > 0.027907550221927722)\n",
      "         Predict: 5.671296296296297\n",
      "     Else (feature 9 > 0.00800429270600398)\n",
      "      If (feature 1 <= 0.024213655492598546)\n",
      "       If (feature 6 <= 0.8831612584878723)\n",
      "        If (feature 9 <= 0.0296902963771944)\n",
      "         Predict: 5.8929384965831435\n",
      "        Else (feature 9 > 0.0296902963771944)\n",
      "         Predict: 6.214285714285714\n",
      "       Else (feature 6 > 0.8831612584878723)\n",
      "        If (feature 4 <= 5.815532435602807E-4)\n",
      "         Predict: 6.411764705882353\n",
      "        Else (feature 4 > 5.815532435602807E-4)\n",
      "         Predict: 5.489583333333333\n",
      "      Else (feature 1 > 0.024213655492598546)\n",
      "       If (feature 5 <= 0.1832415115096276)\n",
      "        If (feature 0 <= 0.30482778913439057)\n",
      "         Predict: 6.5\n",
      "        Else (feature 0 > 0.30482778913439057)\n",
      "         Predict: 5.166666666666667\n",
      "       Else (feature 5 > 0.1832415115096276)\n",
      "        If (feature 3 <= 0.06186839939266838)\n",
      "         Predict: 4.428571428571429\n",
      "        Else (feature 3 > 0.06186839939266838)\n",
      "         Predict: 5.182608695652174\n",
      "  Tree 1 (weight 1.0):\n",
      "    If (feature 11 <= 0.005981100769664005)\n",
      "     If (feature 1 <= 0.0012625764093651968)\n",
      "      If (feature 0 <= 0.029903597626480302)\n",
      "       If (feature 2 <= 0.0017581446179659845)\n",
      "        If (feature 3 <= 0.007960340627344187)\n",
      "         Predict: 5.0\n",
      "        Else (feature 3 > 0.007960340627344187)\n",
      "         Predict: 5.833333333333333\n",
      "       Else (feature 2 > 0.0017581446179659845)\n",
      "        If (feature 1 <= 9.57789460149795E-4)\n",
      "         Predict: 6.0\n",
      "        Else (feature 1 > 9.57789460149795E-4)\n",
      "         Predict: 5.157894736842105\n",
      "      Else (feature 0 > 0.029903597626480302)\n",
      "       If (feature 5 <= 0.4723577720282802)\n",
      "        If (feature 5 <= 0.25899171288527073)\n",
      "         Predict: 6.272189349112426\n",
      "        Else (feature 5 > 0.25899171288527073)\n",
      "         Predict: 5.855555555555555\n",
      "       Else (feature 5 > 0.4723577720282802)\n",
      "        If (feature 2 <= 0.0011932401299466567)\n",
      "         Predict: 5.0\n",
      "        Else (feature 2 > 0.0011932401299466567)\n",
      "         Predict: 7.857142857142857\n",
      "     Else (feature 1 > 0.0012625764093651968)\n",
      "      If (feature 2 <= 0.007057034042329232)\n",
      "       If (feature 8 <= 0.11885961309888599)\n",
      "        If (feature 3 <= 0.010539704392218201)\n",
      "         Predict: 5.089743589743589\n",
      "        Else (feature 3 > 0.010539704392218201)\n",
      "         Predict: 5.480847595762021\n",
      "       Else (feature 8 > 0.11885961309888599)\n",
      "        If (feature 5 <= 0.2083773594323918)\n",
      "         Predict: 5.583333333333333\n",
      "        Else (feature 5 > 0.2083773594323918)\n",
      "         Predict: 5.064516129032258\n",
      "      Else (feature 2 > 0.007057034042329232)\n",
      "       If (feature 3 <= 0.09860375399894532)\n",
      "        If (feature 4 <= 0.0028144018340102344)\n",
      "         Predict: 6.046728971962617\n",
      "        Else (feature 4 > 0.0028144018340102344)\n",
      "         Predict: 5.579545454545454\n",
      "       Else (feature 3 > 0.09860375399894532)\n",
      "        If (feature 4 <= 0.0037086390224476025)\n",
      "         Predict: 6.425531914893617\n",
      "        Else (feature 4 > 0.0037086390224476025)\n",
      "         Predict: 5.954545454545454\n",
      "    Else (feature 11 > 0.005981100769664005)\n",
      "     If (feature 5 <= 0.15154787456745245)\n",
      "      If (feature 0 <= 0.05155413356439885)\n",
      "       If (feature 9 <= 0.004100375089498396)\n",
      "        If (feature 4 <= 3.7682219101588894E-4)\n",
      "         Predict: 5.574074074074074\n",
      "        Else (feature 4 > 3.7682219101588894E-4)\n",
      "         Predict: 5.0\n",
      "       Else (feature 9 > 0.004100375089498396)\n",
      "        If (feature 10 <= 0.09528378454359587)\n",
      "         Predict: 5.588235294117647\n",
      "        Else (feature 10 > 0.09528378454359587)\n",
      "         Predict: 6.666666666666667\n",
      "      Else (feature 0 > 0.05155413356439885)\n",
      "       If (feature 6 <= 0.9892093780581812)\n",
      "        If (feature 0 <= 0.06906765099127621)\n",
      "         Predict: 5.613207547169812\n",
      "        Else (feature 0 > 0.06906765099127621)\n",
      "         Predict: 5.145299145299146\n",
      "       Else (feature 6 > 0.9892093780581812)\n",
      "        If (feature 10 <= 0.10523859828310296)\n",
      "         Predict: 4.857142857142857\n",
      "        Else (feature 10 > 0.10523859828310296)\n",
      "         Predict: 3.3333333333333335\n",
      "     Else (feature 5 > 0.15154787456745245)\n",
      "      If (feature 7 <= 0.013751323246359266)\n",
      "       If (feature 6 <= 0.9642268463168253)\n",
      "        If (feature 3 <= 0.11182594065739113)\n",
      "         Predict: 6.2778730703259\n",
      "        Else (feature 3 > 0.11182594065739113)\n",
      "         Predict: 5.620689655172414\n",
      "       Else (feature 6 > 0.9642268463168253)\n",
      "        If (feature 10 <= 0.0873687063981588)\n",
      "         Predict: 5.774683544303797\n",
      "        Else (feature 10 > 0.0873687063981588)\n",
      "         Predict: 6.136986301369863\n",
      "      Else (feature 7 > 0.013751323246359266)\n",
      "       If (feature 8 <= 0.09726023439070171)\n",
      "        If (feature 1 <= 0.003463703878434722)\n",
      "         Predict: 6.2\n",
      "        Else (feature 1 > 0.003463703878434722)\n",
      "         Predict: 5.51063829787234\n",
      "       Else (feature 8 > 0.09726023439070171)\n",
      "        If (feature 5 <= 0.1738717601796102)\n",
      "         Predict: 4.0\n",
      "        Else (feature 5 > 0.1738717601796102)\n",
      "         Predict: 5.333333333333333\n",
      "  Tree 2 (weight 1.0):\n",
      "    If (feature 2 <= 0.0011932401299466567)\n",
      "     If (feature 5 <= 0.12349565699595172)\n",
      "      If (feature 1 <= 0.0072449287014679726)\n",
      "       If (feature 3 <= 0.044299845272421506)\n",
      "        If (feature 8 <= 0.016833992883606673)\n",
      "         Predict: 5.0\n",
      "        Else (feature 8 > 0.016833992883606673)\n",
      "         Predict: 4.0\n",
      "       Else (feature 3 > 0.044299845272421506)\n",
      "        If (feature 9 <= 0.0025651104378882445)\n",
      "         Predict: 4.0\n",
      "        Else (feature 9 > 0.0025651104378882445)\n",
      "         Predict: 5.333333333333333\n",
      "      Else (feature 1 > 0.0072449287014679726)\n",
      "       Predict: 5.0\n",
      "     Else (feature 5 > 0.12349565699595172)\n",
      "      If (feature 3 <= 0.12988010812468354)\n",
      "       If (feature 3 <= 0.009339317044891014)\n",
      "        If (feature 4 <= 3.7682219101588894E-4)\n",
      "         Predict: 5.15625\n",
      "        Else (feature 4 > 3.7682219101588894E-4)\n",
      "         Predict: 4.0\n",
      "       Else (feature 3 > 0.009339317044891014)\n",
      "        If (feature 5 <= 0.13821100422711902)\n",
      "         Predict: 6.25\n",
      "        Else (feature 5 > 0.13821100422711902)\n",
      "         Predict: 5.4624624624624625\n",
      "      Else (feature 3 > 0.12988010812468354)\n",
      "       If (feature 1 <= 0.008798824924668788)\n",
      "        Predict: 6.0\n",
      "       Else (feature 1 > 0.008798824924668788)\n",
      "        If (feature 10 <= 0.4903841507066147)\n",
      "         Predict: 4.2\n",
      "        Else (feature 10 > 0.4903841507066147)\n",
      "         Predict: 3.2857142857142856\n",
      "    Else (feature 2 > 0.0011932401299466567)\n",
      "     If (feature 11 <= 0.005981100769664005)\n",
      "      If (feature 9 <= 0.014823500495652528)\n",
      "       If (feature 1 <= 0.0012625764093651968)\n",
      "        If (feature 2 <= 0.001467153424575244)\n",
      "         Predict: 6.385714285714286\n",
      "        Else (feature 2 > 0.001467153424575244)\n",
      "         Predict: 5.891129032258065\n",
      "       Else (feature 1 > 0.0012625764093651968)\n",
      "        If (feature 6 <= 0.9035681062882784)\n",
      "         Predict: 5.7604790419161676\n",
      "        Else (feature 6 > 0.9035681062882784)\n",
      "         Predict: 5.396596858638744\n",
      "      Else (feature 9 > 0.014823500495652528)\n",
      "       If (feature 10 <= 0.16974880192482217)\n",
      "        If (feature 8 <= 0.0363015013612097)\n",
      "         Predict: 4.0\n",
      "        Else (feature 8 > 0.0363015013612097)\n",
      "         Predict: 5.0\n",
      "       Else (feature 10 > 0.16974880192482217)\n",
      "        If (feature 7 <= 0.03587441962997523)\n",
      "         Predict: 6.030888030888031\n",
      "        Else (feature 7 > 0.03587441962997523)\n",
      "         Predict: 5.761682242990654\n",
      "     Else (feature 11 > 0.005981100769664005)\n",
      "      If (feature 5 <= 0.1832415115096276)\n",
      "       If (feature 10 <= 0.08052709003614036)\n",
      "        If (feature 11 <= 0.008261523533448502)\n",
      "         Predict: 5.435754189944134\n",
      "        Else (feature 11 > 0.008261523533448502)\n",
      "         Predict: 4.666666666666667\n",
      "       Else (feature 10 > 0.08052709003614036)\n",
      "        If (feature 3 <= 0.011864657956983833)\n",
      "         Predict: 5.066666666666666\n",
      "        Else (feature 3 > 0.011864657956983833)\n",
      "         Predict: 5.805013927576602\n",
      "      Else (feature 5 > 0.1832415115096276)\n",
      "       If (feature 11 <= 0.013323293688942257)\n",
      "        If (feature 3 <= 0.06950152251883374)\n",
      "         Predict: 6.271836734693878\n",
      "        Else (feature 3 > 0.06950152251883374)\n",
      "         Predict: 5.920110192837465\n",
      "       Else (feature 11 > 0.013323293688942257)\n",
      "        If (feature 5 <= 0.36641675558285275)\n",
      "         Predict: 5.6911764705882355\n",
      "        Else (feature 5 > 0.36641675558285275)\n",
      "         Predict: 4.0\n",
      "  Tree 3 (weight 1.0):\n",
      "    If (feature 11 <= 0.005782812248719082)\n",
      "     If (feature 2 <= 0.005587119265081934)\n",
      "      If (feature 2 <= 0.0011932401299466567)\n",
      "       If (feature 11 <= 0.005103817104623107)\n",
      "        If (feature 3 <= 0.12988010812468354)\n",
      "         Predict: 5.394833948339484\n",
      "        Else (feature 3 > 0.12988010812468354)\n",
      "         Predict: 4.0\n",
      "       Else (feature 11 > 0.005103817104623107)\n",
      "        If (feature 5 <= 0.12349565699595172)\n",
      "         Predict: 4.363636363636363\n",
      "        Else (feature 5 > 0.12349565699595172)\n",
      "         Predict: 5.131578947368421\n",
      "      Else (feature 2 > 0.0011932401299466567)\n",
      "       If (feature 9 <= 0.002222085000154147)\n",
      "        If (feature 10 <= 0.062270142718462276)\n",
      "         Predict: 5.775757575757575\n",
      "        Else (feature 10 > 0.062270142718462276)\n",
      "         Predict: 6.923076923076923\n",
      "       Else (feature 9 > 0.002222085000154147)\n",
      "        If (feature 5 <= 0.4723577720282802)\n",
      "         Predict: 5.488033298647243\n",
      "        Else (feature 5 > 0.4723577720282802)\n",
      "         Predict: 6.044776119402985\n",
      "     Else (feature 2 > 0.005587119265081934)\n",
      "      If (feature 1 <= 0.017953078957857277)\n",
      "       If (feature 0 <= 0.30482778913439057)\n",
      "        If (feature 5 <= 0.3249696685146187)\n",
      "         Predict: 5.553571428571429\n",
      "        Else (feature 5 > 0.3249696685146187)\n",
      "         Predict: 6.173228346456693\n",
      "       Else (feature 0 > 0.30482778913439057)\n",
      "        If (feature 3 <= 0.11182594065739113)\n",
      "         Predict: 6.2\n",
      "        Else (feature 3 > 0.11182594065739113)\n",
      "         Predict: 6.9\n",
      "      Else (feature 1 > 0.017953078957857277)\n",
      "       If (feature 10 <= 0.4903841507066147)\n",
      "        If (feature 9 <= 0.0296902963771944)\n",
      "         Predict: 5.18\n",
      "        Else (feature 9 > 0.0296902963771944)\n",
      "         Predict: 5.733333333333333\n",
      "       Else (feature 10 > 0.4903841507066147)\n",
      "        If (feature 3 <= 0.12988010812468354)\n",
      "         Predict: 5.972972972972973\n",
      "        Else (feature 3 > 0.12988010812468354)\n",
      "         Predict: 5.642857142857143\n",
      "    Else (feature 11 > 0.005782812248719082)\n",
      "     If (feature 4 <= 4.226589115072614E-4)\n",
      "      If (feature 6 <= 0.977845979520797)\n",
      "       If (feature 10 <= 0.07355003153781718)\n",
      "        If (feature 8 <= 0.018231143407924998)\n",
      "         Predict: 6.3076923076923075\n",
      "        Else (feature 8 > 0.018231143407924998)\n",
      "         Predict: 5.869306930693069\n",
      "       Else (feature 10 > 0.07355003153781718)\n",
      "        If (feature 3 <= 0.011864657956983833)\n",
      "         Predict: 6.024242424242424\n",
      "        Else (feature 3 > 0.011864657956983833)\n",
      "         Predict: 6.441558441558442\n",
      "      Else (feature 6 > 0.977845979520797)\n",
      "       If (feature 10 <= 0.0873687063981588)\n",
      "        If (feature 7 <= 0.008072577544933467)\n",
      "         Predict: 5.524193548387097\n",
      "        Else (feature 7 > 0.008072577544933467)\n",
      "         Predict: 4.735294117647059\n",
      "       Else (feature 10 > 0.0873687063981588)\n",
      "        If (feature 2 <= 0.0032435208740573345)\n",
      "         Predict: 6.131578947368421\n",
      "        Else (feature 2 > 0.0032435208740573345)\n",
      "         Predict: 5.391304347826087\n",
      "     Else (feature 4 > 4.226589115072614E-4)\n",
      "      If (feature 1 <= 0.003463703878434722)\n",
      "       If (feature 10 <= 0.09999499973700882)\n",
      "        If (feature 1 <= 0.0010781388891266928)\n",
      "         Predict: 6.764705882352941\n",
      "        Else (feature 1 > 0.0010781388891266928)\n",
      "         Predict: 5.47136563876652\n",
      "       Else (feature 10 > 0.09999499973700882)\n",
      "        If (feature 10 <= 0.15024165334292164)\n",
      "         Predict: 6.188976377952756\n",
      "        Else (feature 10 > 0.15024165334292164)\n",
      "         Predict: 6.538461538461538\n",
      "      Else (feature 1 > 0.003463703878434722)\n",
      "       If (feature 2 <= 0.007057034042329232)\n",
      "        If (feature 7 <= 0.023550694382415867)\n",
      "         Predict: 5.1395348837209305\n",
      "        Else (feature 7 > 0.023550694382415867)\n",
      "         Predict: 4.333333333333333\n",
      "       Else (feature 2 > 0.007057034042329232)\n",
      "        If (feature 0 <= 0.1018606716357913)\n",
      "         Predict: 4.0\n",
      "        Else (feature 0 > 0.1018606716357913)\n",
      "         Predict: 5.888888888888889\n",
      "  Tree 4 (weight 1.0):\n",
      "    If (feature 4 <= 4.996050022267901E-4)\n",
      "     If (feature 11 <= 0.007447512821552498)\n",
      "      If (feature 7 <= 0.005734829753088958)\n",
      "       If (feature 1 <= 0.0012625764093651968)\n",
      "        If (feature 0 <= 0.029903597626480302)\n",
      "         Predict: 5.4375\n",
      "        Else (feature 0 > 0.029903597626480302)\n",
      "         Predict: 6.0042194092827\n",
      "       Else (feature 1 > 0.0012625764093651968)\n",
      "        If (feature 4 <= 3.595531942854612E-4)\n",
      "         Predict: 5.482758620689655\n",
      "        Else (feature 4 > 3.595531942854612E-4)\n",
      "         Predict: 4.684210526315789\n",
      "      Else (feature 7 > 0.005734829753088958)\n",
      "       If (feature 10 <= 0.07098352117672388)\n",
      "        If (feature 1 <= 0.0014686562037494575)\n",
      "         Predict: 6.088888888888889\n",
      "        Else (feature 1 > 0.0014686562037494575)\n",
      "         Predict: 5.498637602179836\n",
      "       Else (feature 10 > 0.07098352117672388)\n",
      "        If (feature 2 <= 0.001467153424575244)\n",
      "         Predict: 5.555555555555555\n",
      "        Else (feature 2 > 0.001467153424575244)\n",
      "         Predict: 6.232919254658385\n",
      "     Else (feature 11 > 0.007447512821552498)\n",
      "      If (feature 4 <= 3.595531942854612E-4)\n",
      "       If (feature 5 <= 0.13821100422711902)\n",
      "        If (feature 3 <= 0.07774194192453367)\n",
      "         Predict: 5.707692307692308\n",
      "        Else (feature 3 > 0.07774194192453367)\n",
      "         Predict: 4.846153846153846\n",
      "       Else (feature 5 > 0.13821100422711902)\n",
      "        If (feature 5 <= 0.23088892642029651)\n",
      "         Predict: 6.123853211009174\n",
      "        Else (feature 5 > 0.23088892642029651)\n",
      "         Predict: 6.462845010615712\n",
      "      Else (feature 4 > 3.595531942854612E-4)\n",
      "       If (feature 6 <= 0.9801500750717611)\n",
      "        If (feature 2 <= 0.0020886738160982433)\n",
      "         Predict: 5.608695652173913\n",
      "        Else (feature 2 > 0.0020886738160982433)\n",
      "         Predict: 6.166270783847981\n",
      "       Else (feature 6 > 0.9801500750717611)\n",
      "        If (feature 0 <= 0.06906765099127621)\n",
      "         Predict: 5.365853658536586\n",
      "        Else (feature 0 > 0.06906765099127621)\n",
      "         Predict: 4.681818181818182\n",
      "    Else (feature 4 > 4.996050022267901E-4)\n",
      "     If (feature 10 <= 0.11725945854769854)\n",
      "      If (feature 11 <= 0.005782812248719082)\n",
      "       If (feature 7 <= 0.008934568176242177)\n",
      "        If (feature 6 <= 0.9858972207549144)\n",
      "         Predict: 5.0\n",
      "        Else (feature 6 > 0.9858972207549144)\n",
      "         Predict: 4.4\n",
      "       Else (feature 7 > 0.008934568176242177)\n",
      "        If (feature 6 <= 0.8185011517589972)\n",
      "         Predict: 6.5\n",
      "        Else (feature 6 > 0.8185011517589972)\n",
      "         Predict: 5.24468085106383\n",
      "      Else (feature 11 > 0.005782812248719082)\n",
      "       If (feature 1 <= 0.002222841512108024)\n",
      "        If (feature 3 <= 0.07400995583304296)\n",
      "         Predict: 5.898305084745763\n",
      "        Else (feature 3 > 0.07400995583304296)\n",
      "         Predict: 5.315789473684211\n",
      "       Else (feature 1 > 0.002222841512108024)\n",
      "        If (feature 5 <= 0.15154787456745245)\n",
      "         Predict: 4.5\n",
      "        Else (feature 5 > 0.15154787456745245)\n",
      "         Predict: 5.241935483870968\n",
      "     Else (feature 10 > 0.11725945854769854)\n",
      "      If (feature 6 <= 0.8831612584878723)\n",
      "       If (feature 1 <= 0.024213655492598546)\n",
      "        If (feature 2 <= 0.0042409961216421585)\n",
      "         Predict: 5.634831460674158\n",
      "        Else (feature 2 > 0.0042409961216421585)\n",
      "         Predict: 6.095505617977528\n",
      "       Else (feature 1 > 0.024213655492598546)\n",
      "        If (feature 5 <= 0.15154787456745245)\n",
      "         Predict: 4.0\n",
      "        Else (feature 5 > 0.15154787456745245)\n",
      "         Predict: 5.2105263157894735\n",
      "      Else (feature 6 > 0.8831612584878723)\n",
      "       If (feature 0 <= 0.08762780555910205)\n",
      "        If (feature 4 <= 7.400121114976151E-4)\n",
      "         Predict: 6.219512195121951\n",
      "        Else (feature 4 > 7.400121114976151E-4)\n",
      "         Predict: 5.714285714285714\n",
      "       Else (feature 0 > 0.08762780555910205)\n",
      "        If (feature 9 <= 0.005098853039795101)\n",
      "         Predict: 4.625\n",
      "        Else (feature 9 > 0.005098853039795101)\n",
      "         Predict: 5.488235294117647\n",
      "  Tree 5 (weight 1.0):\n",
      "    If (feature 7 <= 0.005734829753088958)\n",
      "     If (feature 1 <= 0.0012625764093651968)\n",
      "      If (feature 2 <= 0.0011932401299466567)\n",
      "       If (feature 3 <= 0.007960340627344187)\n",
      "        If (feature 8 <= 0.015258618523516213)\n",
      "         Predict: 4.0\n",
      "        Else (feature 8 > 0.015258618523516213)\n",
      "         Predict: 5.5\n",
      "       Else (feature 3 > 0.007960340627344187)\n",
      "        If (feature 1 <= 0.0010781388891266928)\n",
      "         Predict: 5.8\n",
      "        Else (feature 1 > 0.0010781388891266928)\n",
      "         Predict: 5.142857142857143\n",
      "      Else (feature 2 > 0.0011932401299466567)\n",
      "       If (feature 2 <= 0.001467153424575244)\n",
      "        If (feature 0 <= 0.035903544987445996)\n",
      "         Predict: 6.516666666666667\n",
      "        Else (feature 0 > 0.035903544987445996)\n",
      "         Predict: 5.421052631578948\n",
      "       Else (feature 2 > 0.001467153424575244)\n",
      "        If (feature 8 <= 0.019637422883339483)\n",
      "         Predict: 5.895\n",
      "        Else (feature 8 > 0.019637422883339483)\n",
      "         Predict: 4.571428571428571\n",
      "     Else (feature 1 > 0.0012625764093651968)\n",
      "      If (feature 4 <= 2.1263844113632917E-4)\n",
      "       If (feature 10 <= 0.05882951787359904)\n",
      "        If (feature 2 <= 9.273813947457043E-4)\n",
      "         Predict: 5.0\n",
      "        Else (feature 2 > 9.273813947457043E-4)\n",
      "         Predict: 5.718181818181818\n",
      "       Else (feature 10 > 0.05882951787359904)\n",
      "        If (feature 6 <= 0.9245221975725431)\n",
      "         Predict: 8.0\n",
      "        Else (feature 6 > 0.9245221975725431)\n",
      "         Predict: 6.285714285714286\n",
      "      Else (feature 4 > 2.1263844113632917E-4)\n",
      "       If (feature 1 <= 0.002803658863274788)\n",
      "        If (feature 3 <= 0.06584234954579532)\n",
      "         Predict: 5.225589225589226\n",
      "        Else (feature 3 > 0.06584234954579532)\n",
      "         Predict: 5.537190082644628\n",
      "       Else (feature 1 > 0.002803658863274788)\n",
      "        If (feature 10 <= 0.05053472128280316)\n",
      "         Predict: 5.4\n",
      "        Else (feature 10 > 0.05053472128280316)\n",
      "         Predict: 4.166666666666667\n",
      "    Else (feature 7 > 0.005734829753088958)\n",
      "     If (feature 1 <= 0.003463703878434722)\n",
      "      If (feature 5 <= 0.1832415115096276)\n",
      "       If (feature 5 <= 0.09589711795076178)\n",
      "        If (feature 3 <= 0.07774194192453367)\n",
      "         Predict: 5.178217821782178\n",
      "        Else (feature 3 > 0.07774194192453367)\n",
      "         Predict: 7.333333333333333\n",
      "       Else (feature 5 > 0.09589711795076178)\n",
      "        If (feature 4 <= 3.9666741137320006E-4)\n",
      "         Predict: 5.918238993710692\n",
      "        Else (feature 4 > 3.9666741137320006E-4)\n",
      "         Predict: 5.495798319327731\n",
      "      Else (feature 5 > 0.1832415115096276)\n",
      "       If (feature 4 <= 2.6073805692704267E-4)\n",
      "        If (feature 7 <= 0.006325320076084628)\n",
      "         Predict: 6.144927536231884\n",
      "        Else (feature 7 > 0.006325320076084628)\n",
      "         Predict: 6.518394648829432\n",
      "       Else (feature 4 > 2.6073805692704267E-4)\n",
      "        If (feature 0 <= 0.04064058866934057)\n",
      "         Predict: 5.646551724137931\n",
      "        Else (feature 0 > 0.04064058866934057)\n",
      "         Predict: 6.1152512998266895\n",
      "     Else (feature 1 > 0.003463703878434722)\n",
      "      If (feature 6 <= 0.9621187357352314)\n",
      "       If (feature 11 <= 9.495152315151297E-4)\n",
      "        If (feature 9 <= 0.009759003352791331)\n",
      "         Predict: 5.294520547945205\n",
      "        Else (feature 9 > 0.009759003352791331)\n",
      "         Predict: 5.7691342534504395\n",
      "       Else (feature 11 > 9.495152315151297E-4)\n",
      "        If (feature 0 <= 0.08762780555910205)\n",
      "         Predict: 6.648351648351649\n",
      "        Else (feature 0 > 0.08762780555910205)\n",
      "         Predict: 5.36986301369863\n",
      "      Else (feature 6 > 0.9621187357352314)\n",
      "       If (feature 3 <= 0.010539704392218201)\n",
      "        If (feature 10 <= 0.07685891093504085)\n",
      "         Predict: 4.166666666666667\n",
      "        Else (feature 10 > 0.07685891093504085)\n",
      "         Predict: 5.0\n",
      "       Else (feature 3 > 0.010539704392218201)\n",
      "        If (feature 4 <= 4.226589115072614E-4)\n",
      "         Predict: 5.888888888888889\n",
      "        Else (feature 4 > 4.226589115072614E-4)\n",
      "         Predict: 5.121387283236994\n",
      "  Tree 6 (weight 1.0):\n",
      "    If (feature 4 <= 4.5712570706627864E-4)\n",
      "     If (feature 8 <= 0.021217664231794008)\n",
      "      If (feature 7 <= 0.005734829753088958)\n",
      "       If (feature 10 <= 0.05882951787359904)\n",
      "        If (feature 2 <= 0.0011932401299466567)\n",
      "         Predict: 5.136\n",
      "        Else (feature 2 > 0.0011932401299466567)\n",
      "         Predict: 5.671544715447155\n",
      "       Else (feature 10 > 0.05882951787359904)\n",
      "        If (feature 11 <= 0.00555550673921528)\n",
      "         Predict: 6.512195121951219\n",
      "        Else (feature 11 > 0.00555550673921528)\n",
      "         Predict: 5.888888888888889\n",
      "      Else (feature 7 > 0.005734829753088958)\n",
      "       If (feature 1 <= 0.0012625764093651968)\n",
      "        If (feature 4 <= 3.252298534742701E-4)\n",
      "         Predict: 5.942028985507246\n",
      "        Else (feature 4 > 3.252298534742701E-4)\n",
      "         Predict: 6.85\n",
      "       Else (feature 1 > 0.0012625764093651968)\n",
      "        If (feature 4 <= 2.6073805692704267E-4)\n",
      "         Predict: 6.081081081081081\n",
      "        Else (feature 4 > 2.6073805692704267E-4)\n",
      "         Predict: 5.441558441558442\n",
      "     Else (feature 8 > 0.021217664231794008)\n",
      "      If (feature 5 <= 0.15154787456745245)\n",
      "       If (feature 4 <= 3.7682219101588894E-4)\n",
      "        If (feature 1 <= 0.0058336797757969645)\n",
      "         Predict: 5.709302325581396\n",
      "        Else (feature 1 > 0.0058336797757969645)\n",
      "         Predict: 8.0\n",
      "       Else (feature 4 > 3.7682219101588894E-4)\n",
      "        If (feature 8 <= 0.025954775344402943)\n",
      "         Predict: 4.655172413793103\n",
      "        Else (feature 8 > 0.025954775344402943)\n",
      "         Predict: 5.566037735849057\n",
      "      Else (feature 5 > 0.15154787456745245)\n",
      "       If (feature 3 <= 0.11182594065739113)\n",
      "        If (feature 6 <= 0.9642268463168253)\n",
      "         Predict: 6.411363636363636\n",
      "        Else (feature 6 > 0.9642268463168253)\n",
      "         Predict: 6.05\n",
      "       Else (feature 3 > 0.11182594065739113)\n",
      "        If (feature 5 <= 0.16397455150652646)\n",
      "         Predict: 7.0\n",
      "        Else (feature 5 > 0.16397455150652646)\n",
      "         Predict: 5.685714285714286\n",
      "    Else (feature 4 > 4.5712570706627864E-4)\n",
      "     If (feature 7 <= 0.009845761278988827)\n",
      "      If (feature 9 <= 0.004545717652008736)\n",
      "       If (feature 10 <= 0.05594982038981045)\n",
      "        If (feature 9 <= 0.0020400891343197542)\n",
      "         Predict: 6.0\n",
      "        Else (feature 9 > 0.0020400891343197542)\n",
      "         Predict: 4.945945945945946\n",
      "       Else (feature 10 > 0.05594982038981045)\n",
      "        If (feature 3 <= 0.011864657956983833)\n",
      "         Predict: 5.846153846153846\n",
      "        Else (feature 3 > 0.011864657956983833)\n",
      "         Predict: 5.373983739837398\n",
      "      Else (feature 9 > 0.004545717652008736)\n",
      "       If (feature 4 <= 9.886257176278481E-4)\n",
      "        If (feature 2 <= 0.004728991200067694)\n",
      "         Predict: 5.011764705882353\n",
      "        Else (feature 2 > 0.004728991200067694)\n",
      "         Predict: 7.0\n",
      "       Else (feature 4 > 9.886257176278481E-4)\n",
      "        If (feature 10 <= 0.062270142718462276)\n",
      "         Predict: 5.0\n",
      "        Else (feature 10 > 0.062270142718462276)\n",
      "         Predict: 5.857142857142857\n",
      "     Else (feature 7 > 0.009845761278988827)\n",
      "      If (feature 2 <= 0.01038735168085701)\n",
      "       If (feature 1 <= 0.003463703878434722)\n",
      "        If (feature 5 <= 0.20121577818507647)\n",
      "         Predict: 5.527777777777778\n",
      "        Else (feature 5 > 0.20121577818507647)\n",
      "         Predict: 6.242990654205608\n",
      "       Else (feature 1 > 0.003463703878434722)\n",
      "        If (feature 6 <= 0.9600609328297248)\n",
      "         Predict: 5.516886930983847\n",
      "        Else (feature 6 > 0.9600609328297248)\n",
      "         Predict: 5.112068965517241\n",
      "      Else (feature 2 > 0.01038735168085701)\n",
      "       If (feature 9 <= 0.014823500495652528)\n",
      "        If (feature 1 <= 0.011243928039517187)\n",
      "         Predict: 5.260869565217392\n",
      "        Else (feature 1 > 0.011243928039517187)\n",
      "         Predict: 6.142857142857143\n",
      "       Else (feature 9 > 0.014823500495652528)\n",
      "        If (feature 4 <= 0.0037086390224476025)\n",
      "         Predict: 6.313953488372093\n",
      "        Else (feature 4 > 0.0037086390224476025)\n",
      "         Predict: 5.847222222222222\n",
      "  Tree 7 (weight 1.0):\n",
      "    If (feature 10 <= 0.07098352117672388)\n",
      "     If (feature 2 <= 0.0011932401299466567)\n",
      "      If (feature 2 <= 9.273813947457043E-4)\n",
      "       If (feature 0 <= 0.029903597626480302)\n",
      "        If (feature 8 <= 0.016058981170845026)\n",
      "         Predict: 4.545454545454546\n",
      "        Else (feature 8 > 0.016058981170845026)\n",
      "         Predict: 5.0\n",
      "       Else (feature 0 > 0.029903597626480302)\n",
      "        If (feature 5 <= 0.12349565699595172)\n",
      "         Predict: 4.5\n",
      "        Else (feature 5 > 0.12349565699595172)\n",
      "         Predict: 5.17948717948718\n",
      "      Else (feature 2 > 9.273813947457043E-4)\n",
      "       If (feature 8 <= 0.014273493779141489)\n",
      "        If (feature 4 <= 2.1263844113632917E-4)\n",
      "         Predict: 5.7894736842105265\n",
      "        Else (feature 4 > 2.1263844113632917E-4)\n",
      "         Predict: 5.2\n",
      "       Else (feature 8 > 0.014273493779141489)\n",
      "        If (feature 4 <= 3.595531942854612E-4)\n",
      "         Predict: 5.470588235294118\n",
      "        Else (feature 4 > 3.595531942854612E-4)\n",
      "         Predict: 4.545454545454546\n",
      "     Else (feature 2 > 0.0011932401299466567)\n",
      "      If (feature 4 <= 4.5712570706627864E-4)\n",
      "       If (feature 1 <= 0.0012625764093651968)\n",
      "        If (feature 8 <= 0.019637422883339483)\n",
      "         Predict: 6.123919308357348\n",
      "        Else (feature 8 > 0.019637422883339483)\n",
      "         Predict: 5.725\n",
      "       Else (feature 1 > 0.0012625764093651968)\n",
      "        If (feature 1 <= 0.0020096304253118726)\n",
      "         Predict: 5.65625\n",
      "        Else (feature 1 > 0.0020096304253118726)\n",
      "         Predict: 5.388888888888889\n",
      "      Else (feature 4 > 4.5712570706627864E-4)\n",
      "       If (feature 7 <= 0.005734829753088958)\n",
      "        If (feature 1 <= 0.0013279771359072288)\n",
      "         Predict: 6.0\n",
      "        Else (feature 1 > 0.0013279771359072288)\n",
      "         Predict: 4.973684210526316\n",
      "       Else (feature 7 > 0.005734829753088958)\n",
      "        If (feature 10 <= 0.06793580322781484)\n",
      "         Predict: 5.655172413793103\n",
      "        Else (feature 10 > 0.06793580322781484)\n",
      "         Predict: 5.0476190476190474\n",
      "    Else (feature 10 > 0.07098352117672388)\n",
      "     If (feature 11 <= 9.495152315151297E-4)\n",
      "      If (feature 6 <= 0.8831612584878723)\n",
      "       If (feature 1 <= 0.024213655492598546)\n",
      "        If (feature 2 <= 0.004728991200067694)\n",
      "         Predict: 5.668918918918919\n",
      "        Else (feature 2 > 0.004728991200067694)\n",
      "         Predict: 6.14713216957606\n",
      "       Else (feature 1 > 0.024213655492598546)\n",
      "        If (feature 3 <= 0.06186839939266838)\n",
      "         Predict: 4.333333333333333\n",
      "        Else (feature 3 > 0.06186839939266838)\n",
      "         Predict: 5.233870967741935\n",
      "      Else (feature 6 > 0.8831612584878723)\n",
      "       If (feature 4 <= 4.996050022267901E-4)\n",
      "        If (feature 10 <= 0.13640540497111137)\n",
      "         Predict: 6.0\n",
      "        Else (feature 10 > 0.13640540497111137)\n",
      "         Predict: 8.0\n",
      "       Else (feature 4 > 4.996050022267901E-4)\n",
      "        If (feature 7 <= 0.008934568176242177)\n",
      "         Predict: 4.972222222222222\n",
      "        Else (feature 7 > 0.008934568176242177)\n",
      "         Predict: 5.423592493297587\n",
      "     Else (feature 11 > 9.495152315151297E-4)\n",
      "      If (feature 5 <= 0.15154787456745245)\n",
      "       If (feature 0 <= 0.0500282261143214)\n",
      "        If (feature 1 <= 0.002803658863274788)\n",
      "         Predict: 5.825\n",
      "        Else (feature 1 > 0.002803658863274788)\n",
      "         Predict: 6.866666666666666\n",
      "       Else (feature 0 > 0.0500282261143214)\n",
      "        If (feature 6 <= 0.9892093780581812)\n",
      "         Predict: 5.520361990950226\n",
      "        Else (feature 6 > 0.9892093780581812)\n",
      "         Predict: 5.086956521739131\n",
      "      Else (feature 5 > 0.15154787456745245)\n",
      "       If (feature 10 <= 0.0873687063981588)\n",
      "        If (feature 11 <= 0.00719640122545925)\n",
      "         Predict: 6.409836065573771\n",
      "        Else (feature 11 > 0.00719640122545925)\n",
      "         Predict: 5.892045454545454\n",
      "       Else (feature 10 > 0.0873687063981588)\n",
      "        If (feature 4 <= 4.5712570706627864E-4)\n",
      "         Predict: 6.446517412935323\n",
      "        Else (feature 4 > 4.5712570706627864E-4)\n",
      "         Predict: 5.86036036036036\n",
      "  Tree 8 (weight 1.0):\n",
      "    If (feature 10 <= 0.05882951787359904)\n",
      "     If (feature 1 <= 0.0012625764093651968)\n",
      "      If (feature 11 <= 0.005782812248719082)\n",
      "       If (feature 0 <= 0.029903597626480302)\n",
      "        If (feature 5 <= 0.13821100422711902)\n",
      "         Predict: 6.666666666666667\n",
      "        Else (feature 5 > 0.13821100422711902)\n",
      "         Predict: 5.461538461538462\n",
      "       Else (feature 0 > 0.029903597626480302)\n",
      "        If (feature 5 <= 0.12349565699595172)\n",
      "         Predict: 7.0\n",
      "        Else (feature 5 > 0.12349565699595172)\n",
      "         Predict: 6.064864864864865\n",
      "      Else (feature 11 > 0.005782812248719082)\n",
      "       If (feature 1 <= 0.00116955636055746)\n",
      "        If (feature 11 <= 0.0063940388927413595)\n",
      "         Predict: 6.083333333333333\n",
      "        Else (feature 11 > 0.0063940388927413595)\n",
      "         Predict: 8.0\n",
      "       Else (feature 1 > 0.00116955636055746)\n",
      "        If (feature 0 <= 0.042351477755780395)\n",
      "         Predict: 6.0\n",
      "        Else (feature 0 > 0.042351477755780395)\n",
      "         Predict: 7.909090909090909\n",
      "     Else (feature 1 > 0.0012625764093651968)\n",
      "      If (feature 2 <= 0.0011932401299466567)\n",
      "       If (feature 0 <= 0.029903597626480302)\n",
      "        If (feature 5 <= 0.35078051394858256)\n",
      "         Predict: 5.071428571428571\n",
      "        Else (feature 5 > 0.35078051394858256)\n",
      "         Predict: 3.0\n",
      "       Else (feature 0 > 0.029903597626480302)\n",
      "        If (feature 5 <= 0.12349565699595172)\n",
      "         Predict: 4.333333333333333\n",
      "        Else (feature 5 > 0.12349565699595172)\n",
      "         Predict: 5.158536585365853\n",
      "      Else (feature 2 > 0.0011932401299466567)\n",
      "       If (feature 1 <= 0.0020096304253118726)\n",
      "        If (feature 0 <= 0.04509532117426056)\n",
      "         Predict: 5.438256658595642\n",
      "        Else (feature 0 > 0.04509532117426056)\n",
      "         Predict: 5.903225806451613\n",
      "       Else (feature 1 > 0.0020096304253118726)\n",
      "        If (feature 10 <= 0.05594982038981045)\n",
      "         Predict: 5.055555555555555\n",
      "        Else (feature 10 > 0.05594982038981045)\n",
      "         Predict: 5.458333333333333\n",
      "    Else (feature 10 > 0.05882951787359904)\n",
      "     If (feature 1 <= 0.003463703878434722)\n",
      "      If (feature 1 <= 0.0014686562037494575)\n",
      "       If (feature 4 <= 2.7019747937555543E-4)\n",
      "        If (feature 10 <= 0.06495533110349928)\n",
      "         Predict: 6.127272727272727\n",
      "        Else (feature 10 > 0.06495533110349928)\n",
      "         Predict: 6.6\n",
      "       Else (feature 4 > 2.7019747937555543E-4)\n",
      "        If (feature 10 <= 0.0873687063981588)\n",
      "         Predict: 6.038461538461538\n",
      "        Else (feature 10 > 0.0873687063981588)\n",
      "         Predict: 6.52\n",
      "      Else (feature 1 > 0.0014686562037494575)\n",
      "       If (feature 10 <= 0.09132663441012309)\n",
      "        If (feature 11 <= 0.007954770707653889)\n",
      "         Predict: 5.908321579689704\n",
      "        Else (feature 11 > 0.007954770707653889)\n",
      "         Predict: 5.407766990291262\n",
      "       Else (feature 10 > 0.09132663441012309)\n",
      "        If (feature 4 <= 3.9666741137320006E-4)\n",
      "         Predict: 6.415966386554622\n",
      "        Else (feature 4 > 3.9666741137320006E-4)\n",
      "         Predict: 6.052631578947368\n",
      "     Else (feature 1 > 0.003463703878434722)\n",
      "      If (feature 9 <= 0.014823500495652528)\n",
      "       If (feature 3 <= 0.010539704392218201)\n",
      "        If (feature 9 <= 0.004100375089498396)\n",
      "         Predict: 4.0\n",
      "        Else (feature 9 > 0.004100375089498396)\n",
      "         Predict: 5.0\n",
      "       Else (feature 3 > 0.010539704392218201)\n",
      "        If (feature 10 <= 0.09132663441012309)\n",
      "         Predict: 5.084745762711864\n",
      "        Else (feature 10 > 0.09132663441012309)\n",
      "         Predict: 5.588\n",
      "      Else (feature 9 > 0.014823500495652528)\n",
      "       If (feature 7 <= 0.045509529618786765)\n",
      "        If (feature 1 <= 0.014045238030601875)\n",
      "         Predict: 6.393782383419689\n",
      "        Else (feature 1 > 0.014045238030601875)\n",
      "         Predict: 5.697368421052632\n",
      "       Else (feature 7 > 0.045509529618786765)\n",
      "        If (feature 4 <= 7.400121114976151E-4)\n",
      "         Predict: 4.0\n",
      "        Else (feature 4 > 7.400121114976151E-4)\n",
      "         Predict: 5.675862068965517\n",
      "  Tree 9 (weight 1.0):\n",
      "    If (feature 10 <= 0.06495533110349928)\n",
      "     If (feature 1 <= 0.0012625764093651968)\n",
      "      If (feature 0 <= 0.029903597626480302)\n",
      "       If (feature 5 <= 0.3370467782911951)\n",
      "        If (feature 10 <= 0.042667593985501885)\n",
      "         Predict: 5.578947368421052\n",
      "        Else (feature 10 > 0.042667593985501885)\n",
      "         Predict: 5.944444444444445\n",
      "       Else (feature 5 > 0.3370467782911951)\n",
      "        If (feature 10 <= 0.042667593985501885)\n",
      "         Predict: 3.6\n",
      "        Else (feature 10 > 0.042667593985501885)\n",
      "         Predict: 5.833333333333333\n",
      "      Else (feature 0 > 0.029903597626480302)\n",
      "       If (feature 1 <= 9.57789460149795E-4)\n",
      "        If (feature 8 <= 0.018231143407924998)\n",
      "         Predict: 6.421875\n",
      "        Else (feature 8 > 0.018231143407924998)\n",
      "         Predict: 5.8\n",
      "       Else (feature 1 > 9.57789460149795E-4)\n",
      "        If (feature 7 <= 0.0061386172083658114)\n",
      "         Predict: 5.875\n",
      "        Else (feature 7 > 0.0061386172083658114)\n",
      "         Predict: 6.5588235294117645\n",
      "     Else (feature 1 > 0.0012625764093651968)\n",
      "      If (feature 10 <= 0.05594982038981045)\n",
      "       If (feature 4 <= 3.595531942854612E-4)\n",
      "        If (feature 2 <= 0.001358530670570108)\n",
      "         Predict: 5.126865671641791\n",
      "        Else (feature 2 > 0.001358530670570108)\n",
      "         Predict: 5.425714285714286\n",
      "       Else (feature 4 > 3.595531942854612E-4)\n",
      "        If (feature 6 <= 0.9414183891142833)\n",
      "         Predict: 5.5\n",
      "        Else (feature 6 > 0.9414183891142833)\n",
      "         Predict: 4.673913043478261\n",
      "      Else (feature 10 > 0.05594982038981045)\n",
      "       If (feature 7 <= 0.005279192645364876)\n",
      "        If (feature 3 <= 0.041735319638221205)\n",
      "         Predict: 5.842105263157895\n",
      "        Else (feature 3 > 0.041735319638221205)\n",
      "         Predict: 7.2\n",
      "       Else (feature 7 > 0.005279192645364876)\n",
      "        If (feature 1 <= 0.0014686562037494575)\n",
      "         Predict: 5.919354838709677\n",
      "        Else (feature 1 > 0.0014686562037494575)\n",
      "         Predict: 5.412213740458015\n",
      "    Else (feature 10 > 0.06495533110349928)\n",
      "     If (feature 4 <= 3.7682219101588894E-4)\n",
      "      If (feature 6 <= 0.977845979520797)\n",
      "       If (feature 3 <= 0.11182594065739113)\n",
      "        If (feature 6 <= 0.9621187357352314)\n",
      "         Predict: 6.475317348377997\n",
      "        Else (feature 6 > 0.9621187357352314)\n",
      "         Predict: 6.292613636363637\n",
      "       Else (feature 3 > 0.11182594065739113)\n",
      "        If (feature 6 <= 0.9703416330265391)\n",
      "         Predict: 5.793103448275862\n",
      "        Else (feature 6 > 0.9703416330265391)\n",
      "         Predict: 5.0\n",
      "      Else (feature 6 > 0.977845979520797)\n",
      "       If (feature 0 <= 0.06906765099127621)\n",
      "        If (feature 7 <= 0.009845761278988827)\n",
      "         Predict: 5.755274261603375\n",
      "        Else (feature 7 > 0.009845761278988827)\n",
      "         Predict: 6.75\n",
      "       Else (feature 0 > 0.06906765099127621)\n",
      "        If (feature 4 <= 3.012422692771622E-4)\n",
      "         Predict: 4.0\n",
      "        Else (feature 4 > 3.012422692771622E-4)\n",
      "         Predict: 5.0\n",
      "     Else (feature 4 > 3.7682219101588894E-4)\n",
      "      If (feature 6 <= 0.9621187357352314)\n",
      "       If (feature 7 <= 0.0121930319234457)\n",
      "        If (feature 4 <= 5.815532435602807E-4)\n",
      "         Predict: 6.231372549019608\n",
      "        Else (feature 4 > 5.815532435602807E-4)\n",
      "         Predict: 5.524271844660194\n",
      "       Else (feature 7 > 0.0121930319234457)\n",
      "        If (feature 1 <= 0.024213655492598546)\n",
      "         Predict: 5.808172531214529\n",
      "        Else (feature 1 > 0.024213655492598546)\n",
      "         Predict: 5.307086614173229\n",
      "      Else (feature 6 > 0.9621187357352314)\n",
      "       If (feature 11 <= 0.006183802303308336)\n",
      "        If (feature 3 <= 0.06950152251883374)\n",
      "         Predict: 5.231343283582089\n",
      "        Else (feature 3 > 0.06950152251883374)\n",
      "         Predict: 4.0\n",
      "       Else (feature 11 > 0.006183802303308336)\n",
      "        If (feature 5 <= 0.15154787456745245)\n",
      "         Predict: 5.098591549295775\n",
      "        Else (feature 5 > 0.15154787456745245)\n",
      "         Predict: 5.727659574468085\n",
      "  Tree 10 (weight 1.0):\n",
      "    If (feature 6 <= 0.9801500750717611)\n",
      "     If (feature 11 <= 0.005981100769664005)\n",
      "      If (feature 2 <= 0.005587119265081934)\n",
      "       If (feature 1 <= 0.00116955636055746)\n",
      "        If (feature 3 <= 0.05411000498316249)\n",
      "         Predict: 5.967741935483871\n",
      "        Else (feature 3 > 0.05411000498316249)\n",
      "         Predict: 6.330097087378641\n",
      "       Else (feature 1 > 0.00116955636055746)\n",
      "        If (feature 10 <= 0.4903841507066147)\n",
      "         Predict: 5.488829311885612\n",
      "        Else (feature 10 > 0.4903841507066147)\n",
      "         Predict: 4.893939393939394\n",
      "      Else (feature 2 > 0.005587119265081934)\n",
      "       If (feature 6 <= 0.8831612584878723)\n",
      "        If (feature 1 <= 0.017953078957857277)\n",
      "         Predict: 6.218181818181818\n",
      "        Else (feature 1 > 0.017953078957857277)\n",
      "         Predict: 5.5181818181818185\n",
      "       Else (feature 6 > 0.8831612584878723)\n",
      "        If (feature 7 <= 0.01928983388492566)\n",
      "         Predict: 5.552631578947368\n",
      "        Else (feature 7 > 0.01928983388492566)\n",
      "         Predict: 5.21875\n",
      "     Else (feature 11 > 0.005981100769664005)\n",
      "      If (feature 4 <= 4.5712570706627864E-4)\n",
      "       If (feature 10 <= 0.08052709003614036)\n",
      "        If (feature 1 <= 0.0014686562037494575)\n",
      "         Predict: 6.253393665158371\n",
      "        Else (feature 1 > 0.0014686562037494575)\n",
      "         Predict: 5.777777777777778\n",
      "       Else (feature 10 > 0.08052709003614036)\n",
      "        If (feature 4 <= 3.7682219101588894E-4)\n",
      "         Predict: 6.465145754119138\n",
      "        Else (feature 4 > 3.7682219101588894E-4)\n",
      "         Predict: 6.15530303030303\n",
      "      Else (feature 4 > 4.5712570706627864E-4)\n",
      "       If (feature 0 <= 0.24033271052441724)\n",
      "        If (feature 3 <= 0.03922878383173732)\n",
      "         Predict: 5.793269230769231\n",
      "        Else (feature 3 > 0.03922878383173732)\n",
      "         Predict: 5.445205479452055\n",
      "       Else (feature 0 > 0.24033271052441724)\n",
      "        If (feature 8 <= 0.09726023439070171)\n",
      "         Predict: 3.0\n",
      "        Else (feature 8 > 0.09726023439070171)\n",
      "         Predict: 5.0\n",
      "    Else (feature 6 > 0.9801500750717611)\n",
      "     If (feature 4 <= 3.7682219101588894E-4)\n",
      "      If (feature 0 <= 0.05520489272528167)\n",
      "       If (feature 11 <= 0.00719640122545925)\n",
      "        If (feature 1 <= 0.0010781388891266928)\n",
      "         Predict: 5.976190476190476\n",
      "        Else (feature 1 > 0.0010781388891266928)\n",
      "         Predict: 5.463203463203463\n",
      "       Else (feature 11 > 0.00719640122545925)\n",
      "        If (feature 2 <= 0.0030771733485633196)\n",
      "         Predict: 5.95\n",
      "        Else (feature 2 > 0.0030771733485633196)\n",
      "         Predict: 7.333333333333333\n",
      "      Else (feature 0 > 0.05520489272528167)\n",
      "       If (feature 1 <= 0.003463703878434722)\n",
      "        If (feature 8 <= 0.024228505919266632)\n",
      "         Predict: 5.068965517241379\n",
      "        Else (feature 8 > 0.024228505919266632)\n",
      "         Predict: 5.666666666666667\n",
      "       Else (feature 1 > 0.003463703878434722)\n",
      "        If (feature 8 <= 0.03028439534945121)\n",
      "         Predict: 4.5\n",
      "        Else (feature 8 > 0.03028439534945121)\n",
      "         Predict: 7.0\n",
      "     Else (feature 4 > 3.7682219101588894E-4)\n",
      "      If (feature 0 <= 0.05155413356439885)\n",
      "       If (feature 3 <= 0.010539704392218201)\n",
      "        If (feature 1 <= 0.0014686562037494575)\n",
      "         Predict: 4.0\n",
      "        Else (feature 1 > 0.0014686562037494575)\n",
      "         Predict: 5.0\n",
      "       Else (feature 3 > 0.010539704392218201)\n",
      "        If (feature 9 <= 0.0036444818927591762)\n",
      "         Predict: 5.1\n",
      "        Else (feature 9 > 0.0036444818927591762)\n",
      "         Predict: 6.142857142857143\n",
      "      Else (feature 0 > 0.05155413356439885)\n",
      "       If (feature 8 <= 0.025954775344402943)\n",
      "        If (feature 9 <= 0.005098853039795101)\n",
      "         Predict: 4.590909090909091\n",
      "        Else (feature 9 > 0.005098853039795101)\n",
      "         Predict: 4.0\n",
      "       Else (feature 8 > 0.025954775344402943)\n",
      "        If (feature 8 <= 0.02677029410664683)\n",
      "         Predict: 5.75\n",
      "        Else (feature 8 > 0.02677029410664683)\n",
      "         Predict: 4.933333333333334\n",
      "  Tree 11 (weight 1.0):\n",
      "    If (feature 5 <= 0.15154787456745245)\n",
      "     If (feature 1 <= 0.0012625764093651968)\n",
      "      If (feature 3 <= 0.06950152251883374)\n",
      "       If (feature 5 <= 0.13821100422711902)\n",
      "        If (feature 11 <= 9.495152315151297E-4)\n",
      "         Predict: 7.0\n",
      "        Else (feature 11 > 9.495152315151297E-4)\n",
      "         Predict: 6.0\n",
      "       Else (feature 5 > 0.13821100422711902)\n",
      "        If (feature 0 <= 0.029903597626480302)\n",
      "         Predict: 5.0\n",
      "        Else (feature 0 > 0.029903597626480302)\n",
      "         Predict: 5.888888888888889\n",
      "      Else (feature 3 > 0.06950152251883374)\n",
      "       If (feature 4 <= 2.237277356116855E-4)\n",
      "        Predict: 6.0\n",
      "       Else (feature 4 > 2.237277356116855E-4)\n",
      "        Predict: 7.0\n",
      "     Else (feature 1 > 0.0012625764093651968)\n",
      "      If (feature 9 <= 0.00800429270600398)\n",
      "       If (feature 1 <= 0.004693871681064406)\n",
      "        If (feature 7 <= 0.005734829753088958)\n",
      "         Predict: 5.144927536231884\n",
      "        Else (feature 7 > 0.005734829753088958)\n",
      "         Predict: 5.4392523364485985\n",
      "       Else (feature 1 > 0.004693871681064406)\n",
      "        If (feature 6 <= 0.9858972207549144)\n",
      "         Predict: 5.03921568627451\n",
      "        Else (feature 6 > 0.9858972207549144)\n",
      "         Predict: 4.555555555555555\n",
      "      Else (feature 9 > 0.00800429270600398)\n",
      "       If (feature 7 <= 0.01107270126815524)\n",
      "        If (feature 5 <= 0.12349565699595172)\n",
      "         Predict: 5.666666666666667\n",
      "        Else (feature 5 > 0.12349565699595172)\n",
      "         Predict: 7.833333333333333\n",
      "       Else (feature 7 > 0.01107270126815524)\n",
      "        If (feature 3 <= 0.021887506814661284)\n",
      "         Predict: 3.0\n",
      "        Else (feature 3 > 0.021887506814661284)\n",
      "         Predict: 5.653061224489796\n",
      "    Else (feature 5 > 0.15154787456745245)\n",
      "     If (feature 2 <= 0.0011932401299466567)\n",
      "      If (feature 0 <= 0.40084581065684066)\n",
      "       If (feature 10 <= 0.05882951787359904)\n",
      "        If (feature 11 <= 0.0031399255401337355)\n",
      "         Predict: 3.0\n",
      "        Else (feature 11 > 0.0031399255401337355)\n",
      "         Predict: 5.226950354609929\n",
      "       Else (feature 10 > 0.05882951787359904)\n",
      "        If (feature 4 <= 2.0048726168222158E-4)\n",
      "         Predict: 7.5\n",
      "        Else (feature 4 > 2.0048726168222158E-4)\n",
      "         Predict: 5.386831275720165\n",
      "      Else (feature 0 > 0.40084581065684066)\n",
      "       If (feature 5 <= 0.2886390822698023)\n",
      "        Predict: 3.0\n",
      "       Else (feature 5 > 0.2886390822698023)\n",
      "        Predict: 4.0\n",
      "     Else (feature 2 > 0.0011932401299466567)\n",
      "      If (feature 4 <= 4.5712570706627864E-4)\n",
      "       If (feature 10 <= 0.07355003153781718)\n",
      "        If (feature 4 <= 2.6073805692704267E-4)\n",
      "         Predict: 5.931389365351629\n",
      "        Else (feature 4 > 2.6073805692704267E-4)\n",
      "         Predict: 5.687606112054329\n",
      "       Else (feature 10 > 0.07355003153781718)\n",
      "        If (feature 3 <= 0.11182594065739113)\n",
      "         Predict: 6.358235823582358\n",
      "        Else (feature 3 > 0.11182594065739113)\n",
      "         Predict: 5.568181818181818\n",
      "      Else (feature 4 > 4.5712570706627864E-4)\n",
      "       If (feature 2 <= 0.003432588272591392)\n",
      "        If (feature 11 <= 0.013323293688942257)\n",
      "         Predict: 5.467336683417085\n",
      "        Else (feature 11 > 0.013323293688942257)\n",
      "         Predict: 4.7\n",
      "       Else (feature 2 > 0.003432588272591392)\n",
      "        If (feature 1 <= 0.024213655492598546)\n",
      "         Predict: 5.905579399141631\n",
      "        Else (feature 1 > 0.024213655492598546)\n",
      "         Predict: 5.2439024390243905\n",
      "  Tree 12 (weight 1.0):\n",
      "    If (feature 11 <= 0.005782812248719082)\n",
      "     If (feature 6 <= 0.8831612584878723)\n",
      "      If (feature 10 <= 0.045391305224889975)\n",
      "       Predict: 3.0\n",
      "      Else (feature 10 > 0.045391305224889975)\n",
      "       If (feature 3 <= 0.019143273003756026)\n",
      "        If (feature 2 <= 0.001358530670570108)\n",
      "         Predict: 6.0\n",
      "        Else (feature 2 > 0.001358530670570108)\n",
      "         Predict: 7.375\n",
      "       Else (feature 3 > 0.019143273003756026)\n",
      "        If (feature 1 <= 0.024213655492598546)\n",
      "         Predict: 5.949019607843137\n",
      "        Else (feature 1 > 0.024213655492598546)\n",
      "         Predict: 5.090225563909774\n",
      "     Else (feature 6 > 0.8831612584878723)\n",
      "      If (feature 1 <= 0.0013279771359072288)\n",
      "       If (feature 7 <= 0.005734829753088958)\n",
      "        If (feature 0 <= 0.029903597626480302)\n",
      "         Predict: 5.421875\n",
      "        Else (feature 0 > 0.029903597626480302)\n",
      "         Predict: 5.868794326241135\n",
      "       Else (feature 7 > 0.005734829753088958)\n",
      "        If (feature 0 <= 0.03918663523270827)\n",
      "         Predict: 6.0\n",
      "        Else (feature 0 > 0.03918663523270827)\n",
      "         Predict: 7.0\n",
      "      Else (feature 1 > 0.0013279771359072288)\n",
      "       If (feature 6 <= 0.9801500750717611)\n",
      "        If (feature 5 <= 0.41038964458018545)\n",
      "         Predict: 5.440540540540541\n",
      "        Else (feature 5 > 0.41038964458018545)\n",
      "         Predict: 4.642857142857143\n",
      "       Else (feature 6 > 0.9801500750717611)\n",
      "        If (feature 11 <= 0.005103817104623107)\n",
      "         Predict: 5.265060240963855\n",
      "        Else (feature 11 > 0.005103817104623107)\n",
      "         Predict: 4.948275862068965\n",
      "    Else (feature 11 > 0.005782812248719082)\n",
      "     If (feature 6 <= 0.977845979520797)\n",
      "      If (feature 10 <= 0.07098352117672388)\n",
      "       If (feature 10 <= 0.05053472128280316)\n",
      "        If (feature 4 <= 2.4368915618751095E-4)\n",
      "         Predict: 5.0\n",
      "        Else (feature 4 > 2.4368915618751095E-4)\n",
      "         Predict: 7.0\n",
      "       Else (feature 10 > 0.05053472128280316)\n",
      "        If (feature 9 <= 0.003505172423693129)\n",
      "         Predict: 5.674418604651163\n",
      "        Else (feature 9 > 0.003505172423693129)\n",
      "         Predict: 6.05\n",
      "      Else (feature 10 > 0.07098352117672388)\n",
      "       If (feature 4 <= 4.5712570706627864E-4)\n",
      "        If (feature 0 <= 0.03439409498776809)\n",
      "         Predict: 7.583333333333333\n",
      "        Else (feature 0 > 0.03439409498776809)\n",
      "         Predict: 6.332522303325223\n",
      "       Else (feature 4 > 4.5712570706627864E-4)\n",
      "        If (feature 1 <= 0.003463703878434722)\n",
      "         Predict: 5.951086956521739\n",
      "        Else (feature 1 > 0.003463703878434722)\n",
      "         Predict: 5.372881355932203\n",
      "     Else (feature 6 > 0.977845979520797)\n",
      "      If (feature 0 <= 0.05155413356439885)\n",
      "       If (feature 9 <= 0.0060380127341054185)\n",
      "        If (feature 5 <= 0.1832415115096276)\n",
      "         Predict: 5.716494845360825\n",
      "        Else (feature 5 > 0.1832415115096276)\n",
      "         Predict: 5.2\n",
      "       Else (feature 9 > 0.0060380127341054185)\n",
      "        Predict: 7.0\n",
      "      Else (feature 0 > 0.05155413356439885)\n",
      "       If (feature 6 <= 0.9892093780581812)\n",
      "        If (feature 4 <= 3.595531942854612E-4)\n",
      "         Predict: 5.65625\n",
      "        Else (feature 4 > 3.595531942854612E-4)\n",
      "         Predict: 5.136842105263158\n",
      "       Else (feature 6 > 0.9892093780581812)\n",
      "        If (feature 2 <= 0.005587119265081934)\n",
      "         Predict: 4.886363636363637\n",
      "        Else (feature 2 > 0.005587119265081934)\n",
      "         Predict: 6.0\n",
      "  Tree 13 (weight 1.0):\n",
      "    If (feature 2 <= 0.001467153424575244)\n",
      "     If (feature 11 <= 0.00985781881158754)\n",
      "      If (feature 11 <= 0.007447512821552498)\n",
      "       If (feature 1 <= 0.0012625764093651968)\n",
      "        If (feature 5 <= 0.25899171288527073)\n",
      "         Predict: 6.0476190476190474\n",
      "        Else (feature 5 > 0.25899171288527073)\n",
      "         Predict: 5.5\n",
      "       Else (feature 1 > 0.0012625764093651968)\n",
      "        If (feature 6 <= 0.9892093780581812)\n",
      "         Predict: 5.395480225988701\n",
      "        Else (feature 6 > 0.9892093780581812)\n",
      "         Predict: 4.882352941176471\n",
      "      Else (feature 11 > 0.007447512821552498)\n",
      "       If (feature 4 <= 3.124573140924871E-4)\n",
      "        If (feature 3 <= 0.01467505972233811)\n",
      "         Predict: 5.666666666666667\n",
      "        Else (feature 3 > 0.01467505972233811)\n",
      "         Predict: 6.866666666666666\n",
      "       Else (feature 4 > 3.124573140924871E-4)\n",
      "        If (feature 4 <= 4.226589115072614E-4)\n",
      "         Predict: 5.066666666666666\n",
      "        Else (feature 4 > 4.226589115072614E-4)\n",
      "         Predict: 5.625\n",
      "     Else (feature 11 > 0.00985781881158754)\n",
      "      If (feature 9 <= 0.005512657161870677)\n",
      "       If (feature 6 <= 0.9823637699334902)\n",
      "        If (feature 0 <= 0.06259572377701793)\n",
      "         Predict: 4.5\n",
      "        Else (feature 0 > 0.06259572377701793)\n",
      "         Predict: 5.0\n",
      "       Else (feature 6 > 0.9823637699334902)\n",
      "        Predict: 4.0\n",
      "      Else (feature 9 > 0.005512657161870677)\n",
      "       Predict: 4.0\n",
      "    Else (feature 2 > 0.001467153424575244)\n",
      "     If (feature 6 <= 0.9801500750717611)\n",
      "      If (feature 1 <= 0.024213655492598546)\n",
      "       If (feature 8 <= 0.016833992883606673)\n",
      "        If (feature 5 <= 0.1832415115096276)\n",
      "         Predict: 7.0\n",
      "        Else (feature 5 > 0.1832415115096276)\n",
      "         Predict: 5.518382352941177\n",
      "       Else (feature 8 > 0.016833992883606673)\n",
      "        If (feature 4 <= 4.226589115072614E-4)\n",
      "         Predict: 6.181660899653979\n",
      "        Else (feature 4 > 4.226589115072614E-4)\n",
      "         Predict: 5.7724741447891805\n",
      "      Else (feature 1 > 0.024213655492598546)\n",
      "       If (feature 2 <= 0.002560860384857689)\n",
      "        If (feature 2 <= 0.002464028780241793)\n",
      "         Predict: 4.782608695652174\n",
      "        Else (feature 2 > 0.002464028780241793)\n",
      "         Predict: 3.0\n",
      "       Else (feature 2 > 0.002560860384857689)\n",
      "        If (feature 4 <= 7.400121114976151E-4)\n",
      "         Predict: 4.0\n",
      "        Else (feature 4 > 7.400121114976151E-4)\n",
      "         Predict: 5.127272727272727\n",
      "     Else (feature 6 > 0.9801500750717611)\n",
      "      If (feature 0 <= 0.06906765099127621)\n",
      "       If (feature 4 <= 2.8022913999838236E-4)\n",
      "        If (feature 8 <= 0.02677029410664683)\n",
      "         Predict: 5.723880597014926\n",
      "        Else (feature 8 > 0.02677029410664683)\n",
      "         Predict: 7.0\n",
      "       Else (feature 4 > 2.8022913999838236E-4)\n",
      "        If (feature 0 <= 0.05155413356439885)\n",
      "         Predict: 5.642384105960265\n",
      "        Else (feature 0 > 0.05155413356439885)\n",
      "         Predict: 5.184466019417476\n",
      "      Else (feature 0 > 0.06906765099127621)\n",
      "       If (feature 2 <= 0.002927905288218722)\n",
      "        If (feature 10 <= 0.11080163151316794)\n",
      "         Predict: 5.2727272727272725\n",
      "        Else (feature 10 > 0.11080163151316794)\n",
      "         Predict: 4.0\n",
      "       Else (feature 2 > 0.002927905288218722)\n",
      "        If (feature 7 <= 0.008072577544933467)\n",
      "         Predict: 3.6666666666666665\n",
      "        Else (feature 7 > 0.008072577544933467)\n",
      "         Predict: 4.709677419354839\n",
      "  Tree 14 (weight 1.0):\n",
      "    If (feature 11 <= 0.005981100769664005)\n",
      "     If (feature 5 <= 0.3844948325343825)\n",
      "      If (feature 9 <= 0.0296902963771944)\n",
      "       If (feature 4 <= 3.595531942854612E-4)\n",
      "        If (feature 10 <= 0.06495533110349928)\n",
      "         Predict: 5.638755980861244\n",
      "        Else (feature 10 > 0.06495533110349928)\n",
      "         Predict: 6.7\n",
      "       Else (feature 4 > 3.595531942854612E-4)\n",
      "        If (feature 9 <= 0.009759003352791331)\n",
      "         Predict: 5.148550724637682\n",
      "        Else (feature 9 > 0.009759003352791331)\n",
      "         Predict: 5.580448065173116\n",
      "      Else (feature 9 > 0.0296902963771944)\n",
      "       If (feature 3 <= 0.05411000498316249)\n",
      "        Predict: 4.0\n",
      "       Else (feature 3 > 0.05411000498316249)\n",
      "        If (feature 4 <= 0.0037086390224476025)\n",
      "         Predict: 6.318840579710145\n",
      "        Else (feature 4 > 0.0037086390224476025)\n",
      "         Predict: 5.739130434782608\n",
      "     Else (feature 5 > 0.3844948325343825)\n",
      "      If (feature 2 <= 0.005587119265081934)\n",
      "       If (feature 1 <= 0.00309988206516071)\n",
      "        If (feature 10 <= 0.053110302771509785)\n",
      "         Predict: 5.478260869565218\n",
      "        Else (feature 10 > 0.053110302771509785)\n",
      "         Predict: 6.9\n",
      "       Else (feature 1 > 0.00309988206516071)\n",
      "        If (feature 0 <= 0.30482778913439057)\n",
      "         Predict: 5.572972972972973\n",
      "        Else (feature 0 > 0.30482778913439057)\n",
      "         Predict: 7.0\n",
      "      Else (feature 2 > 0.005587119265081934)\n",
      "       If (feature 1 <= 0.008798824924668788)\n",
      "        If (feature 0 <= 0.1536183888190052)\n",
      "         Predict: 6.0\n",
      "        Else (feature 0 > 0.1536183888190052)\n",
      "         Predict: 6.636363636363637\n",
      "       Else (feature 1 > 0.008798824924668788)\n",
      "        If (feature 2 <= 0.01038735168085701)\n",
      "         Predict: 5.852941176470588\n",
      "        Else (feature 2 > 0.01038735168085701)\n",
      "         Predict: 6.277777777777778\n",
      "    Else (feature 11 > 0.005981100769664005)\n",
      "     If (feature 1 <= 0.0040248356273273125)\n",
      "      If (feature 5 <= 0.15154787456745245)\n",
      "       If (feature 2 <= 0.0039033236506249808)\n",
      "        If (feature 9 <= 0.0023477387282043113)\n",
      "         Predict: 7.25\n",
      "        Else (feature 9 > 0.0023477387282043113)\n",
      "         Predict: 5.6130268199233715\n",
      "       Else (feature 2 > 0.0039033236506249808)\n",
      "        If (feature 0 <= 0.05337197769379156)\n",
      "         Predict: 4.5\n",
      "        Else (feature 0 > 0.05337197769379156)\n",
      "         Predict: 5.352941176470588\n",
      "      Else (feature 5 > 0.15154787456745245)\n",
      "       If (feature 11 <= 0.006919813484633043)\n",
      "        If (feature 1 <= 0.0014686562037494575)\n",
      "         Predict: 6.260869565217392\n",
      "        Else (feature 1 > 0.0014686562037494575)\n",
      "         Predict: 5.814432989690721\n",
      "       Else (feature 11 > 0.006919813484633043)\n",
      "        If (feature 4 <= 3.595531942854612E-4)\n",
      "         Predict: 6.3918417799752785\n",
      "        Else (feature 4 > 3.595531942854612E-4)\n",
      "         Predict: 6.083752093802345\n",
      "     Else (feature 1 > 0.0040248356273273125)\n",
      "      If (feature 2 <= 0.001577969288209065)\n",
      "       If (feature 4 <= 3.359876639668481E-4)\n",
      "        If (feature 3 <= 0.013078610502588692)\n",
      "         Predict: 5.0\n",
      "        Else (feature 3 > 0.013078610502588692)\n",
      "         Predict: 6.333333333333333\n",
      "       Else (feature 4 > 3.359876639668481E-4)\n",
      "        If (feature 2 <= 3.2431444073124515E-4)\n",
      "         Predict: 4.0\n",
      "        Else (feature 2 > 3.2431444073124515E-4)\n",
      "         Predict: 4.769230769230769\n",
      "      Else (feature 2 > 0.001577969288209065)\n",
      "       If (feature 5 <= 0.23088892642029651)\n",
      "        If (feature 6 <= 0.9801500750717611)\n",
      "         Predict: 5.547169811320755\n",
      "        Else (feature 6 > 0.9801500750717611)\n",
      "         Predict: 4.769230769230769\n",
      "       Else (feature 5 > 0.23088892642029651)\n",
      "        If (feature 7 <= 0.013751323246359266)\n",
      "         Predict: 6.361702127659575\n",
      "        Else (feature 7 > 0.013751323246359266)\n",
      "         Predict: 5.111111111111111\n",
      "  Tree 15 (weight 1.0):\n",
      "    If (feature 2 <= 0.0016708794335822592)\n",
      "     If (feature 1 <= 0.0012625764093651968)\n",
      "      If (feature 2 <= 0.0011932401299466567)\n",
      "       If (feature 6 <= 0.9035681062882784)\n",
      "        If (feature 4 <= 1.792817736005926E-4)\n",
      "         Predict: 3.2\n",
      "        Else (feature 4 > 1.792817736005926E-4)\n",
      "         Predict: 5.333333333333333\n",
      "       Else (feature 6 > 0.9035681062882784)\n",
      "        If (feature 10 <= 0.04827767365986443)\n",
      "         Predict: 5.5588235294117645\n",
      "        Else (feature 10 > 0.04827767365986443)\n",
      "         Predict: 6.0\n",
      "      Else (feature 2 > 0.0011932401299466567)\n",
      "       If (feature 10 <= 0.042667593985501885)\n",
      "        If (feature 4 <= 2.237277356116855E-4)\n",
      "         Predict: 5.818181818181818\n",
      "        Else (feature 4 > 2.237277356116855E-4)\n",
      "         Predict: 7.375\n",
      "       Else (feature 10 > 0.042667593985501885)\n",
      "        If (feature 11 <= 0.005981100769664005)\n",
      "         Predict: 5.938775510204081\n",
      "        Else (feature 11 > 0.005981100769664005)\n",
      "         Predict: 6.6\n",
      "     Else (feature 1 > 0.0012625764093651968)\n",
      "      If (feature 10 <= 0.053110302771509785)\n",
      "       If (feature 11 <= 0.0031399255401337355)\n",
      "        Predict: 3.0\n",
      "       Else (feature 11 > 0.0031399255401337355)\n",
      "        If (feature 5 <= 0.12349565699595172)\n",
      "         Predict: 4.733333333333333\n",
      "        Else (feature 5 > 0.12349565699595172)\n",
      "         Predict: 5.306034482758621\n",
      "      Else (feature 10 > 0.053110302771509785)\n",
      "       If (feature 4 <= 2.8022913999838236E-4)\n",
      "        If (feature 3 <= 0.010539704392218201)\n",
      "         Predict: 5.2727272727272725\n",
      "        Else (feature 3 > 0.010539704392218201)\n",
      "         Predict: 5.917355371900826\n",
      "       Else (feature 4 > 2.8022913999838236E-4)\n",
      "        If (feature 6 <= 0.9414183891142833)\n",
      "         Predict: 5.563451776649746\n",
      "        Else (feature 6 > 0.9414183891142833)\n",
      "         Predict: 5.248847926267281\n",
      "    Else (feature 2 > 0.0016708794335822592)\n",
      "     If (feature 10 <= 0.06793580322781484)\n",
      "      If (feature 2 <= 0.00201019294101602)\n",
      "       If (feature 3 <= 0.07400995583304296)\n",
      "        If (feature 5 <= 0.36641675558285275)\n",
      "         Predict: 5.595121951219512\n",
      "        Else (feature 5 > 0.36641675558285275)\n",
      "         Predict: 6.625\n",
      "       Else (feature 3 > 0.07400995583304296)\n",
      "        If (feature 1 <= 0.0013940816312611034)\n",
      "         Predict: 6.6923076923076925\n",
      "        Else (feature 1 > 0.0013940816312611034)\n",
      "         Predict: 5.413793103448276\n",
      "      Else (feature 2 > 0.00201019294101602)\n",
      "       If (feature 9 <= 0.0036444818927591762)\n",
      "        If (feature 5 <= 0.35078051394858256)\n",
      "         Predict: 5.434272300469484\n",
      "        Else (feature 5 > 0.35078051394858256)\n",
      "         Predict: 5.857142857142857\n",
      "       Else (feature 9 > 0.0036444818927591762)\n",
      "        If (feature 4 <= 4.5712570706627864E-4)\n",
      "         Predict: 5.925\n",
      "        Else (feature 4 > 4.5712570706627864E-4)\n",
      "         Predict: 5.0\n",
      "     Else (feature 10 > 0.06793580322781484)\n",
      "      If (feature 4 <= 4.5712570706627864E-4)\n",
      "       If (feature 4 <= 2.9012249504986587E-4)\n",
      "        If (feature 11 <= 0.009344320286652361)\n",
      "         Predict: 6.46\n",
      "        Else (feature 11 > 0.009344320286652361)\n",
      "         Predict: 5.953846153846154\n",
      "       Else (feature 4 > 2.9012249504986587E-4)\n",
      "        If (feature 8 <= 0.03028439534945121)\n",
      "         Predict: 5.988888888888889\n",
      "        Else (feature 8 > 0.03028439534945121)\n",
      "         Predict: 6.280936454849498\n",
      "      Else (feature 4 > 4.5712570706627864E-4)\n",
      "       If (feature 8 <= 0.06392548863856518)\n",
      "        If (feature 5 <= 0.20121577818507647)\n",
      "         Predict: 5.253393665158371\n",
      "        Else (feature 5 > 0.20121577818507647)\n",
      "         Predict: 5.722666666666667\n",
      "       Else (feature 8 > 0.06392548863856518)\n",
      "        If (feature 9 <= 0.014823500495652528)\n",
      "         Predict: 5.483050847457627\n",
      "        Else (feature 9 > 0.014823500495652528)\n",
      "         Predict: 5.938356164383562\n",
      "  Tree 16 (weight 1.0):\n",
      "    If (feature 11 <= 0.005981100769664005)\n",
      "     If (feature 1 <= 9.57789460149795E-4)\n",
      "      If (feature 4 <= 2.237277356116855E-4)\n",
      "       If (feature 6 <= 0.8566133488487171)\n",
      "        Predict: 3.0\n",
      "       Else (feature 6 > 0.8566133488487171)\n",
      "        If (feature 10 <= 0.05594982038981045)\n",
      "         Predict: 5.705882352941177\n",
      "        Else (feature 10 > 0.05594982038981045)\n",
      "         Predict: 7.0\n",
      "      Else (feature 4 > 2.237277356116855E-4)\n",
      "       If (feature 6 <= 0.977845979520797)\n",
      "        If (feature 10 <= 0.042667593985501885)\n",
      "         Predict: 7.285714285714286\n",
      "        Else (feature 10 > 0.042667593985501885)\n",
      "         Predict: 6.321428571428571\n",
      "       Else (feature 6 > 0.977845979520797)\n",
      "        If (feature 5 <= 0.16397455150652646)\n",
      "         Predict: 6.090909090909091\n",
      "        Else (feature 5 > 0.16397455150652646)\n",
      "         Predict: 5.0\n",
      "     Else (feature 1 > 9.57789460149795E-4)\n",
      "      If (feature 2 <= 0.01038735168085701)\n",
      "       If (feature 5 <= 0.41038964458018545)\n",
      "        If (feature 1 <= 0.0012625764093651968)\n",
      "         Predict: 5.875555555555556\n",
      "        Else (feature 1 > 0.0012625764093651968)\n",
      "         Predict: 5.427258805513016\n",
      "       Else (feature 5 > 0.41038964458018545)\n",
      "        If (feature 6 <= 0.8185011517589972)\n",
      "         Predict: 6.091836734693878\n",
      "        Else (feature 6 > 0.8185011517589972)\n",
      "         Predict: 5.585365853658536\n",
      "      Else (feature 2 > 0.01038735168085701)\n",
      "       If (feature 6 <= 0.8831612584878723)\n",
      "        If (feature 4 <= 0.0037086390224476025)\n",
      "         Predict: 6.275280898876405\n",
      "        Else (feature 4 > 0.0037086390224476025)\n",
      "         Predict: 5.822222222222222\n",
      "       Else (feature 6 > 0.8831612584878723)\n",
      "        If (feature 0 <= 0.1230518418018578)\n",
      "         Predict: 4.0\n",
      "        Else (feature 0 > 0.1230518418018578)\n",
      "         Predict: 5.571428571428571\n",
      "    Else (feature 11 > 0.005981100769664005)\n",
      "     If (feature 6 <= 0.977845979520797)\n",
      "      If (feature 2 <= 0.001577969288209065)\n",
      "       If (feature 4 <= 2.0048726168222158E-4)\n",
      "        If (feature 6 <= 0.9534524030929017)\n",
      "         Predict: 6.0\n",
      "        Else (feature 6 > 0.9534524030929017)\n",
      "         Predict: 7.6\n",
      "       Else (feature 4 > 2.0048726168222158E-4)\n",
      "        If (feature 1 <= 0.0018304307960749116)\n",
      "         Predict: 5.806451612903226\n",
      "        Else (feature 1 > 0.0018304307960749116)\n",
      "         Predict: 5.397590361445783\n",
      "      Else (feature 2 > 0.001577969288209065)\n",
      "       If (feature 4 <= 4.5712570706627864E-4)\n",
      "        If (feature 3 <= 0.11182594065739113)\n",
      "         Predict: 6.288123682361209\n",
      "        Else (feature 3 > 0.11182594065739113)\n",
      "         Predict: 5.631067961165049\n",
      "       Else (feature 4 > 4.5712570706627864E-4)\n",
      "        If (feature 5 <= 0.23088892642029651)\n",
      "         Predict: 5.438709677419355\n",
      "        Else (feature 5 > 0.23088892642029651)\n",
      "         Predict: 5.937888198757764\n",
      "     Else (feature 6 > 0.977845979520797)\n",
      "      If (feature 1 <= 0.004693871681064406)\n",
      "       If (feature 4 <= 2.340611042740691E-4)\n",
      "        If (feature 3 <= 0.09009233119833543)\n",
      "         Predict: 6.0476190476190474\n",
      "        Else (feature 3 > 0.09009233119833543)\n",
      "         Predict: 8.0\n",
      "       Else (feature 4 > 2.340611042740691E-4)\n",
      "        If (feature 0 <= 0.07440349467518888)\n",
      "         Predict: 5.542168674698795\n",
      "        Else (feature 0 > 0.07440349467518888)\n",
      "         Predict: 4.818181818181818\n",
      "      Else (feature 1 > 0.004693871681064406)\n",
      "       If (feature 3 <= 0.021887506814661284)\n",
      "        If (feature 5 <= 0.09589711795076178)\n",
      "         Predict: 4.2\n",
      "        Else (feature 5 > 0.09589711795076178)\n",
      "         Predict: 5.0\n",
      "       Else (feature 3 > 0.021887506814661284)\n",
      "        If (feature 4 <= 2.7019747937555543E-4)\n",
      "         Predict: 6.0\n",
      "        Else (feature 4 > 2.7019747937555543E-4)\n",
      "         Predict: 5.0\n",
      "  Tree 17 (weight 1.0):\n",
      "    If (feature 2 <= 0.0016708794335822592)\n",
      "     If (feature 5 <= 0.16397455150652646)\n",
      "      If (feature 7 <= 0.0048328167699824235)\n",
      "       If (feature 5 <= 0.15154787456745245)\n",
      "        If (feature 0 <= 0.035903544987445996)\n",
      "         Predict: 5.833333333333333\n",
      "        Else (feature 0 > 0.035903544987445996)\n",
      "         Predict: 5.0\n",
      "       Else (feature 5 > 0.15154787456745245)\n",
      "        Predict: 5.0\n",
      "      Else (feature 7 > 0.0048328167699824235)\n",
      "       If (feature 10 <= 0.062270142718462276)\n",
      "        If (feature 4 <= 4.226589115072614E-4)\n",
      "         Predict: 4.882352941176471\n",
      "        Else (feature 4 > 4.226589115072614E-4)\n",
      "         Predict: 4.0\n",
      "       Else (feature 10 > 0.062270142718462276)\n",
      "        If (feature 0 <= 0.05969960878250279)\n",
      "         Predict: 5.573770491803279\n",
      "        Else (feature 0 > 0.05969960878250279)\n",
      "         Predict: 4.870967741935484\n",
      "     Else (feature 5 > 0.16397455150652646)\n",
      "      If (feature 6 <= 0.9738383421893557)\n",
      "       If (feature 1 <= 9.57789460149795E-4)\n",
      "        If (feature 6 <= 0.9306582846654637)\n",
      "         Predict: 4.0\n",
      "        Else (feature 6 > 0.9306582846654637)\n",
      "         Predict: 6.454545454545454\n",
      "       Else (feature 1 > 9.57789460149795E-4)\n",
      "        If (feature 2 <= 0.0011932401299466567)\n",
      "         Predict: 5.280130293159609\n",
      "        Else (feature 2 > 0.0011932401299466567)\n",
      "         Predict: 5.643765903307888\n",
      "      Else (feature 6 > 0.9738383421893557)\n",
      "       If (feature 5 <= 0.19205498076366473)\n",
      "        If (feature 4 <= 3.359876639668481E-4)\n",
      "         Predict: 5.781818181818182\n",
      "        Else (feature 4 > 3.359876639668481E-4)\n",
      "         Predict: 5.115384615384615\n",
      "       Else (feature 5 > 0.19205498076366473)\n",
      "        If (feature 8 <= 0.021894635586064887)\n",
      "         Predict: 6.3478260869565215\n",
      "        Else (feature 8 > 0.021894635586064887)\n",
      "         Predict: 5.0\n",
      "    Else (feature 2 > 0.0016708794335822592)\n",
      "     If (feature 11 <= 0.006183802303308336)\n",
      "      If (feature 2 <= 0.005587119265081934)\n",
      "       If (feature 1 <= 0.0012625764093651968)\n",
      "        If (feature 6 <= 0.8831612584878723)\n",
      "         Predict: 7.666666666666667\n",
      "        Else (feature 6 > 0.8831612584878723)\n",
      "         Predict: 6.054878048780488\n",
      "       Else (feature 1 > 0.0012625764093651968)\n",
      "        If (feature 4 <= 1.792817736005926E-4)\n",
      "         Predict: 6.375\n",
      "        Else (feature 4 > 1.792817736005926E-4)\n",
      "         Predict: 5.402469135802469\n",
      "      Else (feature 2 > 0.005587119265081934)\n",
      "       If (feature 9 <= 0.0296902963771944)\n",
      "        If (feature 1 <= 0.017953078957857277)\n",
      "         Predict: 5.946127946127946\n",
      "        Else (feature 1 > 0.017953078957857277)\n",
      "         Predict: 5.34375\n",
      "       Else (feature 9 > 0.0296902963771944)\n",
      "        If (feature 2 <= 0.007057034042329232)\n",
      "         Predict: 5.0\n",
      "        Else (feature 2 > 0.007057034042329232)\n",
      "         Predict: 6.341463414634147\n",
      "     Else (feature 11 > 0.006183802303308336)\n",
      "      If (feature 4 <= 3.359876639668481E-4)\n",
      "       If (feature 5 <= 0.15154787456745245)\n",
      "        If (feature 3 <= 0.016405809860307215)\n",
      "         Predict: 5.285714285714286\n",
      "        Else (feature 3 > 0.016405809860307215)\n",
      "         Predict: 5.91044776119403\n",
      "       Else (feature 5 > 0.15154787456745245)\n",
      "        If (feature 1 <= 0.002222841512108024)\n",
      "         Predict: 6.291808873720137\n",
      "        Else (feature 1 > 0.002222841512108024)\n",
      "         Predict: 6.508038585209003\n",
      "      Else (feature 4 > 3.359876639668481E-4)\n",
      "       If (feature 5 <= 0.15154787456745245)\n",
      "        If (feature 4 <= 3.7682219101588894E-4)\n",
      "         Predict: 5.5423728813559325\n",
      "        Else (feature 4 > 3.7682219101588894E-4)\n",
      "         Predict: 5.2109375\n",
      "       Else (feature 5 > 0.15154787456745245)\n",
      "        If (feature 10 <= 0.3066871399185125)\n",
      "         Predict: 6.005841121495327\n",
      "        Else (feature 10 > 0.3066871399185125)\n",
      "         Predict: 4.3\n",
      "  Tree 18 (weight 1.0):\n",
      "    If (feature 1 <= 0.0040248356273273125)\n",
      "     If (feature 8 <= 0.021217664231794008)\n",
      "      If (feature 10 <= 0.062270142718462276)\n",
      "       If (feature 1 <= 0.0013279771359072288)\n",
      "        If (feature 3 <= 0.05411000498316249)\n",
      "         Predict: 5.638655462184874\n",
      "        Else (feature 3 > 0.05411000498316249)\n",
      "         Predict: 6.1550802139037435\n",
      "       Else (feature 1 > 0.0013279771359072288)\n",
      "        If (feature 5 <= 0.13821100422711902)\n",
      "         Predict: 4.985294117647059\n",
      "        Else (feature 5 > 0.13821100422711902)\n",
      "         Predict: 5.44331641285956\n",
      "      Else (feature 10 > 0.062270142718462276)\n",
      "       If (feature 0 <= 0.03439409498776809)\n",
      "        If (feature 6 <= 0.9534524030929017)\n",
      "         Predict: 6.909090909090909\n",
      "        Else (feature 6 > 0.9534524030929017)\n",
      "         Predict: 6.0\n",
      "       Else (feature 0 > 0.03439409498776809)\n",
      "        If (feature 4 <= 5.815532435602807E-4)\n",
      "         Predict: 5.927392739273928\n",
      "        Else (feature 4 > 5.815532435602807E-4)\n",
      "         Predict: 8.0\n",
      "     Else (feature 8 > 0.021217664231794008)\n",
      "      If (feature 6 <= 0.977845979520797)\n",
      "       If (feature 6 <= 0.9580096932937734)\n",
      "        If (feature 3 <= 0.07774194192453367)\n",
      "         Predict: 6.409551374819102\n",
      "        Else (feature 3 > 0.07774194192453367)\n",
      "         Predict: 5.977777777777778\n",
      "       Else (feature 6 > 0.9580096932937734)\n",
      "        If (feature 8 <= 0.02269308224783019)\n",
      "         Predict: 5.78494623655914\n",
      "        Else (feature 8 > 0.02269308224783019)\n",
      "         Predict: 6.158576051779935\n",
      "      Else (feature 6 > 0.977845979520797)\n",
      "       If (feature 4 <= 2.7019747937555543E-4)\n",
      "        If (feature 1 <= 0.0013940816312611034)\n",
      "         Predict: 6.75\n",
      "        Else (feature 1 > 0.0013940816312611034)\n",
      "         Predict: 5.979166666666667\n",
      "       Else (feature 4 > 2.7019747937555543E-4)\n",
      "        If (feature 10 <= 0.09999499973700882)\n",
      "         Predict: 5.3039647577092515\n",
      "        Else (feature 10 > 0.09999499973700882)\n",
      "         Predict: 5.897058823529412\n",
      "    Else (feature 1 > 0.0040248356273273125)\n",
      "     If (feature 9 <= 0.0296902963771944)\n",
      "      If (feature 1 <= 0.024213655492598546)\n",
      "       If (feature 3 <= 0.041735319638221205)\n",
      "        If (feature 9 <= 0.005098853039795101)\n",
      "         Predict: 5.069767441860465\n",
      "        Else (feature 9 > 0.005098853039795101)\n",
      "         Predict: 5.4930747922437675\n",
      "       Else (feature 3 > 0.041735319638221205)\n",
      "        If (feature 9 <= 0.014823500495652528)\n",
      "         Predict: 5.570342205323194\n",
      "        Else (feature 9 > 0.014823500495652528)\n",
      "         Predict: 5.8776223776223775\n",
      "      Else (feature 1 > 0.024213655492598546)\n",
      "       If (feature 0 <= 0.40084581065684066)\n",
      "        If (feature 9 <= 0.018398320861461065)\n",
      "         Predict: 4.92\n",
      "        Else (feature 9 > 0.018398320861461065)\n",
      "         Predict: 5.297297297297297\n",
      "       Else (feature 0 > 0.40084581065684066)\n",
      "        If (feature 9 <= 0.023573248735477247)\n",
      "         Predict: 4.25\n",
      "        Else (feature 9 > 0.023573248735477247)\n",
      "         Predict: 4.8125\n",
      "     Else (feature 9 > 0.0296902963771944)\n",
      "      If (feature 1 <= 0.017953078957857277)\n",
      "       If (feature 10 <= 0.38145703981376144)\n",
      "        If (feature 6 <= 0.8185011517589972)\n",
      "         Predict: 6.0\n",
      "        Else (feature 6 > 0.8185011517589972)\n",
      "         Predict: 6.5\n",
      "       Else (feature 10 > 0.38145703981376144)\n",
      "        If (feature 4 <= 0.0037086390224476025)\n",
      "         Predict: 6.689655172413793\n",
      "        Else (feature 4 > 0.0037086390224476025)\n",
      "         Predict: 6.0\n",
      "      Else (feature 1 > 0.017953078957857277)\n",
      "       If (feature 2 <= 9.273813947457043E-4)\n",
      "        If (feature 6 <= 0.6861271592832632)\n",
      "         Predict: 6.875\n",
      "        Else (feature 6 > 0.6861271592832632)\n",
      "         Predict: 5.5\n",
      "       Else (feature 2 > 9.273813947457043E-4)\n",
      "        If (feature 1 <= 0.024213655492598546)\n",
      "         Predict: 6.0\n",
      "        Else (feature 1 > 0.024213655492598546)\n",
      "         Predict: 5.413793103448276\n",
      "  Tree 19 (weight 1.0):\n",
      "    If (feature 5 <= 0.15154787456745245)\n",
      "     If (feature 1 <= 0.0013940816312611034)\n",
      "      If (feature 3 <= 0.07400995583304296)\n",
      "       If (feature 3 <= 0.010539704392218201)\n",
      "        If (feature 2 <= 0.0011932401299466567)\n",
      "         Predict: 4.0\n",
      "        Else (feature 2 > 0.0011932401299466567)\n",
      "         Predict: 5.7894736842105265\n",
      "       Else (feature 3 > 0.010539704392218201)\n",
      "        If (feature 0 <= 0.06259572377701793)\n",
      "         Predict: 6.0\n",
      "        Else (feature 0 > 0.06259572377701793)\n",
      "         Predict: 7.0\n",
      "      Else (feature 3 > 0.07400995583304296)\n",
      "       If (feature 9 <= 0.002879220967361629)\n",
      "        Predict: 6.0\n",
      "       Else (feature 9 > 0.002879220967361629)\n",
      "        Predict: 7.0\n",
      "     Else (feature 1 > 0.0013940816312611034)\n",
      "      If (feature 0 <= 0.06906765099127621)\n",
      "       If (feature 6 <= 0.9801500750717611)\n",
      "        If (feature 10 <= 0.13640540497111137)\n",
      "         Predict: 5.894736842105263\n",
      "        Else (feature 10 > 0.13640540497111137)\n",
      "         Predict: 7.75\n",
      "       Else (feature 6 > 0.9801500750717611)\n",
      "        If (feature 11 <= 0.005782812248719082)\n",
      "         Predict: 5.133333333333334\n",
      "        Else (feature 11 > 0.005782812248719082)\n",
      "         Predict: 5.493827160493828\n",
      "      Else (feature 0 > 0.06906765099127621)\n",
      "       If (feature 0 <= 0.1230518418018578)\n",
      "        If (feature 9 <= 0.002879220967361629)\n",
      "         Predict: 6.25\n",
      "        Else (feature 9 > 0.002879220967361629)\n",
      "         Predict: 4.983050847457627\n",
      "       Else (feature 0 > 0.1230518418018578)\n",
      "        If (feature 1 <= 0.0072449287014679726)\n",
      "         Predict: 5.647058823529412\n",
      "        Else (feature 1 > 0.0072449287014679726)\n",
      "         Predict: 5.230769230769231\n",
      "    Else (feature 5 > 0.15154787456745245)\n",
      "     If (feature 11 <= 0.006183802303308336)\n",
      "      If (feature 2 <= 0.01038735168085701)\n",
      "       If (feature 9 <= 0.002222085000154147)\n",
      "        If (feature 1 <= 0.00309988206516071)\n",
      "         Predict: 5.86784140969163\n",
      "        Else (feature 1 > 0.00309988206516071)\n",
      "         Predict: 3.6666666666666665\n",
      "       Else (feature 9 > 0.002222085000154147)\n",
      "        If (feature 8 <= 0.15005791001204444)\n",
      "         Predict: 5.547054840893703\n",
      "        Else (feature 8 > 0.15005791001204444)\n",
      "         Predict: 5.076923076923077\n",
      "      Else (feature 2 > 0.01038735168085701)\n",
      "       If (feature 8 <= 0.0363015013612097)\n",
      "        Predict: 4.0\n",
      "       Else (feature 8 > 0.0363015013612097)\n",
      "        If (feature 10 <= 0.24900326588581145)\n",
      "         Predict: 5.666666666666667\n",
      "        Else (feature 10 > 0.24900326588581145)\n",
      "         Predict: 6.048979591836734\n",
      "     Else (feature 11 > 0.006183802303308336)\n",
      "      If (feature 10 <= 0.07098352117672388)\n",
      "       If (feature 1 <= 0.0019047969717671269)\n",
      "        If (feature 8 <= 0.019637422883339483)\n",
      "         Predict: 6.2894736842105265\n",
      "        Else (feature 8 > 0.019637422883339483)\n",
      "         Predict: 5.850515463917525\n",
      "       Else (feature 1 > 0.0019047969717671269)\n",
      "        If (feature 7 <= 0.007099212961906776)\n",
      "         Predict: 5.164948453608248\n",
      "        Else (feature 7 > 0.007099212961906776)\n",
      "         Predict: 5.703703703703703\n",
      "      Else (feature 10 > 0.07098352117672388)\n",
      "       If (feature 0 <= 0.08762780555910205)\n",
      "        If (feature 4 <= 4.5712570706627864E-4)\n",
      "         Predict: 6.3341666666666665\n",
      "        Else (feature 4 > 4.5712570706627864E-4)\n",
      "         Predict: 5.7967914438502675\n",
      "       Else (feature 0 > 0.08762780555910205)\n",
      "        If (feature 0 <= 0.1018606716357913)\n",
      "         Predict: 5.873015873015873\n",
      "        Else (feature 0 > 0.1018606716357913)\n",
      "         Predict: 5.357142857142857\n",
      "\n"
     ]
    }
   ],
   "source": [
    "print(forest_regModel.toDebugString)"
   ]
  },
  {
   "cell_type": "code",
   "execution_count": 270,
   "metadata": {},
   "outputs": [
    {
     "name": "stdout",
     "output_type": "stream",
     "text": [
      "+-----+--------------------+------------------+\n",
      "|label|            features|        prediction|\n",
      "+-----+--------------------+------------------+\n",
      "|    3|[0.17139301481654...|  5.87573522854329|\n",
      "|    3|[0.19204691859334...| 5.573961877470248|\n",
      "|    3|[0.23007240776161...| 5.643094034704598|\n",
      "|    4|[0.06855000973539...|  5.54376955856807|\n",
      "|    4|[0.10919117310000...| 5.336567183974165|\n",
      "|    4|[0.17294433939616...| 5.601295221610741|\n",
      "|    4|[0.17939070456973...| 5.570312375716478|\n",
      "|    4|[0.18015969919215...|  5.87573522854329|\n",
      "|    4|[0.21575017067129...| 5.882569123955524|\n",
      "|    4|[0.22889809493949...| 5.606756612638398|\n",
      "|    4|[0.37968825800476...| 5.418331137587314|\n",
      "|    4|[0.38380547348192...| 5.859575702446252|\n",
      "|    4|[0.40082064094380...| 5.340488708043235|\n",
      "|    4|[0.42005797449029...| 5.168782279392363|\n",
      "|    4|[0.44196806195907...| 5.609951964410016|\n",
      "|    5|[0.04013119353917...| 5.862683710805095|\n",
      "|    5|[0.04641692699571...|  5.41776605502368|\n",
      "|    5|[0.05155454668014...|5.3081961471784265|\n",
      "|    5|[0.05383708810139...| 5.455299556324196|\n",
      "|    5|[0.05432515153727...| 5.316133946475992|\n",
      "+-----+--------------------+------------------+\n",
      "only showing top 20 rows\n",
      "\n"
     ]
    }
   ],
   "source": [
    "# predykcje\n",
    "forest_regModel.transform(wine_eval).show()"
   ]
  },
  {
   "cell_type": "markdown",
   "metadata": {},
   "source": [
    "#### Ewaluacja"
   ]
  },
  {
   "cell_type": "code",
   "execution_count": 275,
   "metadata": {},
   "outputs": [],
   "source": [
    "evaluator_reg = evaluation.RegressionEvaluator()"
   ]
  },
  {
   "cell_type": "code",
   "execution_count": 272,
   "metadata": {},
   "outputs": [
    {
     "data": {
      "text/plain": [
       "0.8018337270809242"
      ]
     },
     "execution_count": 272,
     "metadata": {},
     "output_type": "execute_result"
    }
   ],
   "source": [
    "# rmse - regresja\n",
    "evaluator_reg.evaluate(regModel.transform(wine_eval))"
   ]
  },
  {
   "cell_type": "code",
   "execution_count": 273,
   "metadata": {},
   "outputs": [
    {
     "data": {
      "text/plain": [
       "0.7989242424919465"
      ]
     },
     "execution_count": 273,
     "metadata": {},
     "output_type": "execute_result"
    }
   ],
   "source": [
    "# rmse - drzewo\n",
    "evaluator_reg.evaluate(tree_regModel.transform(wine_eval))"
   ]
  },
  {
   "cell_type": "code",
   "execution_count": 274,
   "metadata": {},
   "outputs": [
    {
     "data": {
      "text/plain": [
       "0.7691585204568716"
      ]
     },
     "execution_count": 274,
     "metadata": {},
     "output_type": "execute_result"
    }
   ],
   "source": [
    "# rmse - las\n",
    "evaluator_reg.evaluate(forest_regModel.transform(wine_eval))"
   ]
  },
  {
   "cell_type": "markdown",
   "metadata": {},
   "source": [
    "> **ZADANIE:**\n",
    "- oblicz `MSE` oraz `R^2` powyższych modeli"
   ]
  },
  {
   "cell_type": "code",
   "execution_count": 278,
   "metadata": {},
   "outputs": [],
   "source": [
    "eval_mse = evaluation.RegressionEvaluator(metricName='mse')"
   ]
  },
  {
   "cell_type": "code",
   "execution_count": 279,
   "metadata": {},
   "outputs": [
    {
     "data": {
      "text/plain": [
       "0.642937325884486"
      ]
     },
     "execution_count": 279,
     "metadata": {},
     "output_type": "execute_result"
    }
   ],
   "source": [
    "eval_mse.evaluate(regModel.transform(wine_eval))"
   ]
  },
  {
   "cell_type": "code",
   "execution_count": 282,
   "metadata": {},
   "outputs": [],
   "source": [
    "eval_r2 = evaluation.RegressionEvaluator(metricName='r2')"
   ]
  },
  {
   "cell_type": "code",
   "execution_count": 283,
   "metadata": {},
   "outputs": [
    {
     "data": {
      "text/plain": [
       "0.16737281038223728"
      ]
     },
     "execution_count": 283,
     "metadata": {},
     "output_type": "execute_result"
    }
   ],
   "source": [
    "eval_r2.evaluate(regModel.transform(wine_eval))"
   ]
  },
  {
   "cell_type": "code",
   "execution_count": 284,
   "metadata": {},
   "outputs": [
    {
     "data": {
      "text/plain": [
       "0.17340428747925596"
      ]
     },
     "execution_count": 284,
     "metadata": {},
     "output_type": "execute_result"
    }
   ],
   "source": [
    "eval_r2.evaluate(tree_regModel.transform(wine_eval))"
   ]
  },
  {
   "cell_type": "code",
   "execution_count": 286,
   "metadata": {},
   "outputs": [
    {
     "data": {
      "text/plain": [
       "0.23385025756696087"
      ]
     },
     "execution_count": 286,
     "metadata": {},
     "output_type": "execute_result"
    }
   ],
   "source": [
    "eval_r2.evaluate(forest_regModel.transform(wine_eval))"
   ]
  },
  {
   "cell_type": "markdown",
   "metadata": {},
   "source": [
    "> **ZADANIE:**\n",
    "- popraw `R^2` jednego modelu"
   ]
  },
  {
   "cell_type": "code",
   "execution_count": 288,
   "metadata": {},
   "outputs": [],
   "source": [
    "forestreg2 = regression.RandomForestRegressor(maxDepth=10,numTrees=50)\n",
    "forestModel = forestreg2.fit(wine_eval)"
   ]
  },
  {
   "cell_type": "code",
   "execution_count": 289,
   "metadata": {},
   "outputs": [
    {
     "data": {
      "text/plain": [
       "0.7020642261059933"
      ]
     },
     "execution_count": 289,
     "metadata": {},
     "output_type": "execute_result"
    }
   ],
   "source": [
    "eval_r2.evaluate(forestModel.transform(wine_eval))"
   ]
  },
  {
   "cell_type": "markdown",
   "metadata": {},
   "source": [
    "### Wybór najlepszych parametrów"
   ]
  },
  {
   "cell_type": "code",
   "execution_count": 290,
   "metadata": {},
   "outputs": [],
   "source": [
    "from pyspark.ml import tuning"
   ]
  },
  {
   "cell_type": "code",
   "execution_count": 291,
   "metadata": {},
   "outputs": [],
   "source": [
    "reg2 = regression.LinearRegression()"
   ]
  },
  {
   "cell_type": "code",
   "execution_count": 292,
   "metadata": {},
   "outputs": [],
   "source": [
    "grid = tuning.ParamGridBuilder() \\\n",
    ".addGrid(reg2.maxIter, [100, 500, 1000]) \\\n",
    ".addGrid(reg2.regParam, [0.0, 0.1, 0.2]).build()"
   ]
  },
  {
   "cell_type": "code",
   "execution_count": 293,
   "metadata": {},
   "outputs": [],
   "source": [
    "reg_eval = evaluation.RegressionEvaluator()"
   ]
  },
  {
   "cell_type": "code",
   "execution_count": 294,
   "metadata": {},
   "outputs": [],
   "source": [
    "cv = tuning.CrossValidator(estimator=reg2, estimatorParamMaps=grid, evaluator=reg_eval, parallelism=2)"
   ]
  },
  {
   "cell_type": "code",
   "execution_count": 295,
   "metadata": {},
   "outputs": [],
   "source": [
    "cvModel = cv.fit(wine_train)"
   ]
  },
  {
   "cell_type": "code",
   "execution_count": 323,
   "metadata": {},
   "outputs": [],
   "source": [
    "paramRef = cvModel.bestModel.getParam('regParam')"
   ]
  },
  {
   "cell_type": "code",
   "execution_count": 325,
   "metadata": {},
   "outputs": [
    {
     "data": {
      "text/plain": [
       "0.0"
      ]
     },
     "execution_count": 325,
     "metadata": {},
     "output_type": "execute_result"
    }
   ],
   "source": [
    "cvModel.bestModel.getOrDefault(paramRef)"
   ]
  },
  {
   "cell_type": "code",
   "execution_count": 296,
   "metadata": {},
   "outputs": [
    {
     "data": {
      "text/plain": [
       "[0.7848730693485754,\n",
       " 0.8170377287842591,\n",
       " 0.8242241130428464,\n",
       " 0.7848730693485754,\n",
       " 0.8170377287842591,\n",
       " 0.8242241130428464,\n",
       " 0.7848730693485754,\n",
       " 0.8170377287842591,\n",
       " 0.8242241130428464]"
      ]
     },
     "execution_count": 296,
     "metadata": {},
     "output_type": "execute_result"
    }
   ],
   "source": [
    "cvModel.avgMetrics"
   ]
  },
  {
   "cell_type": "code",
   "execution_count": 297,
   "metadata": {},
   "outputs": [
    {
     "data": {
      "text/plain": [
       "0.8018337270809242"
      ]
     },
     "execution_count": 297,
     "metadata": {},
     "output_type": "execute_result"
    }
   ],
   "source": [
    "reg_eval.evaluate(cvModel.transform(wine_eval))"
   ]
  },
  {
   "cell_type": "markdown",
   "metadata": {},
   "source": [
    "### Pipeline"
   ]
  },
  {
   "cell_type": "markdown",
   "metadata": {
    "collapsed": true
   },
   "source": [
    "- Transformer - algorytm przekształcający wejściowy DataFrame w inny DataFrame, np. model tworzący nowy DF zawierający predykcje (transform)\n",
    "- Estymator - algorytm który na podstawie DataFrameu tworzy transformer (fit)\n",
    "\n",
    "> Przykład:\n",
    "\n",
    ">**forest_reg = regression.RandomForestRegressor()**    <- *utworzenie estymatora*\n",
    "\n",
    ">**forest_regModel = forest_reg.fit(wine_train)**   <- *wywołanie metody `fit` estymatora w celu utworzenia transformera*\n",
    "\n",
    ">**forest_regModel.transform(wine_eval).show()**  <- *wywołanie metody `transform` transformera w celu wygenerowania nowego DF*\n",
    "\n",
    "- Pipeline - szeregowe połączenie transformerów i estymatorów w celu utworzenia przepływu (workflow)"
   ]
  },
  {
   "cell_type": "code",
   "execution_count": 312,
   "metadata": {},
   "outputs": [],
   "source": [
    "from pyspark.ml import Pipeline"
   ]
  },
  {
   "cell_type": "code",
   "execution_count": 313,
   "metadata": {},
   "outputs": [],
   "source": [
    "# przygotowanie estymatorów/transformerów\n",
    "cols = [x for x in wine_red.columns if x != \"quality\"]\n",
    "vectA = feature.VectorAssembler(inputCols = cols, outputCol = \"featuresRaw\") # transformer\n",
    "normL2 = feature.Normalizer(inputCol=\"featuresRaw\", outputCol=\"features\") # estymator\n",
    "forestReg = regression.RandomForestRegressor(labelCol=\"quality\") # estymator"
   ]
  },
  {
   "cell_type": "code",
   "execution_count": 316,
   "metadata": {},
   "outputs": [
    {
     "data": {
      "text/plain": [
       "['fixed acidity',\n",
       " 'volatile acidity',\n",
       " 'citric acid',\n",
       " 'residual sugar',\n",
       " 'chlorides',\n",
       " 'free sulfur dioxide',\n",
       " 'total sulfur dioxide',\n",
       " 'density',\n",
       " 'pH',\n",
       " 'sulphates',\n",
       " 'alcohol',\n",
       " 'type']"
      ]
     },
     "execution_count": 316,
     "metadata": {},
     "output_type": "execute_result"
    }
   ],
   "source": [
    "cols"
   ]
  },
  {
   "cell_type": "code",
   "execution_count": 314,
   "metadata": {},
   "outputs": [],
   "source": [
    "# utworzenie estymatora\n",
    "pipeline = Pipeline(stages=[vectA, normL2, forestReg])"
   ]
  },
  {
   "cell_type": "code",
   "execution_count": 315,
   "metadata": {},
   "outputs": [],
   "source": [
    "# utworzenie transformera\n",
    "pipelineModel = pipeline.fit(wine_red)"
   ]
  },
  {
   "cell_type": "code",
   "execution_count": 317,
   "metadata": {},
   "outputs": [
    {
     "name": "stdout",
     "output_type": "stream",
     "text": [
      "+-------+--------------------+--------------------+------------------+\n",
      "|quality|         featuresRaw|            features|        prediction|\n",
      "+-------+--------------------+--------------------+------------------+\n",
      "|      6|[7.0,0.27,0.36,20...|[0.03944595512349...| 5.431161966795079|\n",
      "|      6|[6.3,0.3,0.34,1.6...|[0.04726589062278...| 5.325026738315898|\n",
      "|      6|[8.1,0.28,0.4,6.9...|[0.07890794092680...| 5.645205586036605|\n",
      "|      6|[7.2,0.23,0.32,8....|[0.03741101012377...| 5.439273599554599|\n",
      "|      6|[7.2,0.23,0.32,8....|[0.03741101012377...| 5.439273599554599|\n",
      "|      6|[8.1,0.28,0.4,6.9...|[0.07890794092680...| 5.645205586036605|\n",
      "|      6|[6.2,0.32,0.16,7....|[0.04429921726352...| 5.439273599554599|\n",
      "|      6|[7.0,0.27,0.36,20...|[0.03944595512349...| 5.431161966795079|\n",
      "|      6|[6.3,0.3,0.34,1.6...|[0.04726589062278...| 5.325026738315898|\n",
      "|      6|[8.1,0.22,0.43,1....|[0.06100986750292...|5.4239064296019714|\n",
      "|      5|[8.1,0.27,0.41,1....|[0.12333482598102...| 5.775792588615204|\n",
      "|      5|[8.6,0.23,0.4,4.2...|[0.07733001867889...| 5.461239330389018|\n",
      "|      5|[7.9,0.18,0.37,1....|[0.10136410324580...| 6.006116222047025|\n",
      "|      7|[6.6,0.16,0.4,1.5...|[0.04354985123414...| 5.428983765184295|\n",
      "|      5|[8.3,0.42,0.62,19...|[0.04653645436415...| 5.478731411239523|\n",
      "|      7|[6.6,0.17,0.38,1....|[0.05676846052300...| 5.188957761139371|\n",
      "|      6|[6.3,0.48,0.04,1....|[0.06049055815234...| 5.316097820933863|\n",
      "|      8|[6.2,0.66,0.48,1....|[0.07583789286884...|5.8048433519688825|\n",
      "|      6|[7.4,0.34,0.42,1....|[0.04292040730588...| 5.407526738315898|\n",
      "|      5|[6.5,0.31,0.14,7....|[0.04709838632748...| 5.439273599554599|\n",
      "+-------+--------------------+--------------------+------------------+\n",
      "only showing top 20 rows\n",
      "\n"
     ]
    }
   ],
   "source": [
    "# transformacja (predykcja)\n",
    "pipelineModel.transform(wine_white).drop(*cols).show()"
   ]
  },
  {
   "cell_type": "markdown",
   "metadata": {},
   "source": [
    "### Pipeline + wybór najlepszych parametrów"
   ]
  },
  {
   "cell_type": "code",
   "execution_count": 326,
   "metadata": {},
   "outputs": [],
   "source": [
    "cols = [x for x in wine_red.columns if x != \"quality\"]\n",
    "vectA = feature.VectorAssembler()#inputCols = cols, outputCol = \"featuresRaw\")\n",
    "norm = feature.Normalizer()#inputCol=\"featuresRaw\", outputCol=\"features\")\n",
    "forestReg = regression.RandomForestRegressor()\n",
    "pipe = Pipeline(stages=[vectA, norm, forestReg])"
   ]
  },
  {
   "cell_type": "code",
   "execution_count": 327,
   "metadata": {},
   "outputs": [],
   "source": [
    "# baseOn - sposob podawania stalego parametru do wszystkich kombinacji\n",
    "paramGrid = tuning.ParamGridBuilder() \\\n",
    ".baseOn([vectA.inputCols, cols]) \\#podanie do grida stałych parametrów, ale można też przy inicjalizacji metod\n",
    ".baseOn([vectA.outputCol, 'featuresRaw']) \\\n",
    ".baseOn([norm.inputCol, 'featuresRaw']) \\\n",
    ".baseOn([norm.outputCol, 'features']) \\\n",
    ".addGrid(norm.p, [1.0, 2.0]) \\\n",
    ".baseOn([forestReg.labelCol, 'quality']) \\\n",
    ".addGrid(forestReg.maxDepth, [5, 6, 7, 8]) \\\n",
    ".build()"
   ]
  },
  {
   "cell_type": "code",
   "execution_count": 328,
   "metadata": {},
   "outputs": [],
   "source": [
    "regr_eval = evaluation.RegressionEvaluator(labelCol= \"quality\")"
   ]
  },
  {
   "cell_type": "code",
   "execution_count": 329,
   "metadata": {},
   "outputs": [],
   "source": [
    "# utworzenie estymatora\n",
    "crossval = tuning.CrossValidator(estimator=pipe,\n",
    "                                 estimatorParamMaps=paramGrid,\n",
    "                                 evaluator=regr_eval,\n",
    "                                 numFolds=4, \n",
    "                                 parallelism=2)"
   ]
  },
  {
   "cell_type": "code",
   "execution_count": 330,
   "metadata": {},
   "outputs": [],
   "source": [
    "# utworzenie transformera\n",
    "crossvalModel = crossval.fit(wine_red)"
   ]
  },
  {
   "cell_type": "code",
   "execution_count": 331,
   "metadata": {},
   "outputs": [
    {
     "name": "stdout",
     "output_type": "stream",
     "text": [
      "+-------+--------------------+--------------------+-----------------+\n",
      "|quality|         featuresRaw|            features|       prediction|\n",
      "+-------+--------------------+--------------------+-----------------+\n",
      "|      6|[7.0,0.27,0.36,20...|[0.02717117061166...|5.492129629629629|\n",
      "|      6|[6.3,0.3,0.34,1.6...|[0.03708652934839...|6.156203703703704|\n",
      "|      6|[8.1,0.28,0.4,6.9...|[0.05109600940166...|5.794769962431433|\n",
      "|      6|[7.2,0.23,0.32,8....|[0.02719098951032...|5.517750257997935|\n",
      "|      6|[7.2,0.23,0.32,8....|[0.02719098951032...|5.517750257997935|\n",
      "|      6|[8.1,0.28,0.4,6.9...|[0.05109600940166...|5.794769962431433|\n",
      "|      6|[6.2,0.32,0.16,7....|[0.03179978037635...|5.374074074074074|\n",
      "|      6|[7.0,0.27,0.36,20...|[0.02717117061166...|5.492129629629629|\n",
      "|      6|[6.3,0.3,0.34,1.6...|[0.03708652934839...|6.156203703703704|\n",
      "|      6|[8.1,0.22,0.43,1....|[0.04403183773669...|5.719166666666666|\n",
      "|      5|[8.1,0.27,0.41,1....|[0.07956480995797...|5.821956361162924|\n",
      "|      5|[8.6,0.23,0.4,4.2...|[0.05554489868545...|5.399883930583728|\n",
      "|      5|[7.9,0.18,0.37,1....|[0.06735327217542...|6.226122249032086|\n",
      "|      7|[6.6,0.16,0.4,1.5...|[0.03025369095029...|5.594288719536396|\n",
      "|      5|[8.3,0.42,0.62,19...|[0.03229820818880...|5.524074074074074|\n",
      "|      7|[6.6,0.17,0.38,1....|[0.03978938154037...|5.410118135376757|\n",
      "|      6|[6.3,0.48,0.04,1....|[0.04140411201981...|5.272512899410147|\n",
      "|      8|[6.2,0.66,0.48,1....|[0.04730000869709...|6.132899533008944|\n",
      "|      6|[7.4,0.34,0.42,1....|[0.03454155652655...|6.307371794871795|\n",
      "|      5|[6.5,0.31,0.14,7....|[0.03304365066252...|5.446296296296295|\n",
      "+-------+--------------------+--------------------+-----------------+\n",
      "only showing top 20 rows\n",
      "\n"
     ]
    }
   ],
   "source": [
    "# transformacja (predykcja)\n",
    "crossvalModel.transform(wine_white).drop(*cols).show()"
   ]
  },
  {
   "cell_type": "code",
   "execution_count": 332,
   "metadata": {},
   "outputs": [
    {
     "data": {
      "text/plain": [
       "0.9329579422389"
      ]
     },
     "execution_count": 332,
     "metadata": {},
     "output_type": "execute_result"
    }
   ],
   "source": [
    "regr_eval.evaluate(crossvalModel.transform(wine_white))"
   ]
  },
  {
   "cell_type": "markdown",
   "metadata": {},
   "source": [
    " "
   ]
  },
  {
   "cell_type": "markdown",
   "metadata": {},
   "source": [
    " "
   ]
  },
  {
   "cell_type": "markdown",
   "metadata": {},
   "source": [
    " "
   ]
  },
  {
   "cell_type": "markdown",
   "metadata": {
    "collapsed": true
   },
   "source": [
    "> **ZADANIE:**\n",
    "- stwórz model jak najlepiej przewidujący liczbę pierścieni (wiek) mięczaków\n",
    "- do problemu można podejść jak do regresji lub jak do klasyfikacji\n",
    "- wszystkie chwyty dozwolone"
   ]
  },
  {
   "cell_type": "markdown",
   "metadata": {},
   "source": [
    "http://archive.ics.uci.edu/ml/datasets/Abalone"
   ]
  },
  {
   "cell_type": "code",
   "execution_count": 337,
   "metadata": {},
   "outputs": [],
   "source": [
    "colNames = [\"Sex\", \"Length\", \"Diameter\", \"Height\", \"Whole_weight\", \"Shucked_weight\", \n",
    "            \"Viscera_weight\", \"Shell_weight\", \"Rings\"]"
   ]
  },
  {
   "cell_type": "code",
   "execution_count": 338,
   "metadata": {},
   "outputs": [],
   "source": [
    "abalone = spark.read.csv(\"./abalone.data\", header=False, inferSchema=True)"
   ]
  },
  {
   "cell_type": "code",
   "execution_count": 339,
   "metadata": {},
   "outputs": [],
   "source": [
    "abalone = abalone.select(*[f.col(old).alias(new) for old, new in zip(abalone.columns, colNames)])"
   ]
  },
  {
   "cell_type": "code",
   "execution_count": 340,
   "metadata": {},
   "outputs": [
    {
     "name": "stdout",
     "output_type": "stream",
     "text": [
      "+---+------+--------+------+------------+--------------+--------------+------------+-----+\n",
      "|Sex|Length|Diameter|Height|Whole_weight|Shucked_weight|Viscera_weight|Shell_weight|Rings|\n",
      "+---+------+--------+------+------------+--------------+--------------+------------+-----+\n",
      "|  M| 0.455|   0.365| 0.095|       0.514|        0.2245|         0.101|        0.15|   15|\n",
      "|  M|  0.35|   0.265|  0.09|      0.2255|        0.0995|        0.0485|        0.07|    7|\n",
      "|  F|  0.53|    0.42| 0.135|       0.677|        0.2565|        0.1415|        0.21|    9|\n",
      "|  M|  0.44|   0.365| 0.125|       0.516|        0.2155|         0.114|       0.155|   10|\n",
      "|  I|  0.33|   0.255|  0.08|       0.205|        0.0895|        0.0395|       0.055|    7|\n",
      "|  I| 0.425|     0.3| 0.095|      0.3515|         0.141|        0.0775|        0.12|    8|\n",
      "|  F|  0.53|   0.415|  0.15|      0.7775|         0.237|        0.1415|        0.33|   20|\n",
      "|  F| 0.545|   0.425| 0.125|       0.768|         0.294|        0.1495|        0.26|   16|\n",
      "|  M| 0.475|    0.37| 0.125|      0.5095|        0.2165|        0.1125|       0.165|    9|\n",
      "|  F|  0.55|    0.44|  0.15|      0.8945|        0.3145|         0.151|        0.32|   19|\n",
      "|  F| 0.525|    0.38|  0.14|      0.6065|         0.194|        0.1475|        0.21|   14|\n",
      "|  M|  0.43|    0.35|  0.11|       0.406|        0.1675|         0.081|       0.135|   10|\n",
      "|  M|  0.49|    0.38| 0.135|      0.5415|        0.2175|         0.095|        0.19|   11|\n",
      "|  F| 0.535|   0.405| 0.145|      0.6845|        0.2725|         0.171|       0.205|   10|\n",
      "|  F|  0.47|   0.355|   0.1|      0.4755|        0.1675|        0.0805|       0.185|   10|\n",
      "|  M|   0.5|     0.4|  0.13|      0.6645|         0.258|         0.133|        0.24|   12|\n",
      "|  I| 0.355|    0.28| 0.085|      0.2905|         0.095|        0.0395|       0.115|    7|\n",
      "|  F|  0.44|    0.34|   0.1|       0.451|         0.188|         0.087|        0.13|   10|\n",
      "|  M| 0.365|   0.295|  0.08|      0.2555|         0.097|         0.043|         0.1|    7|\n",
      "|  M|  0.45|    0.32|   0.1|       0.381|        0.1705|         0.075|       0.115|    9|\n",
      "+---+------+--------+------+------------+--------------+--------------+------------+-----+\n",
      "only showing top 20 rows\n",
      "\n"
     ]
    }
   ],
   "source": [
    "abalone.show()"
   ]
  },
  {
   "cell_type": "code",
   "execution_count": 453,
   "metadata": {},
   "outputs": [],
   "source": [
    "abalone = abalone.dropna()"
   ]
  },
  {
   "cell_type": "code",
   "execution_count": 454,
   "metadata": {},
   "outputs": [],
   "source": [
    "# code string values\n",
    "indexer = feature.StringIndexer(inputCol='Sex', outputCol='Sexidx')\n",
    "idx_model = indexer.fit(abalone)\n",
    "abalone_proc = idx_model.transform(abalone)"
   ]
  },
  {
   "cell_type": "code",
   "execution_count": 455,
   "metadata": {},
   "outputs": [],
   "source": [
    "# set label column\n",
    "abalone_proc = abalone_proc.withColumnRenamed('Rings','label')"
   ]
  },
  {
   "cell_type": "code",
   "execution_count": 456,
   "metadata": {},
   "outputs": [
    {
     "name": "stdout",
     "output_type": "stream",
     "text": [
      "+---+------+--------+------+------------+--------------+--------------+------------+-----+------+\n",
      "|Sex|Length|Diameter|Height|Whole_weight|Shucked_weight|Viscera_weight|Shell_weight|label|Sexidx|\n",
      "+---+------+--------+------+------------+--------------+--------------+------------+-----+------+\n",
      "|  M| 0.455|   0.365| 0.095|       0.514|        0.2245|         0.101|        0.15|   15|   0.0|\n",
      "|  M|  0.35|   0.265|  0.09|      0.2255|        0.0995|        0.0485|        0.07|    7|   0.0|\n",
      "|  F|  0.53|    0.42| 0.135|       0.677|        0.2565|        0.1415|        0.21|    9|   2.0|\n",
      "|  M|  0.44|   0.365| 0.125|       0.516|        0.2155|         0.114|       0.155|   10|   0.0|\n",
      "|  I|  0.33|   0.255|  0.08|       0.205|        0.0895|        0.0395|       0.055|    7|   1.0|\n",
      "|  I| 0.425|     0.3| 0.095|      0.3515|         0.141|        0.0775|        0.12|    8|   1.0|\n",
      "|  F|  0.53|   0.415|  0.15|      0.7775|         0.237|        0.1415|        0.33|   20|   2.0|\n",
      "|  F| 0.545|   0.425| 0.125|       0.768|         0.294|        0.1495|        0.26|   16|   2.0|\n",
      "|  M| 0.475|    0.37| 0.125|      0.5095|        0.2165|        0.1125|       0.165|    9|   0.0|\n",
      "|  F|  0.55|    0.44|  0.15|      0.8945|        0.3145|         0.151|        0.32|   19|   2.0|\n",
      "|  F| 0.525|    0.38|  0.14|      0.6065|         0.194|        0.1475|        0.21|   14|   2.0|\n",
      "|  M|  0.43|    0.35|  0.11|       0.406|        0.1675|         0.081|       0.135|   10|   0.0|\n",
      "|  M|  0.49|    0.38| 0.135|      0.5415|        0.2175|         0.095|        0.19|   11|   0.0|\n",
      "|  F| 0.535|   0.405| 0.145|      0.6845|        0.2725|         0.171|       0.205|   10|   2.0|\n",
      "|  F|  0.47|   0.355|   0.1|      0.4755|        0.1675|        0.0805|       0.185|   10|   2.0|\n",
      "|  M|   0.5|     0.4|  0.13|      0.6645|         0.258|         0.133|        0.24|   12|   0.0|\n",
      "|  I| 0.355|    0.28| 0.085|      0.2905|         0.095|        0.0395|       0.115|    7|   1.0|\n",
      "|  F|  0.44|    0.34|   0.1|       0.451|         0.188|         0.087|        0.13|   10|   2.0|\n",
      "|  M| 0.365|   0.295|  0.08|      0.2555|         0.097|         0.043|         0.1|    7|   0.0|\n",
      "|  M|  0.45|    0.32|   0.1|       0.381|        0.1705|         0.075|       0.115|    9|   0.0|\n",
      "+---+------+--------+------+------------+--------------+--------------+------------+-----+------+\n",
      "only showing top 20 rows\n",
      "\n"
     ]
    }
   ],
   "source": [
    "abalone_proc.show()"
   ]
  },
  {
   "cell_type": "code",
   "execution_count": 457,
   "metadata": {},
   "outputs": [],
   "source": [
    "# one hot encoding for categorical column\n",
    "one_hot = feature.OneHotEncoderEstimator(inputCols=['Sexidx'],outputCols=['sex_vect'])"
   ]
  },
  {
   "cell_type": "code",
   "execution_count": 458,
   "metadata": {},
   "outputs": [],
   "source": [
    "abalone_proc = one_hot.fit(abalone_proc).transform(abalone_proc)"
   ]
  },
  {
   "cell_type": "code",
   "execution_count": 459,
   "metadata": {},
   "outputs": [
    {
     "name": "stdout",
     "output_type": "stream",
     "text": [
      "+---+------+--------+------+------------+--------------+--------------+------------+-----+------+-------------+\n",
      "|Sex|Length|Diameter|Height|Whole_weight|Shucked_weight|Viscera_weight|Shell_weight|label|Sexidx|     sex_vect|\n",
      "+---+------+--------+------+------------+--------------+--------------+------------+-----+------+-------------+\n",
      "|  M| 0.455|   0.365| 0.095|       0.514|        0.2245|         0.101|        0.15|   15|   0.0|(2,[0],[1.0])|\n",
      "|  M|  0.35|   0.265|  0.09|      0.2255|        0.0995|        0.0485|        0.07|    7|   0.0|(2,[0],[1.0])|\n",
      "|  F|  0.53|    0.42| 0.135|       0.677|        0.2565|        0.1415|        0.21|    9|   2.0|    (2,[],[])|\n",
      "|  M|  0.44|   0.365| 0.125|       0.516|        0.2155|         0.114|       0.155|   10|   0.0|(2,[0],[1.0])|\n",
      "|  I|  0.33|   0.255|  0.08|       0.205|        0.0895|        0.0395|       0.055|    7|   1.0|(2,[1],[1.0])|\n",
      "|  I| 0.425|     0.3| 0.095|      0.3515|         0.141|        0.0775|        0.12|    8|   1.0|(2,[1],[1.0])|\n",
      "|  F|  0.53|   0.415|  0.15|      0.7775|         0.237|        0.1415|        0.33|   20|   2.0|    (2,[],[])|\n",
      "|  F| 0.545|   0.425| 0.125|       0.768|         0.294|        0.1495|        0.26|   16|   2.0|    (2,[],[])|\n",
      "|  M| 0.475|    0.37| 0.125|      0.5095|        0.2165|        0.1125|       0.165|    9|   0.0|(2,[0],[1.0])|\n",
      "|  F|  0.55|    0.44|  0.15|      0.8945|        0.3145|         0.151|        0.32|   19|   2.0|    (2,[],[])|\n",
      "|  F| 0.525|    0.38|  0.14|      0.6065|         0.194|        0.1475|        0.21|   14|   2.0|    (2,[],[])|\n",
      "|  M|  0.43|    0.35|  0.11|       0.406|        0.1675|         0.081|       0.135|   10|   0.0|(2,[0],[1.0])|\n",
      "|  M|  0.49|    0.38| 0.135|      0.5415|        0.2175|         0.095|        0.19|   11|   0.0|(2,[0],[1.0])|\n",
      "|  F| 0.535|   0.405| 0.145|      0.6845|        0.2725|         0.171|       0.205|   10|   2.0|    (2,[],[])|\n",
      "|  F|  0.47|   0.355|   0.1|      0.4755|        0.1675|        0.0805|       0.185|   10|   2.0|    (2,[],[])|\n",
      "|  M|   0.5|     0.4|  0.13|      0.6645|         0.258|         0.133|        0.24|   12|   0.0|(2,[0],[1.0])|\n",
      "|  I| 0.355|    0.28| 0.085|      0.2905|         0.095|        0.0395|       0.115|    7|   1.0|(2,[1],[1.0])|\n",
      "|  F|  0.44|    0.34|   0.1|       0.451|         0.188|         0.087|        0.13|   10|   2.0|    (2,[],[])|\n",
      "|  M| 0.365|   0.295|  0.08|      0.2555|         0.097|         0.043|         0.1|    7|   0.0|(2,[0],[1.0])|\n",
      "|  M|  0.45|    0.32|   0.1|       0.381|        0.1705|         0.075|       0.115|    9|   0.0|(2,[0],[1.0])|\n",
      "+---+------+--------+------+------------+--------------+--------------+------------+-----+------+-------------+\n",
      "only showing top 20 rows\n",
      "\n"
     ]
    }
   ],
   "source": [
    "abalone_proc.show()"
   ]
  },
  {
   "cell_type": "code",
   "execution_count": 460,
   "metadata": {},
   "outputs": [
    {
     "name": "stdout",
     "output_type": "stream",
     "text": [
      "root\n",
      " |-- Sex: string (nullable = true)\n",
      " |-- Length: double (nullable = true)\n",
      " |-- Diameter: double (nullable = true)\n",
      " |-- Height: double (nullable = true)\n",
      " |-- Whole_weight: double (nullable = true)\n",
      " |-- Shucked_weight: double (nullable = true)\n",
      " |-- Viscera_weight: double (nullable = true)\n",
      " |-- Shell_weight: double (nullable = true)\n",
      " |-- Rings: integer (nullable = true)\n",
      "\n"
     ]
    }
   ],
   "source": [
    "abalone.printSchema()"
   ]
  },
  {
   "cell_type": "code",
   "execution_count": 461,
   "metadata": {},
   "outputs": [
    {
     "data": {
      "text/plain": [
       "[('Sex', 'string'),\n",
       " ('Length', 'double'),\n",
       " ('Diameter', 'double'),\n",
       " ('Height', 'double'),\n",
       " ('Whole_weight', 'double'),\n",
       " ('Shucked_weight', 'double'),\n",
       " ('Viscera_weight', 'double'),\n",
       " ('Shell_weight', 'double'),\n",
       " ('Rings', 'int')]"
      ]
     },
     "execution_count": 461,
     "metadata": {},
     "output_type": "execute_result"
    }
   ],
   "source": [
    "abalone.dtypes"
   ]
  },
  {
   "cell_type": "code",
   "execution_count": 462,
   "metadata": {},
   "outputs": [],
   "source": [
    "num_cols = [c for c,t in abalone.dtypes if t != 'string' and c != 'Rings']"
   ]
  },
  {
   "cell_type": "code",
   "execution_count": 463,
   "metadata": {},
   "outputs": [
    {
     "data": {
      "text/plain": [
       "['Length',\n",
       " 'Diameter',\n",
       " 'Height',\n",
       " 'Whole_weight',\n",
       " 'Shucked_weight',\n",
       " 'Viscera_weight',\n",
       " 'Shell_weight']"
      ]
     },
     "execution_count": 463,
     "metadata": {},
     "output_type": "execute_result"
    }
   ],
   "source": [
    "num_cols"
   ]
  },
  {
   "cell_type": "code",
   "execution_count": 464,
   "metadata": {},
   "outputs": [
    {
     "name": "stdout",
     "output_type": "stream",
     "text": [
      "root\n",
      " |-- Sex: string (nullable = true)\n",
      " |-- Length: double (nullable = true)\n",
      " |-- Diameter: double (nullable = true)\n",
      " |-- Height: double (nullable = true)\n",
      " |-- Whole_weight: double (nullable = true)\n",
      " |-- Shucked_weight: double (nullable = true)\n",
      " |-- Viscera_weight: double (nullable = true)\n",
      " |-- Shell_weight: double (nullable = true)\n",
      " |-- label: integer (nullable = true)\n",
      " |-- Sexidx: double (nullable = false)\n",
      " |-- sex_vect: vector (nullable = true)\n",
      " |-- featuresRaw: vector (nullable = true)\n",
      "\n"
     ]
    }
   ],
   "source": [
    "#create vectors with all variables\n",
    "vectAssembler = feature.VectorAssembler(inputCols=num_cols, outputCol = \"featuresRaw\")\n",
    "abalone_proc = vectAssembler.transform(abalone_proc)\n",
    "abalone_proc.printSchema()"
   ]
  },
  {
   "cell_type": "code",
   "execution_count": 466,
   "metadata": {},
   "outputs": [],
   "source": [
    "scaler = feature.StandardScaler(inputCol='featuresRaw',outputCol='featuresRaw2')\n",
    "scalerModel = scaler.fit(abalone_proc)"
   ]
  },
  {
   "cell_type": "code",
   "execution_count": 467,
   "metadata": {},
   "outputs": [],
   "source": [
    "abalone_proc = scalerModel.transform(abalone_proc)"
   ]
  },
  {
   "cell_type": "code",
   "execution_count": 468,
   "metadata": {},
   "outputs": [],
   "source": [
    "vectAssembler2 = feature.VectorAssembler(inputCols=['featuresRaw2','sex_vect'],outputCol='features')\n",
    "abalone_proc = vectAssembler2.transform(abalone_proc)"
   ]
  },
  {
   "cell_type": "code",
   "execution_count": 469,
   "metadata": {},
   "outputs": [
    {
     "name": "stdout",
     "output_type": "stream",
     "text": [
      "root\n",
      " |-- Sex: string (nullable = true)\n",
      " |-- Length: double (nullable = true)\n",
      " |-- Diameter: double (nullable = true)\n",
      " |-- Height: double (nullable = true)\n",
      " |-- Whole_weight: double (nullable = true)\n",
      " |-- Shucked_weight: double (nullable = true)\n",
      " |-- Viscera_weight: double (nullable = true)\n",
      " |-- Shell_weight: double (nullable = true)\n",
      " |-- label: integer (nullable = true)\n",
      " |-- Sexidx: double (nullable = false)\n",
      " |-- sex_vect: vector (nullable = true)\n",
      " |-- featuresRaw: vector (nullable = true)\n",
      " |-- featuresRaw2: vector (nullable = true)\n",
      " |-- features: vector (nullable = true)\n",
      "\n"
     ]
    }
   ],
   "source": [
    "abalone_proc.printSchema()"
   ]
  },
  {
   "cell_type": "code",
   "execution_count": 470,
   "metadata": {},
   "outputs": [
    {
     "data": {
      "text/plain": [
       "DataFrame[label: int, features: vector]"
      ]
     },
     "execution_count": 470,
     "metadata": {},
     "output_type": "execute_result"
    }
   ],
   "source": [
    "abalone_proc = abalone_proc.select(\"label\", \"features\")\n",
    "abalone_proc.cache()"
   ]
  },
  {
   "cell_type": "code",
   "execution_count": 471,
   "metadata": {},
   "outputs": [
    {
     "data": {
      "text/plain": [
       "DataFrame[label: int, features: vector]"
      ]
     },
     "execution_count": 471,
     "metadata": {},
     "output_type": "execute_result"
    }
   ],
   "source": [
    "abalone_train, abalone_eval = abalone_proc.randomSplit([0.7, 0.3], 42)\n",
    "abalone_train.cache()\n",
    "abalone_eval.cache()"
   ]
  },
  {
   "cell_type": "code",
   "execution_count": 472,
   "metadata": {},
   "outputs": [],
   "source": [
    "reg = regression.LinearRegression(maxIter=500)"
   ]
  },
  {
   "cell_type": "code",
   "execution_count": 473,
   "metadata": {},
   "outputs": [],
   "source": [
    "regModel = reg.fit(abalone_train)"
   ]
  },
  {
   "cell_type": "code",
   "execution_count": 474,
   "metadata": {},
   "outputs": [
    {
     "data": {
      "text/plain": [
       "DataFrame[label: int, features: vector, prediction: double]"
      ]
     },
     "execution_count": 474,
     "metadata": {},
     "output_type": "execute_result"
    }
   ],
   "source": [
    "regModel.transform(abalone_train)"
   ]
  },
  {
   "cell_type": "code",
   "execution_count": 475,
   "metadata": {},
   "outputs": [],
   "source": [
    "trainSummary = regModel.summary"
   ]
  },
  {
   "cell_type": "code",
   "execution_count": 476,
   "metadata": {},
   "outputs": [
    {
     "data": {
      "text/plain": [
       "0.5402893599826477"
      ]
     },
     "execution_count": 476,
     "metadata": {},
     "output_type": "execute_result"
    }
   ],
   "source": [
    "trainSummary.r2"
   ]
  },
  {
   "cell_type": "code",
   "execution_count": 477,
   "metadata": {},
   "outputs": [
    {
     "data": {
      "text/plain": [
       "4.727508285144403"
      ]
     },
     "execution_count": 477,
     "metadata": {},
     "output_type": "execute_result"
    }
   ],
   "source": [
    "trainSummary.meanSquaredError"
   ]
  },
  {
   "cell_type": "code",
   "execution_count": 478,
   "metadata": {},
   "outputs": [],
   "source": [
    "regforest = regression.RandomForestRegressor(maxDepth=10,numTrees=30)\n",
    "forestModel = regforest.fit(abalone_train)"
   ]
  },
  {
   "cell_type": "code",
   "execution_count": 480,
   "metadata": {},
   "outputs": [
    {
     "name": "stdout",
     "output_type": "stream",
     "text": [
      "+-----+--------------------+-----------------+\n",
      "|label|            features|       prediction|\n",
      "+-----+--------------------+-----------------+\n",
      "|    1|[0.62451645478688...|4.363302147053985|\n",
      "|    3|[1.16576404893552...|4.363302147053985|\n",
      "|    3|[1.29066733989289...|4.552328544469287|\n",
      "|    3|[1.33230177021202...|4.363302147053985|\n",
      "|    3|[1.37393620053115...|4.363302147053985|\n",
      "|    3|[1.37393620053115...|4.363302147053985|\n",
      "|    3|[1.49883949148852...|4.552328544469287|\n",
      "|    3|[1.49883949148852...|4.363302147053985|\n",
      "|    3|[1.58210835212677...|4.363302147053985|\n",
      "|    3|[1.62374278244590...|4.363302147053985|\n",
      "|    3|[1.74864607340328...|4.552328544469287|\n",
      "|    3|[1.79028050372240...|4.363302147053985|\n",
      "|    4|[1.08249518829726...|4.363302147053985|\n",
      "|    4|[1.12412961861639...|4.363302147053985|\n",
      "|    4|[1.16576404893552...|4.363302147053985|\n",
      "|    4|[1.29066733989289...|4.363302147053985|\n",
      "|    4|[1.33230177021202...|4.363302147053985|\n",
      "|    4|[1.33230177021202...|4.363302147053985|\n",
      "|    4|[1.37393620053115...|4.363302147053985|\n",
      "|    4|[1.37393620053115...|4.363302147053985|\n",
      "+-----+--------------------+-----------------+\n",
      "only showing top 20 rows\n",
      "\n"
     ]
    }
   ],
   "source": [
    "forestModel.transform(abalone_train).show()"
   ]
  },
  {
   "cell_type": "code",
   "execution_count": null,
   "metadata": {},
   "outputs": [],
   "source": []
  }
 ],
 "metadata": {
  "kernelspec": {
   "display_name": "Python 3",
   "language": "python",
   "name": "python3"
  },
  "language_info": {
   "codemirror_mode": {
    "name": "ipython",
    "version": 3
   },
   "file_extension": ".py",
   "mimetype": "text/x-python",
   "name": "python",
   "nbconvert_exporter": "python",
   "pygments_lexer": "ipython3",
   "version": "3.6.6"
  }
 },
 "nbformat": 4,
 "nbformat_minor": 2
}
